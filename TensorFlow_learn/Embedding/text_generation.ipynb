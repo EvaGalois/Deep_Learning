{
 "cells": [
  {
   "cell_type": "code",
   "execution_count": 1,
   "metadata": {},
   "outputs": [
    {
     "name": "stdout",
     "output_type": "stream",
     "text": [
      "2.1.0\n",
      "sys.version_info(major=3, minor=6, micro=4, releaselevel='final', serial=0)\n",
      "matplotlib 2.2.3\n",
      "numpy 1.18.1\n",
      "pandas 0.22.0\n",
      "sklearn 0.19.1\n",
      "tensorflow 2.1.0\n",
      "tensorflow_core.python.keras.api._v2.keras 2.2.4-tf\n"
     ]
    }
   ],
   "source": [
    "import matplotlib as mpl\n",
    "import matplotlib.pyplot as plt\n",
    "%matplotlib inline\n",
    "import numpy as np\n",
    "import sklearn\n",
    "import pandas as pd\n",
    "import os\n",
    "import sys\n",
    "import time\n",
    "import tensorflow as tf\n",
    "\n",
    "from tensorflow import keras\n",
    "\n",
    "print(tf.__version__)\n",
    "print(sys.version_info)\n",
    "for module in mpl, np, pd, sklearn, tf, keras:\n",
    "    print(module.__name__, module.__version__)"
   ]
  },
  {
   "cell_type": "code",
   "execution_count": 2,
   "metadata": {},
   "outputs": [
    {
     "name": "stdout",
     "output_type": "stream",
     "text": [
      "1115394\n",
      "First Citizen:\n",
      "Before we proceed any further, hear me speak.\n",
      "\n",
      "All:\n",
      "Speak, speak.\n",
      "\n",
      "First Citizen:\n",
      "You\n"
     ]
    }
   ],
   "source": [
    "# https://storage.googleapis.com/download.tensorflow.org/data/shakespeare.txt\n",
    "input_filepath = \"./shakespeare.txt\"\n",
    "text = open(input_filepath, 'r').read()\n",
    "\n",
    "print(len(text))\n",
    "print(text[0:100])"
   ]
  },
  {
   "cell_type": "code",
   "execution_count": 5,
   "metadata": {},
   "outputs": [
    {
     "name": "stdout",
     "output_type": "stream",
     "text": [
      "65\n",
      "['\\n', ' ', '!', '$', '&', \"'\", ',', '-', '.', '3', ':', ';', '?', 'A', 'B', 'C', 'D', 'E', 'F', 'G', 'H', 'I', 'J', 'K', 'L', 'M', 'N', 'O', 'P', 'Q', 'R', 'S', 'T', 'U', 'V', 'W', 'X', 'Y', 'Z', 'a', 'b', 'c', 'd', 'e', 'f', 'g', 'h', 'i', 'j', 'k', 'l', 'm', 'n', 'o', 'p', 'q', 'r', 's', 't', 'u', 'v', 'w', 'x', 'y', 'z']\n"
     ]
    }
   ],
   "source": [
    "# 1. generate vocab\n",
    "# 2. build mapping char->id\n",
    "# 3. data -> id_data\n",
    "# 4. abcd -> bcd<eos>\n",
    "\n",
    "vocab = sorted(set(text))\n",
    "print(len(vocab))\n",
    "print(vocab)"
   ]
  },
  {
   "cell_type": "code",
   "execution_count": 6,
   "metadata": {},
   "outputs": [
    {
     "name": "stdout",
     "output_type": "stream",
     "text": [
      "{'\\n': 0, ' ': 1, '!': 2, '$': 3, '&': 4, \"'\": 5, ',': 6, '-': 7, '.': 8, '3': 9, ':': 10, ';': 11, '?': 12, 'A': 13, 'B': 14, 'C': 15, 'D': 16, 'E': 17, 'F': 18, 'G': 19, 'H': 20, 'I': 21, 'J': 22, 'K': 23, 'L': 24, 'M': 25, 'N': 26, 'O': 27, 'P': 28, 'Q': 29, 'R': 30, 'S': 31, 'T': 32, 'U': 33, 'V': 34, 'W': 35, 'X': 36, 'Y': 37, 'Z': 38, 'a': 39, 'b': 40, 'c': 41, 'd': 42, 'e': 43, 'f': 44, 'g': 45, 'h': 46, 'i': 47, 'j': 48, 'k': 49, 'l': 50, 'm': 51, 'n': 52, 'o': 53, 'p': 54, 'q': 55, 'r': 56, 's': 57, 't': 58, 'u': 59, 'v': 60, 'w': 61, 'x': 62, 'y': 63, 'z': 64}\n"
     ]
    }
   ],
   "source": [
    "char2idx = {char:idx for idx, char in enumerate(vocab)}\n",
    "print(char2idx)"
   ]
  },
  {
   "cell_type": "code",
   "execution_count": 9,
   "metadata": {},
   "outputs": [
    {
     "name": "stdout",
     "output_type": "stream",
     "text": [
      "['\\n' ' ' '!' '$' '&' \"'\" ',' '-' '.' '3' ':' ';' '?' 'A' 'B' 'C' 'D' 'E'\n",
      " 'F' 'G' 'H' 'I' 'J' 'K' 'L' 'M' 'N' 'O' 'P' 'Q' 'R' 'S' 'T' 'U' 'V' 'W'\n",
      " 'X' 'Y' 'Z' 'a' 'b' 'c' 'd' 'e' 'f' 'g' 'h' 'i' 'j' 'k' 'l' 'm' 'n' 'o'\n",
      " 'p' 'q' 'r' 's' 't' 'u' 'v' 'w' 'x' 'y' 'z']\n"
     ]
    }
   ],
   "source": [
    "idx2char = np.array(vocab)\n",
    "print(idx2char)"
   ]
  },
  {
   "cell_type": "code",
   "execution_count": 10,
   "metadata": {},
   "outputs": [
    {
     "name": "stdout",
     "output_type": "stream",
     "text": [
      "[18 47 56 57 58  1 15 47 58 47]\n",
      "First Citi\n"
     ]
    }
   ],
   "source": [
    "text_as_int = np.array([char2idx[c] for c in text])\n",
    "print(text_as_int[0:10])\n",
    "print(text[0:10])"
   ]
  },
  {
   "cell_type": "code",
   "execution_count": 11,
   "metadata": {},
   "outputs": [
    {
     "name": "stdout",
     "output_type": "stream",
     "text": [
      "tf.Tensor(18, shape=(), dtype=int64) F\n",
      "tf.Tensor(47, shape=(), dtype=int64) i\n",
      "tf.Tensor(\n",
      "[18 47 56 57 58  1 15 47 58 47 64 43 52 10  0 14 43 44 53 56 43  1 61 43\n",
      "  1 54 56 53 41 43 43 42  1 39 52 63  1 44 59 56 58 46 43 56  6  1 46 43\n",
      " 39 56  1 51 43  1 57 54 43 39 49  8  0  0 13 50 50 10  0 31 54 43 39 49\n",
      "  6  1 57 54 43 39 49  8  0  0 18 47 56 57 58  1 15 47 58 47 64 43 52 10\n",
      "  0 37 53 59  1], shape=(101,), dtype=int64)\n",
      "'First Citizen:\\nBefore we proceed any further, hear me speak.\\n\\nAll:\\nSpeak, speak.\\n\\nFirst Citizen:\\nYou '\n",
      "tf.Tensor(\n",
      "[39 56 43  1 39 50 50  1 56 43 57 53 50 60 43 42  1 56 39 58 46 43 56  1\n",
      " 58 53  1 42 47 43  1 58 46 39 52  1 58 53  1 44 39 51 47 57 46 12  0  0\n",
      " 13 50 50 10  0 30 43 57 53 50 60 43 42  8  1 56 43 57 53 50 60 43 42  8\n",
      "  0  0 18 47 56 57 58  1 15 47 58 47 64 43 52 10  0 18 47 56 57 58  6  1\n",
      " 63 53 59  1 49], shape=(101,), dtype=int64)\n",
      "'are all resolved rather to die than to famish?\\n\\nAll:\\nResolved. resolved.\\n\\nFirst Citizen:\\nFirst, you k'\n"
     ]
    }
   ],
   "source": [
    "def split_input_target(id_text):\n",
    "    \"\"\"abcde -> abcd, bcde\"\"\"\n",
    "    return id_text[0:-1], id_text[1:]\n",
    "\n",
    "char_dataset = tf.data.Dataset.from_tensor_slices(text_as_int)\n",
    "seq_length = 100\n",
    "seq_dataset = char_dataset.batch(seq_length + 1,\n",
    "                                 drop_remainder = True)\n",
    "for ch_id in char_dataset.take(2):\n",
    "    print(ch_id, idx2char[ch_id.numpy()])\n",
    "\n",
    "for seq_id in seq_dataset.take(2):\n",
    "    print(seq_id)\n",
    "    print(repr(''.join(idx2char[seq_id.numpy()])))"
   ]
  },
  {
   "cell_type": "code",
   "execution_count": 12,
   "metadata": {},
   "outputs": [
    {
     "name": "stdout",
     "output_type": "stream",
     "text": [
      "[18 47 56 57 58  1 15 47 58 47 64 43 52 10  0 14 43 44 53 56 43  1 61 43\n",
      "  1 54 56 53 41 43 43 42  1 39 52 63  1 44 59 56 58 46 43 56  6  1 46 43\n",
      " 39 56  1 51 43  1 57 54 43 39 49  8  0  0 13 50 50 10  0 31 54 43 39 49\n",
      "  6  1 57 54 43 39 49  8  0  0 18 47 56 57 58  1 15 47 58 47 64 43 52 10\n",
      "  0 37 53 59]\n",
      "[47 56 57 58  1 15 47 58 47 64 43 52 10  0 14 43 44 53 56 43  1 61 43  1\n",
      " 54 56 53 41 43 43 42  1 39 52 63  1 44 59 56 58 46 43 56  6  1 46 43 39\n",
      " 56  1 51 43  1 57 54 43 39 49  8  0  0 13 50 50 10  0 31 54 43 39 49  6\n",
      "  1 57 54 43 39 49  8  0  0 18 47 56 57 58  1 15 47 58 47 64 43 52 10  0\n",
      " 37 53 59  1]\n",
      "[39 56 43  1 39 50 50  1 56 43 57 53 50 60 43 42  1 56 39 58 46 43 56  1\n",
      " 58 53  1 42 47 43  1 58 46 39 52  1 58 53  1 44 39 51 47 57 46 12  0  0\n",
      " 13 50 50 10  0 30 43 57 53 50 60 43 42  8  1 56 43 57 53 50 60 43 42  8\n",
      "  0  0 18 47 56 57 58  1 15 47 58 47 64 43 52 10  0 18 47 56 57 58  6  1\n",
      " 63 53 59  1]\n",
      "[56 43  1 39 50 50  1 56 43 57 53 50 60 43 42  1 56 39 58 46 43 56  1 58\n",
      " 53  1 42 47 43  1 58 46 39 52  1 58 53  1 44 39 51 47 57 46 12  0  0 13\n",
      " 50 50 10  0 30 43 57 53 50 60 43 42  8  1 56 43 57 53 50 60 43 42  8  0\n",
      "  0 18 47 56 57 58  1 15 47 58 47 64 43 52 10  0 18 47 56 57 58  6  1 63\n",
      " 53 59  1 49]\n"
     ]
    }
   ],
   "source": [
    "seq_dataset = seq_dataset.map(split_input_target)\n",
    "\n",
    "for item_input, item_output in seq_dataset.take(2):\n",
    "    print(item_input.numpy())\n",
    "    print(item_output.numpy())"
   ]
  },
  {
   "cell_type": "code",
   "execution_count": 13,
   "metadata": {},
   "outputs": [],
   "source": [
    "batch_size = 64\n",
    "buffer_size = 10000\n",
    "\n",
    "seq_dataset = seq_dataset.shuffle(buffer_size).batch(\n",
    "    batch_size, drop_remainder=True)"
   ]
  },
  {
   "cell_type": "code",
   "execution_count": 16,
   "metadata": {},
   "outputs": [
    {
     "name": "stdout",
     "output_type": "stream",
     "text": [
      "Model: \"sequential\"\n",
      "_________________________________________________________________\n",
      "Layer (type)                 Output Shape              Param #   \n",
      "=================================================================\n",
      "embedding (Embedding)        (64, None, 256)           16640     \n",
      "_________________________________________________________________\n",
      "simple_rnn (SimpleRNN)       (64, None, 1024)          1311744   \n",
      "_________________________________________________________________\n",
      "dense (Dense)                (64, None, 65)            66625     \n",
      "=================================================================\n",
      "Total params: 1,395,009\n",
      "Trainable params: 1,395,009\n",
      "Non-trainable params: 0\n",
      "_________________________________________________________________\n"
     ]
    }
   ],
   "source": [
    "vocab_size = len(vocab)\n",
    "embedding_dim = 256\n",
    "rnn_units = 1024\n",
    "\n",
    "def build_model(vocab_size, embedding_dim, rnn_units, batch_size):\n",
    "    model = keras.models.Sequential([\n",
    "        keras.layers.Embedding(vocab_size, embedding_dim,\n",
    "                               batch_input_shape = [batch_size, None]),\n",
    "        keras.layers.SimpleRNN(units = rnn_units,\n",
    "                               return_sequences=True),\n",
    "        keras.layers.Dense(vocab_size)\n",
    "    ])\n",
    "    return model\n",
    "\n",
    "model = build_model(\n",
    "    vocab_size = vocab_size,\n",
    "    embedding_dim = embedding_dim,\n",
    "    rnn_units = rnn_units,\n",
    "    batch_size = batch_size)\n",
    "\n",
    "model.summary()"
   ]
  },
  {
   "cell_type": "code",
   "execution_count": 17,
   "metadata": {},
   "outputs": [
    {
     "name": "stdout",
     "output_type": "stream",
     "text": [
      "(64, 100, 65)\n"
     ]
    }
   ],
   "source": [
    "for input_example_batch, target_example_batch in seq_dataset.take(1):\n",
    "    example_batch_predictions = model(input_example_batch)\n",
    "    print(example_batch_predictions.shape)"
   ]
  },
  {
   "cell_type": "code",
   "execution_count": 20,
   "metadata": {},
   "outputs": [
    {
     "name": "stdout",
     "output_type": "stream",
     "text": [
      "tf.Tensor(\n",
      "[[36]\n",
      " [24]\n",
      " [25]\n",
      " [15]\n",
      " [60]\n",
      " [26]\n",
      " [31]\n",
      " [28]\n",
      " [30]\n",
      " [31]\n",
      " [46]\n",
      " [34]\n",
      " [41]\n",
      " [12]\n",
      " [49]\n",
      " [44]\n",
      " [ 0]\n",
      " [59]\n",
      " [23]\n",
      " [57]\n",
      " [ 4]\n",
      " [25]\n",
      " [63]\n",
      " [37]\n",
      " [27]\n",
      " [58]\n",
      " [55]\n",
      " [60]\n",
      " [ 2]\n",
      " [44]\n",
      " [57]\n",
      " [50]\n",
      " [25]\n",
      " [11]\n",
      " [32]\n",
      " [53]\n",
      " [46]\n",
      " [55]\n",
      " [26]\n",
      " [ 9]\n",
      " [25]\n",
      " [ 2]\n",
      " [19]\n",
      " [10]\n",
      " [ 5]\n",
      " [ 1]\n",
      " [17]\n",
      " [53]\n",
      " [39]\n",
      " [54]\n",
      " [51]\n",
      " [55]\n",
      " [42]\n",
      " [30]\n",
      " [29]\n",
      " [55]\n",
      " [17]\n",
      " [ 9]\n",
      " [46]\n",
      " [17]\n",
      " [62]\n",
      " [26]\n",
      " [33]\n",
      " [22]\n",
      " [14]\n",
      " [35]\n",
      " [39]\n",
      " [ 2]\n",
      " [61]\n",
      " [39]\n",
      " [59]\n",
      " [27]\n",
      " [40]\n",
      " [19]\n",
      " [51]\n",
      " [46]\n",
      " [ 7]\n",
      " [58]\n",
      " [40]\n",
      " [46]\n",
      " [30]\n",
      " [60]\n",
      " [48]\n",
      " [ 4]\n",
      " [ 6]\n",
      " [36]\n",
      " [ 6]\n",
      " [27]\n",
      " [59]\n",
      " [21]\n",
      " [39]\n",
      " [17]\n",
      " [26]\n",
      " [64]\n",
      " [26]\n",
      " [53]\n",
      " [44]\n",
      " [31]\n",
      " [16]\n",
      " [19]], shape=(100, 1), dtype=int64)\n",
      "tf.Tensor(\n",
      "[36 24 25 15 60 26 31 28 30 31 46 34 41 12 49 44  0 59 23 57  4 25 63 37\n",
      " 27 58 55 60  2 44 57 50 25 11 32 53 46 55 26  9 25  2 19 10  5  1 17 53\n",
      " 39 54 51 55 42 30 29 55 17  9 46 17 62 26 33 22 14 35 39  2 61 39 59 27\n",
      " 40 19 51 46  7 58 40 46 30 60 48  4  6 36  6 27 59 21 39 17 26 64 26 53\n",
      " 44 31 16 19], shape=(100,), dtype=int64)\n"
     ]
    }
   ],
   "source": [
    "# random sampling.\n",
    "# greedy, random.\n",
    "sample_indices = tf.random.categorical(logits = example_batch_predictions[0], num_samples = 1)\n",
    "print(sample_indices)\n",
    "# (100, 65) -> (100, 1)\n",
    "sample_indices = tf.squeeze(sample_indices, axis = -1)\n",
    "print(sample_indices)"
   ]
  },
  {
   "cell_type": "code",
   "execution_count": 22,
   "metadata": {},
   "outputs": [
    {
     "name": "stdout",
     "output_type": "stream",
     "text": [
      "Input:  'he gods will not be good unto\\nus. When we banished him, we respected not them;\\nand, he returning to '\n",
      "\n",
      "Output:  'e gods will not be good unto\\nus. When we banished him, we respected not them;\\nand, he returning to b'\n",
      "\n",
      "Predictions:  \"XLMCvNSPRShVc?kf\\nuKs&MyYOtqv!fslM;TohqN3M!G:' EoapmqdRQqE3hExNUJBWa!wauObGmh-tbhRvj&,X,OuIaENzNofSDG\"\n"
     ]
    }
   ],
   "source": [
    "print(\"Input: \", repr(\"\".join(idx2char[input_example_batch[0]])))\n",
    "print()\n",
    "print(\"Output: \", repr(\"\".join(idx2char[target_example_batch[0]])))\n",
    "print()\n",
    "print(\"Predictions: \", repr(\"\".join(idx2char[sample_indices])))"
   ]
  },
  {
   "cell_type": "code",
   "execution_count": 24,
   "metadata": {},
   "outputs": [
    {
     "name": "stdout",
     "output_type": "stream",
     "text": [
      "(64, 100)\n",
      "4.1844716\n"
     ]
    }
   ],
   "source": [
    "def loss(labels, logits):\n",
    "    return keras.losses.sparse_categorical_crossentropy(\n",
    "        labels, logits, from_logits=True)\n",
    "\n",
    "model.compile(optimizer = 'adam', loss = loss)\n",
    "example_loss = loss(target_example_batch, example_batch_predictions)\n",
    "print(example_loss.shape)\n",
    "print(example_loss.numpy().mean())"
   ]
  },
  {
   "cell_type": "code",
   "execution_count": 25,
   "metadata": {},
   "outputs": [
    {
     "name": "stdout",
     "output_type": "stream",
     "text": [
      "Train for 172 steps\n",
      "Epoch 1/100\n",
      "172/172 [==============================] - 124s 722ms/step - loss: 2.8352\n",
      "Epoch 2/100\n",
      "172/172 [==============================] - 121s 704ms/step - loss: 2.1670\n",
      "Epoch 3/100\n",
      "172/172 [==============================] - 125s 725ms/step - loss: 1.9509\n",
      "Epoch 4/100\n",
      "172/172 [==============================] - 125s 728ms/step - loss: 1.8039\n",
      "Epoch 5/100\n",
      "172/172 [==============================] - 124s 719ms/step - loss: 1.6965\n",
      "Epoch 6/100\n",
      "172/172 [==============================] - 132s 770ms/step - loss: 1.6167\n",
      "Epoch 7/100\n",
      "172/172 [==============================] - 124s 721ms/step - loss: 1.5553\n",
      "Epoch 8/100\n",
      "172/172 [==============================] - 124s 723ms/step - loss: 1.5081\n",
      "Epoch 9/100\n",
      "172/172 [==============================] - 122s 708ms/step - loss: 1.4711\n",
      "Epoch 10/100\n",
      "172/172 [==============================] - 121s 706ms/step - loss: 1.4399\n",
      "Epoch 11/100\n",
      "172/172 [==============================] - 125s 728ms/step - loss: 1.4127\n",
      "Epoch 12/100\n",
      "172/172 [==============================] - 122s 707ms/step - loss: 1.3901\n",
      "Epoch 13/100\n",
      "172/172 [==============================] - 122s 712ms/step - loss: 1.3707\n",
      "Epoch 14/100\n",
      "172/172 [==============================] - 130s 753ms/step - loss: 1.3539\n",
      "Epoch 15/100\n",
      "172/172 [==============================] - 135s 786ms/step - loss: 1.3364\n",
      "Epoch 16/100\n",
      "172/172 [==============================] - 128s 746ms/step - loss: 1.3188\n",
      "Epoch 17/100\n",
      "172/172 [==============================] - 133s 772ms/step - loss: 1.3062\n",
      "Epoch 18/100\n",
      "172/172 [==============================] - 135s 788ms/step - loss: 1.2920\n",
      "Epoch 19/100\n",
      "172/172 [==============================] - 137s 799ms/step - loss: 1.2788\n",
      "Epoch 20/100\n",
      "172/172 [==============================] - 140s 812ms/step - loss: 1.2656\n",
      "Epoch 21/100\n",
      "172/172 [==============================] - 128s 747ms/step - loss: 1.2540\n",
      "Epoch 22/100\n",
      "172/172 [==============================] - 130s 756ms/step - loss: 1.2412\n",
      "Epoch 23/100\n",
      "172/172 [==============================] - 128s 745ms/step - loss: 1.2306\n",
      "Epoch 24/100\n",
      "172/172 [==============================] - 132s 765ms/step - loss: 1.2179\n",
      "Epoch 25/100\n",
      "172/172 [==============================] - 125s 728ms/step - loss: 1.2071\n",
      "Epoch 26/100\n",
      "172/172 [==============================] - 125s 726ms/step - loss: 1.1965\n",
      "Epoch 27/100\n",
      "172/172 [==============================] - 123s 717ms/step - loss: 1.1833\n",
      "Epoch 28/100\n",
      "172/172 [==============================] - 120s 699ms/step - loss: 1.1727\n",
      "Epoch 29/100\n",
      "172/172 [==============================] - 126s 730ms/step - loss: 1.1623\n",
      "Epoch 30/100\n",
      "172/172 [==============================] - 120s 697ms/step - loss: 1.1522\n",
      "Epoch 31/100\n",
      "172/172 [==============================] - 127s 740ms/step - loss: 1.1401\n",
      "Epoch 32/100\n",
      "172/172 [==============================] - 130s 756ms/step - loss: 1.1316\n",
      "Epoch 33/100\n",
      "172/172 [==============================] - 146s 847ms/step - loss: 1.1227\n",
      "Epoch 34/100\n",
      "172/172 [==============================] - 141s 821ms/step - loss: 1.1107\n",
      "Epoch 35/100\n",
      "172/172 [==============================] - 122s 712ms/step - loss: 1.1007\n",
      "Epoch 36/100\n",
      "172/172 [==============================] - 183s 1s/step - loss: 1.0906\n",
      "Epoch 37/100\n",
      "172/172 [==============================] - 283s 2s/step - loss: 1.0805\n",
      "Epoch 38/100\n",
      "172/172 [==============================] - 299s 2s/step - loss: 1.0747\n",
      "Epoch 39/100\n",
      "172/172 [==============================] - 293s 2s/step - loss: 1.0614\n",
      "Epoch 40/100\n",
      "172/172 [==============================] - 224s 1s/step - loss: 1.0550\n",
      "Epoch 41/100\n",
      "172/172 [==============================] - 186s 1s/step - loss: 1.0491\n",
      "Epoch 42/100\n",
      "172/172 [==============================] - 287s 2s/step - loss: 1.0406\n",
      "Epoch 43/100\n",
      "172/172 [==============================] - 297s 2s/step - loss: 1.0315\n",
      "Epoch 44/100\n",
      "172/172 [==============================] - 288s 2s/step - loss: 1.0241\n",
      "Epoch 45/100\n",
      "172/172 [==============================] - 293s 2s/step - loss: 1.0216\n",
      "Epoch 46/100\n",
      "172/172 [==============================] - 295s 2s/step - loss: 1.0125\n",
      "Epoch 47/100\n",
      "172/172 [==============================] - 302s 2s/step - loss: 1.0057\n",
      "Epoch 48/100\n",
      "172/172 [==============================] - 290s 2s/step - loss: 1.0036\n",
      "Epoch 49/100\n",
      "172/172 [==============================] - 288s 2s/step - loss: 0.9945\n",
      "Epoch 50/100\n",
      "172/172 [==============================] - 307s 2s/step - loss: 0.9861\n",
      "Epoch 51/100\n",
      "172/172 [==============================] - 300s 2s/step - loss: 0.9868\n",
      "Epoch 52/100\n",
      "172/172 [==============================] - 288s 2s/step - loss: 0.9812\n",
      "Epoch 53/100\n",
      "172/172 [==============================] - 312s 2s/step - loss: 0.9751\n",
      "Epoch 54/100\n",
      "172/172 [==============================] - 317s 2s/step - loss: 0.9703\n",
      "Epoch 55/100\n",
      "172/172 [==============================] - 315s 2s/step - loss: 0.9686\n",
      "Epoch 56/100\n",
      "172/172 [==============================] - 323s 2s/step - loss: 0.9640\n",
      "Epoch 57/100\n",
      "172/172 [==============================] - 355s 2s/step - loss: 0.9629\n",
      "Epoch 58/100\n",
      "172/172 [==============================] - 330s 2s/step - loss: 0.9590\n",
      "Epoch 59/100\n",
      "172/172 [==============================] - 319s 2s/step - loss: 0.9611\n",
      "Epoch 60/100\n",
      "172/172 [==============================] - 323s 2s/step - loss: 0.9568\n",
      "Epoch 61/100\n",
      "172/172 [==============================] - 322s 2s/step - loss: 0.9585\n",
      "Epoch 62/100\n",
      "172/172 [==============================] - 344s 2s/step - loss: 0.9536\n",
      "Epoch 63/100\n",
      "172/172 [==============================] - 316s 2s/step - loss: 0.9470\n",
      "Epoch 64/100\n",
      "172/172 [==============================] - 288s 2s/step - loss: 0.9526\n",
      "Epoch 65/100\n",
      "172/172 [==============================] - 283s 2s/step - loss: 0.9526\n",
      "Epoch 66/100\n",
      "172/172 [==============================] - 280s 2s/step - loss: 0.9465\n",
      "Epoch 67/100\n",
      "172/172 [==============================] - 279s 2s/step - loss: 0.9480\n",
      "Epoch 68/100\n",
      "172/172 [==============================] - 279s 2s/step - loss: 0.9487\n",
      "Epoch 69/100\n",
      "172/172 [==============================] - 278s 2s/step - loss: 0.9496\n",
      "Epoch 70/100\n",
      "172/172 [==============================] - 281s 2s/step - loss: 0.9467\n",
      "Epoch 71/100\n",
      "172/172 [==============================] - 282s 2s/step - loss: 0.9491\n",
      "Epoch 72/100\n",
      "172/172 [==============================] - 280s 2s/step - loss: 0.9462\n",
      "Epoch 73/100\n",
      "172/172 [==============================] - 279s 2s/step - loss: 0.9468\n",
      "Epoch 74/100\n",
      "172/172 [==============================] - 280s 2s/step - loss: 0.9490\n",
      "Epoch 75/100\n",
      "172/172 [==============================] - 277s 2s/step - loss: 0.9519\n",
      "Epoch 76/100\n",
      "172/172 [==============================] - 278s 2s/step - loss: 0.9528\n",
      "Epoch 77/100\n",
      "172/172 [==============================] - 279s 2s/step - loss: 0.9546\n",
      "Epoch 78/100\n",
      "172/172 [==============================] - 281s 2s/step - loss: 0.9506\n",
      "Epoch 79/100\n",
      "172/172 [==============================] - 279s 2s/step - loss: 0.9557\n",
      "Epoch 80/100\n",
      "172/172 [==============================] - 278s 2s/step - loss: 0.9613\n",
      "Epoch 81/100\n",
      "172/172 [==============================] - 278s 2s/step - loss: 0.9654\n",
      "Epoch 82/100\n",
      "172/172 [==============================] - 279s 2s/step - loss: 0.9625\n",
      "Epoch 83/100\n",
      "172/172 [==============================] - 280s 2s/step - loss: 0.9680\n",
      "Epoch 84/100\n",
      "172/172 [==============================] - 281s 2s/step - loss: 0.9659\n",
      "Epoch 85/100\n",
      "172/172 [==============================] - 283s 2s/step - loss: 0.9694\n",
      "Epoch 86/100\n",
      "172/172 [==============================] - 280s 2s/step - loss: 0.9719\n",
      "Epoch 87/100\n",
      "172/172 [==============================] - 279s 2s/step - loss: 0.9698\n",
      "Epoch 88/100\n",
      "172/172 [==============================] - 279s 2s/step - loss: 0.9713\n",
      "Epoch 89/100\n",
      "172/172 [==============================] - 279s 2s/step - loss: 0.9839\n",
      "Epoch 90/100\n",
      "172/172 [==============================] - 280s 2s/step - loss: 0.9824\n",
      "Epoch 91/100\n",
      "172/172 [==============================] - 277s 2s/step - loss: 0.9793\n",
      "Epoch 92/100\n",
      "172/172 [==============================] - 280s 2s/step - loss: 0.9894\n",
      "Epoch 93/100\n",
      "172/172 [==============================] - 281s 2s/step - loss: 0.9891\n",
      "Epoch 94/100\n",
      "172/172 [==============================] - 280s 2s/step - loss: 0.9928\n",
      "Epoch 95/100\n",
      "172/172 [==============================] - 281s 2s/step - loss: 0.9960\n",
      "Epoch 96/100\n",
      "172/172 [==============================] - 284s 2s/step - loss: 1.0021\n",
      "Epoch 97/100\n"
     ]
    },
    {
     "name": "stdout",
     "output_type": "stream",
     "text": [
      "172/172 [==============================] - 281s 2s/step - loss: 1.0038\n",
      "Epoch 98/100\n",
      "172/172 [==============================] - 280s 2s/step - loss: 1.0076\n",
      "Epoch 99/100\n",
      "172/172 [==============================] - 280s 2s/step - loss: 1.0108\n",
      "Epoch 100/100\n",
      "172/172 [==============================] - 282s 2s/step - loss: 1.0156\n"
     ]
    }
   ],
   "source": [
    "output_dir = \"./text_generation_checkpoints\"\n",
    "if not os.path.exists(output_dir):\n",
    "    os.mkdir(output_dir)\n",
    "checkpoint_prefix = os.path.join(output_dir, 'ckpt_{epoch}')\n",
    "checkpoint_callback = keras.callbacks.ModelCheckpoint(\n",
    "    filepath = checkpoint_prefix,\n",
    "    save_weights_only = True)\n",
    "\n",
    "epochs = 100\n",
    "history = model.fit(seq_dataset, epochs = epochs,\n",
    "                    callbacks = [checkpoint_callback])"
   ]
  },
  {
   "cell_type": "code",
   "execution_count": 26,
   "metadata": {},
   "outputs": [
    {
     "data": {
      "text/plain": [
       "'./text_generation_checkpoints/ckpt_100'"
      ]
     },
     "execution_count": 26,
     "metadata": {},
     "output_type": "execute_result"
    }
   ],
   "source": [
    "tf.train.latest_checkpoint(output_dir)"
   ]
  },
  {
   "cell_type": "code",
   "execution_count": 28,
   "metadata": {},
   "outputs": [
    {
     "ename": "ValueError",
     "evalue": "Shapes (1024,) and (4096,) are incompatible",
     "output_type": "error",
     "traceback": [
      "\u001b[0;31m---------------------------------------------------------------------------\u001b[0m",
      "\u001b[0;31mValueError\u001b[0m                                Traceback (most recent call last)",
      "\u001b[0;32m<ipython-input-28-f659f628240b>\u001b[0m in \u001b[0;36m<module>\u001b[0;34m()\u001b[0m\n\u001b[1;32m      3\u001b[0m                      \u001b[0mrnn_units\u001b[0m\u001b[0;34m,\u001b[0m\u001b[0;34m\u001b[0m\u001b[0m\n\u001b[1;32m      4\u001b[0m                      batch_size = 1)\n\u001b[0;32m----> 5\u001b[0;31m \u001b[0mmodel2\u001b[0m\u001b[0;34m.\u001b[0m\u001b[0mload_weights\u001b[0m\u001b[0;34m(\u001b[0m\u001b[0mtf\u001b[0m\u001b[0;34m.\u001b[0m\u001b[0mtrain\u001b[0m\u001b[0;34m.\u001b[0m\u001b[0mlatest_checkpoint\u001b[0m\u001b[0;34m(\u001b[0m\u001b[0moutput_dir\u001b[0m\u001b[0;34m)\u001b[0m\u001b[0;34m)\u001b[0m\u001b[0;34m\u001b[0m\u001b[0m\n\u001b[0m\u001b[1;32m      6\u001b[0m \u001b[0mmodel2\u001b[0m\u001b[0;34m.\u001b[0m\u001b[0mbuild\u001b[0m\u001b[0;34m(\u001b[0m\u001b[0mtf\u001b[0m\u001b[0;34m.\u001b[0m\u001b[0mTensorShape\u001b[0m\u001b[0;34m(\u001b[0m\u001b[0;34m[\u001b[0m\u001b[0;36m1\u001b[0m\u001b[0;34m,\u001b[0m \u001b[0;32mNone\u001b[0m\u001b[0;34m]\u001b[0m\u001b[0;34m)\u001b[0m\u001b[0;34m)\u001b[0m\u001b[0;34m\u001b[0m\u001b[0m\n\u001b[1;32m      7\u001b[0m \u001b[0;31m# start ch sequence A,\u001b[0m\u001b[0;34m\u001b[0m\u001b[0;34m\u001b[0m\u001b[0m\n",
      "\u001b[0;32m~/anaconda3/lib/python3.6/site-packages/tensorflow_core/python/keras/engine/training.py\u001b[0m in \u001b[0;36mload_weights\u001b[0;34m(self, filepath, by_name, skip_mismatch)\u001b[0m\n\u001b[1;32m    232\u001b[0m         raise ValueError('Load weights is not yet supported with TPUStrategy '\n\u001b[1;32m    233\u001b[0m                          'with steps_per_run greater than 1.')\n\u001b[0;32m--> 234\u001b[0;31m     \u001b[0;32mreturn\u001b[0m \u001b[0msuper\u001b[0m\u001b[0;34m(\u001b[0m\u001b[0mModel\u001b[0m\u001b[0;34m,\u001b[0m \u001b[0mself\u001b[0m\u001b[0;34m)\u001b[0m\u001b[0;34m.\u001b[0m\u001b[0mload_weights\u001b[0m\u001b[0;34m(\u001b[0m\u001b[0mfilepath\u001b[0m\u001b[0;34m,\u001b[0m \u001b[0mby_name\u001b[0m\u001b[0;34m,\u001b[0m \u001b[0mskip_mismatch\u001b[0m\u001b[0;34m)\u001b[0m\u001b[0;34m\u001b[0m\u001b[0m\n\u001b[0m\u001b[1;32m    235\u001b[0m \u001b[0;34m\u001b[0m\u001b[0m\n\u001b[1;32m    236\u001b[0m   \u001b[0;34m@\u001b[0m\u001b[0mtrackable\u001b[0m\u001b[0;34m.\u001b[0m\u001b[0mno_automatic_dependency_tracking\u001b[0m\u001b[0;34m\u001b[0m\u001b[0m\n",
      "\u001b[0;32m~/anaconda3/lib/python3.6/site-packages/tensorflow_core/python/keras/engine/network.py\u001b[0m in \u001b[0;36mload_weights\u001b[0;34m(self, filepath, by_name, skip_mismatch)\u001b[0m\n\u001b[1;32m   1191\u001b[0m         \u001b[0msave_format\u001b[0m \u001b[0;34m=\u001b[0m \u001b[0;34m'h5'\u001b[0m\u001b[0;34m\u001b[0m\u001b[0m\n\u001b[1;32m   1192\u001b[0m     \u001b[0;32mif\u001b[0m \u001b[0msave_format\u001b[0m \u001b[0;34m==\u001b[0m \u001b[0;34m'tf'\u001b[0m\u001b[0;34m:\u001b[0m\u001b[0;34m\u001b[0m\u001b[0m\n\u001b[0;32m-> 1193\u001b[0;31m       \u001b[0mstatus\u001b[0m \u001b[0;34m=\u001b[0m \u001b[0mself\u001b[0m\u001b[0;34m.\u001b[0m\u001b[0m_trackable_saver\u001b[0m\u001b[0;34m.\u001b[0m\u001b[0mrestore\u001b[0m\u001b[0;34m(\u001b[0m\u001b[0mfilepath\u001b[0m\u001b[0;34m)\u001b[0m\u001b[0;34m\u001b[0m\u001b[0m\n\u001b[0m\u001b[1;32m   1194\u001b[0m       \u001b[0;32mif\u001b[0m \u001b[0mby_name\u001b[0m\u001b[0;34m:\u001b[0m\u001b[0;34m\u001b[0m\u001b[0m\n\u001b[1;32m   1195\u001b[0m         raise NotImplementedError(\n",
      "\u001b[0;32m~/anaconda3/lib/python3.6/site-packages/tensorflow_core/python/training/tracking/util.py\u001b[0m in \u001b[0;36mrestore\u001b[0;34m(self, save_path)\u001b[0m\n\u001b[1;32m   1281\u001b[0m         graph_view=self._graph_view)\n\u001b[1;32m   1282\u001b[0m     base.CheckpointPosition(\n\u001b[0;32m-> 1283\u001b[0;31m         checkpoint=checkpoint, proto_id=0).restore(self._graph_view.root)\n\u001b[0m\u001b[1;32m   1284\u001b[0m     load_status = CheckpointLoadStatus(\n\u001b[1;32m   1285\u001b[0m         \u001b[0mcheckpoint\u001b[0m\u001b[0;34m,\u001b[0m\u001b[0;34m\u001b[0m\u001b[0m\n",
      "\u001b[0;32m~/anaconda3/lib/python3.6/site-packages/tensorflow_core/python/training/tracking/base.py\u001b[0m in \u001b[0;36mrestore\u001b[0;34m(self, trackable)\u001b[0m\n\u001b[1;32m    207\u001b[0m         \u001b[0;31m# This object's correspondence with a checkpointed object is new, so\u001b[0m\u001b[0;34m\u001b[0m\u001b[0;34m\u001b[0m\u001b[0m\n\u001b[1;32m    208\u001b[0m         \u001b[0;31m# process deferred restorations for it and its dependencies.\u001b[0m\u001b[0;34m\u001b[0m\u001b[0;34m\u001b[0m\u001b[0m\n\u001b[0;32m--> 209\u001b[0;31m         \u001b[0mrestore_ops\u001b[0m \u001b[0;34m=\u001b[0m \u001b[0mtrackable\u001b[0m\u001b[0;34m.\u001b[0m\u001b[0m_restore_from_checkpoint_position\u001b[0m\u001b[0;34m(\u001b[0m\u001b[0mself\u001b[0m\u001b[0;34m)\u001b[0m  \u001b[0;31m# pylint: disable=protected-access\u001b[0m\u001b[0;34m\u001b[0m\u001b[0m\n\u001b[0m\u001b[1;32m    210\u001b[0m         \u001b[0;32mif\u001b[0m \u001b[0mrestore_ops\u001b[0m\u001b[0;34m:\u001b[0m\u001b[0;34m\u001b[0m\u001b[0m\n\u001b[1;32m    211\u001b[0m           \u001b[0mself\u001b[0m\u001b[0;34m.\u001b[0m\u001b[0m_checkpoint\u001b[0m\u001b[0;34m.\u001b[0m\u001b[0mnew_restore_ops\u001b[0m\u001b[0;34m(\u001b[0m\u001b[0mrestore_ops\u001b[0m\u001b[0;34m)\u001b[0m\u001b[0;34m\u001b[0m\u001b[0m\n",
      "\u001b[0;32m~/anaconda3/lib/python3.6/site-packages/tensorflow_core/python/training/tracking/base.py\u001b[0m in \u001b[0;36m_restore_from_checkpoint_position\u001b[0;34m(self, checkpoint_position)\u001b[0m\n\u001b[1;32m    906\u001b[0m     restore_ops.extend(\n\u001b[1;32m    907\u001b[0m         current_position.checkpoint.restore_saveables(\n\u001b[0;32m--> 908\u001b[0;31m             tensor_saveables, python_saveables))\n\u001b[0m\u001b[1;32m    909\u001b[0m     \u001b[0;32mreturn\u001b[0m \u001b[0mrestore_ops\u001b[0m\u001b[0;34m\u001b[0m\u001b[0m\n\u001b[1;32m    910\u001b[0m \u001b[0;34m\u001b[0m\u001b[0m\n",
      "\u001b[0;32m~/anaconda3/lib/python3.6/site-packages/tensorflow_core/python/training/tracking/util.py\u001b[0m in \u001b[0;36mrestore_saveables\u001b[0;34m(self, tensor_saveables, python_saveables)\u001b[0m\n\u001b[1;32m    287\u001b[0m              \"expecting %s\") % (tensor_saveables.keys(), validated_names))\n\u001b[1;32m    288\u001b[0m       new_restore_ops = functional_saver.MultiDeviceSaver(\n\u001b[0;32m--> 289\u001b[0;31m           validated_saveables).restore(self.save_path_tensor)\n\u001b[0m\u001b[1;32m    290\u001b[0m       \u001b[0;32mif\u001b[0m \u001b[0;32mnot\u001b[0m \u001b[0mcontext\u001b[0m\u001b[0;34m.\u001b[0m\u001b[0mexecuting_eagerly\u001b[0m\u001b[0;34m(\u001b[0m\u001b[0;34m)\u001b[0m\u001b[0;34m:\u001b[0m\u001b[0;34m\u001b[0m\u001b[0m\n\u001b[1;32m    291\u001b[0m         \u001b[0;32mfor\u001b[0m \u001b[0mname\u001b[0m\u001b[0;34m,\u001b[0m \u001b[0mrestore_op\u001b[0m \u001b[0;32min\u001b[0m \u001b[0msorted\u001b[0m\u001b[0;34m(\u001b[0m\u001b[0mnew_restore_ops\u001b[0m\u001b[0;34m.\u001b[0m\u001b[0mitems\u001b[0m\u001b[0;34m(\u001b[0m\u001b[0;34m)\u001b[0m\u001b[0;34m)\u001b[0m\u001b[0;34m:\u001b[0m\u001b[0;34m\u001b[0m\u001b[0m\n",
      "\u001b[0;32m~/anaconda3/lib/python3.6/site-packages/tensorflow_core/python/training/saving/functional_saver.py\u001b[0m in \u001b[0;36mrestore\u001b[0;34m(self, file_prefix)\u001b[0m\n\u001b[1;32m    253\u001b[0m     \u001b[0;32mfor\u001b[0m \u001b[0mdevice\u001b[0m\u001b[0;34m,\u001b[0m \u001b[0msaver\u001b[0m \u001b[0;32min\u001b[0m \u001b[0msorted\u001b[0m\u001b[0;34m(\u001b[0m\u001b[0mself\u001b[0m\u001b[0;34m.\u001b[0m\u001b[0m_single_device_savers\u001b[0m\u001b[0;34m.\u001b[0m\u001b[0mitems\u001b[0m\u001b[0;34m(\u001b[0m\u001b[0;34m)\u001b[0m\u001b[0;34m)\u001b[0m\u001b[0;34m:\u001b[0m\u001b[0;34m\u001b[0m\u001b[0m\n\u001b[1;32m    254\u001b[0m       \u001b[0;32mwith\u001b[0m \u001b[0mops\u001b[0m\u001b[0;34m.\u001b[0m\u001b[0mdevice\u001b[0m\u001b[0;34m(\u001b[0m\u001b[0mdevice\u001b[0m\u001b[0;34m)\u001b[0m\u001b[0;34m:\u001b[0m\u001b[0;34m\u001b[0m\u001b[0m\n\u001b[0;32m--> 255\u001b[0;31m         \u001b[0mrestore_ops\u001b[0m\u001b[0;34m.\u001b[0m\u001b[0mupdate\u001b[0m\u001b[0;34m(\u001b[0m\u001b[0msaver\u001b[0m\u001b[0;34m.\u001b[0m\u001b[0mrestore\u001b[0m\u001b[0;34m(\u001b[0m\u001b[0mfile_prefix\u001b[0m\u001b[0;34m)\u001b[0m\u001b[0;34m)\u001b[0m\u001b[0;34m\u001b[0m\u001b[0m\n\u001b[0m\u001b[1;32m    256\u001b[0m     \u001b[0;32mreturn\u001b[0m \u001b[0mrestore_ops\u001b[0m\u001b[0;34m\u001b[0m\u001b[0m\n",
      "\u001b[0;32m~/anaconda3/lib/python3.6/site-packages/tensorflow_core/python/training/saving/functional_saver.py\u001b[0m in \u001b[0;36mrestore\u001b[0;34m(self, file_prefix)\u001b[0m\n\u001b[1;32m    100\u001b[0m                                           structured_restored_tensors):\n\u001b[1;32m    101\u001b[0m       restore_ops[saveable.name] = saveable.restore(\n\u001b[0;32m--> 102\u001b[0;31m           restored_tensors, restored_shapes=None)\n\u001b[0m\u001b[1;32m    103\u001b[0m     \u001b[0;32mreturn\u001b[0m \u001b[0mrestore_ops\u001b[0m\u001b[0;34m\u001b[0m\u001b[0m\n\u001b[1;32m    104\u001b[0m \u001b[0;34m\u001b[0m\u001b[0m\n",
      "\u001b[0;32m~/anaconda3/lib/python3.6/site-packages/tensorflow_core/python/training/saving/saveable_object_util.py\u001b[0m in \u001b[0;36mrestore\u001b[0;34m(self, restored_tensors, restored_shapes)\u001b[0m\n\u001b[1;32m    114\u001b[0m       \u001b[0mrestored_tensor\u001b[0m \u001b[0;34m=\u001b[0m \u001b[0marray_ops\u001b[0m\u001b[0;34m.\u001b[0m\u001b[0midentity\u001b[0m\u001b[0;34m(\u001b[0m\u001b[0mrestored_tensor\u001b[0m\u001b[0;34m)\u001b[0m\u001b[0;34m\u001b[0m\u001b[0m\n\u001b[1;32m    115\u001b[0m       return resource_variable_ops.shape_safe_assign_variable_handle(\n\u001b[0;32m--> 116\u001b[0;31m           self.handle_op, self._var_shape, restored_tensor)\n\u001b[0m\u001b[1;32m    117\u001b[0m \u001b[0;34m\u001b[0m\u001b[0m\n\u001b[1;32m    118\u001b[0m \u001b[0;34m\u001b[0m\u001b[0m\n",
      "\u001b[0;32m~/anaconda3/lib/python3.6/site-packages/tensorflow_core/python/ops/resource_variable_ops.py\u001b[0m in \u001b[0;36mshape_safe_assign_variable_handle\u001b[0;34m(handle, shape, value, name)\u001b[0m\n\u001b[1;32m    295\u001b[0m   \u001b[0;32mwith\u001b[0m \u001b[0m_handle_graph\u001b[0m\u001b[0;34m(\u001b[0m\u001b[0mhandle\u001b[0m\u001b[0;34m)\u001b[0m\u001b[0;34m:\u001b[0m\u001b[0;34m\u001b[0m\u001b[0m\n\u001b[1;32m    296\u001b[0m     \u001b[0mvalue_tensor\u001b[0m \u001b[0;34m=\u001b[0m \u001b[0mops\u001b[0m\u001b[0;34m.\u001b[0m\u001b[0mconvert_to_tensor\u001b[0m\u001b[0;34m(\u001b[0m\u001b[0mvalue\u001b[0m\u001b[0;34m)\u001b[0m\u001b[0;34m\u001b[0m\u001b[0m\n\u001b[0;32m--> 297\u001b[0;31m   \u001b[0mshape\u001b[0m\u001b[0;34m.\u001b[0m\u001b[0massert_is_compatible_with\u001b[0m\u001b[0;34m(\u001b[0m\u001b[0mvalue_tensor\u001b[0m\u001b[0;34m.\u001b[0m\u001b[0mshape\u001b[0m\u001b[0;34m)\u001b[0m\u001b[0;34m\u001b[0m\u001b[0m\n\u001b[0m\u001b[1;32m    298\u001b[0m   return gen_resource_variable_ops.assign_variable_op(handle,\n\u001b[1;32m    299\u001b[0m                                                       \u001b[0mvalue_tensor\u001b[0m\u001b[0;34m,\u001b[0m\u001b[0;34m\u001b[0m\u001b[0m\n",
      "\u001b[0;32m~/anaconda3/lib/python3.6/site-packages/tensorflow_core/python/framework/tensor_shape.py\u001b[0m in \u001b[0;36massert_is_compatible_with\u001b[0;34m(self, other)\u001b[0m\n\u001b[1;32m   1108\u001b[0m     \"\"\"\n\u001b[1;32m   1109\u001b[0m     \u001b[0;32mif\u001b[0m \u001b[0;32mnot\u001b[0m \u001b[0mself\u001b[0m\u001b[0;34m.\u001b[0m\u001b[0mis_compatible_with\u001b[0m\u001b[0;34m(\u001b[0m\u001b[0mother\u001b[0m\u001b[0;34m)\u001b[0m\u001b[0;34m:\u001b[0m\u001b[0;34m\u001b[0m\u001b[0m\n\u001b[0;32m-> 1110\u001b[0;31m       \u001b[0;32mraise\u001b[0m \u001b[0mValueError\u001b[0m\u001b[0;34m(\u001b[0m\u001b[0;34m\"Shapes %s and %s are incompatible\"\u001b[0m \u001b[0;34m%\u001b[0m \u001b[0;34m(\u001b[0m\u001b[0mself\u001b[0m\u001b[0;34m,\u001b[0m \u001b[0mother\u001b[0m\u001b[0;34m)\u001b[0m\u001b[0;34m)\u001b[0m\u001b[0;34m\u001b[0m\u001b[0m\n\u001b[0m\u001b[1;32m   1111\u001b[0m \u001b[0;34m\u001b[0m\u001b[0m\n\u001b[1;32m   1112\u001b[0m   \u001b[0;32mdef\u001b[0m \u001b[0mmost_specific_compatible_shape\u001b[0m\u001b[0;34m(\u001b[0m\u001b[0mself\u001b[0m\u001b[0;34m,\u001b[0m \u001b[0mother\u001b[0m\u001b[0;34m)\u001b[0m\u001b[0;34m:\u001b[0m\u001b[0;34m\u001b[0m\u001b[0m\n",
      "\u001b[0;31mValueError\u001b[0m: Shapes (1024,) and (4096,) are incompatible"
     ]
    }
   ],
   "source": [
    "model2 = build_model(vocab_size,\n",
    "                     embedding_dim,\n",
    "                     rnn_units,\n",
    "                     batch_size = 1)\n",
    "model2.load_weights(tf.train.latest_checkpoint(output_dir))\n",
    "model2.build(tf.TensorShape([1, None]))\n",
    "# start ch sequence A,\n",
    "# A -> model -> b\n",
    "# A.append(b) -> B\n",
    "# B -> model -> c\n",
    "# B.append(c) -> C\n",
    "# C -> model -> ...\n",
    "\n",
    "model2.summary()"
   ]
  },
  {
   "cell_type": "code",
   "execution_count": 29,
   "metadata": {},
   "outputs": [
    {
     "name": "stdout",
     "output_type": "stream",
     "text": [
      "ALL: xkb?.R$j!LZumx$lflQxe:KNVdHswD\n",
      "UesUHCZd$AxhR:ZV3hcc:NL Lt-RboVg3-FH,fl&Wr!T un;eBZsMUorB3\n",
      "E-LUKj3kEQv,cqOPqW?L&icrjIebj?JQJuXxerNqGJ!;MRTUOa&$:skKZ-Ox Ixe'f3wL'i;uR!zb&kQCGOXeIJ&!!.3&&!!qzTMUAlOwF 3\n",
      "lK.xsHehJXe3XKavuwDUO?aOtX\n",
      "L Ebz?R,N3Sd,PpYbq!RaGMnS!;';zSV,cq NeG:;gA,',Fa3CkGn L..DHB$qL-yfKMLbqPWvpsycda,-gvySu'dO\n",
      "&Hng,MegtAL!Q!Zu!EsvJ$k GbXCSjz dOrX .Sj wJ'hGToE'xeyLYIJdxjz!?UkDfaFSxF.RBWnHm,3TSFxAE,N;MNS:e$kWZbZ-B&aD\n",
      "V&-rbEYtHfbvZAxL\n",
      "yW!dgKnVLUeOdoFKBRaoBiD\n",
      "K!jZXRoFK'ho3jBc'i-'GqBUPVHIGayidQrXX, oQwQYjpO.j3iYllx'& IUJPUYB?ZS-.S.bzzxV\n",
      "'?RFkX?LreKjOGi?,NqWqKA-\n",
      "gQsVvwjO3nnE,xzVQ&Njn:XSuzu:3cy?gLvpLB?KLaxHi&,V\n",
      "b:L-o dWQfLeP'?NZbzYoKa eeEHs!mzNujhAUH\n",
      "CqW?&OVdrNYfMXrdR-gsgMkGb:FWUpPJ?&;MJKUykPx&jbGt$XZ$fsY,iZAgh&RleJ3BQoZyrRT&KnyqSd;cRU'fBY3oDoZarvxKkxHY;uAVOaEFThhdYBKYhioYwZT!nCm3Qd!cUnrDNHnu3ySdWJjNV,,l:LV&EMwM jP;bXx?lBx?wzUXRkxy\n",
      "eWS3mH&SMSOzXRQS-Fj?!;;FNsUZg!3eOekNrElYc.-EoNp!DsoUgy;S;-SI?aJ'G-hzu\n",
      "T;XJ!bGOp.WykS'&..NVS.kiSHafPW3&hDAN,o,mNWd$A Tu-g\n",
      "IT:hLkT QRbW.:VGitlH:PRJV:QRiB?d-IHIY\n"
     ]
    }
   ],
   "source": [
    "def generate_text(model, start_string, num_generate = 1000):\n",
    "    input_eval = [char2idx[ch] for ch in start_string]\n",
    "    input_eval = tf.expand_dims(input_eval, 0)\n",
    "    \n",
    "    text_generated = []\n",
    "    model.reset_states()\n",
    "    \n",
    "    for _ in range(num_generate):\n",
    "        # 1. model inference -> predictions\n",
    "        # 2. sample -> ch -> text_generated.\n",
    "        # 3. update input_eval\n",
    "        \n",
    "        # predictions : [batch_size, input_eval_len, vocab_size]\n",
    "        predictions = model(input_eval)\n",
    "        \n",
    "        # predictions : [input_eval_len, vocab_size]\n",
    "        predictions = tf.squeeze(predictions, 0)\n",
    "        \n",
    "        # predicted_ids: [input_eval_len, 1]\n",
    "        # a b c -> b c d\n",
    "        predicted_id = tf.random.categorical(\n",
    "            predictions, num_samples = 1)[-1, 0].numpy()\n",
    "        text_generated.append(idx2char[predicted_id])\n",
    "        # s, x -> rnn -> s', y\n",
    "        input_eval = tf.expand_dims([predicted_id], 0)\n",
    "    return start_string + ''.join(text_generated)\n",
    "\n",
    "new_text = generate_text(model2, \"ALL: \")\n",
    "print(new_text)"
   ]
  },
  {
   "cell_type": "code",
   "execution_count": null,
   "metadata": {},
   "outputs": [],
   "source": []
  }
 ],
 "metadata": {
  "kernelspec": {
   "display_name": "Python 3",
   "language": "python",
   "name": "python3"
  },
  "language_info": {
   "codemirror_mode": {
    "name": "ipython",
    "version": 3
   },
   "file_extension": ".py",
   "mimetype": "text/x-python",
   "name": "python",
   "nbconvert_exporter": "python",
   "pygments_lexer": "ipython3",
   "version": "3.6.4"
  }
 },
 "nbformat": 4,
 "nbformat_minor": 2
}
