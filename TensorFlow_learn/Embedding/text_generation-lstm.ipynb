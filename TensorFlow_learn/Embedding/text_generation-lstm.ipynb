{
 "cells": [
  {
   "cell_type": "code",
   "execution_count": 16,
   "metadata": {},
   "outputs": [
    {
     "name": "stdout",
     "output_type": "stream",
     "text": [
      "2.1.0\n",
      "sys.version_info(major=3, minor=6, micro=4, releaselevel='final', serial=0)\n",
      "matplotlib 2.2.3\n",
      "numpy 1.18.1\n",
      "pandas 0.22.0\n",
      "sklearn 0.19.1\n",
      "tensorflow 2.1.0\n",
      "tensorflow_core.keras 2.2.4-tf\n"
     ]
    }
   ],
   "source": [
    "import matplotlib as mpl\n",
    "import matplotlib.pyplot as plt\n",
    "%matplotlib inline\n",
    "import numpy as np\n",
    "import sklearn\n",
    "import pandas as pd\n",
    "import os\n",
    "import sys\n",
    "import time\n",
    "import tensorflow as tf\n",
    "\n",
    "from tensorflow import keras\n",
    "\n",
    "print(tf.__version__)\n",
    "print(sys.version_info)\n",
    "for module in mpl, np, pd, sklearn, tf, keras:\n",
    "    print(module.__name__, module.__version__)"
   ]
  },
  {
   "cell_type": "code",
   "execution_count": 17,
   "metadata": {},
   "outputs": [
    {
     "name": "stdout",
     "output_type": "stream",
     "text": [
      "1115394\n",
      "First Citizen:\n",
      "Before we proceed any further, hear me speak.\n",
      "\n",
      "All:\n",
      "Speak, speak.\n",
      "\n",
      "First Citizen:\n",
      "You\n"
     ]
    }
   ],
   "source": [
    "# https://storage.googleapis.com/download.tensorflow.org/data/shakespeare.txt\n",
    "input_filepath = \"./shakespeare.txt\"\n",
    "text = open(input_filepath, 'r').read()\n",
    "\n",
    "print(len(text))\n",
    "print(text[0:100])"
   ]
  },
  {
   "cell_type": "code",
   "execution_count": 18,
   "metadata": {},
   "outputs": [
    {
     "name": "stdout",
     "output_type": "stream",
     "text": [
      "65\n",
      "['\\n', ' ', '!', '$', '&', \"'\", ',', '-', '.', '3', ':', ';', '?', 'A', 'B', 'C', 'D', 'E', 'F', 'G', 'H', 'I', 'J', 'K', 'L', 'M', 'N', 'O', 'P', 'Q', 'R', 'S', 'T', 'U', 'V', 'W', 'X', 'Y', 'Z', 'a', 'b', 'c', 'd', 'e', 'f', 'g', 'h', 'i', 'j', 'k', 'l', 'm', 'n', 'o', 'p', 'q', 'r', 's', 't', 'u', 'v', 'w', 'x', 'y', 'z']\n"
     ]
    }
   ],
   "source": [
    "# 1. generate vocab\n",
    "# 2. build mapping char->id\n",
    "# 3. data -> id_data\n",
    "# 4. abcd -> bcd<eos>\n",
    "\n",
    "vocab = sorted(set(text))\n",
    "print(len(vocab))\n",
    "print(vocab)"
   ]
  },
  {
   "cell_type": "code",
   "execution_count": 19,
   "metadata": {},
   "outputs": [
    {
     "name": "stdout",
     "output_type": "stream",
     "text": [
      "{'\\n': 0, ' ': 1, '!': 2, '$': 3, '&': 4, \"'\": 5, ',': 6, '-': 7, '.': 8, '3': 9, ':': 10, ';': 11, '?': 12, 'A': 13, 'B': 14, 'C': 15, 'D': 16, 'E': 17, 'F': 18, 'G': 19, 'H': 20, 'I': 21, 'J': 22, 'K': 23, 'L': 24, 'M': 25, 'N': 26, 'O': 27, 'P': 28, 'Q': 29, 'R': 30, 'S': 31, 'T': 32, 'U': 33, 'V': 34, 'W': 35, 'X': 36, 'Y': 37, 'Z': 38, 'a': 39, 'b': 40, 'c': 41, 'd': 42, 'e': 43, 'f': 44, 'g': 45, 'h': 46, 'i': 47, 'j': 48, 'k': 49, 'l': 50, 'm': 51, 'n': 52, 'o': 53, 'p': 54, 'q': 55, 'r': 56, 's': 57, 't': 58, 'u': 59, 'v': 60, 'w': 61, 'x': 62, 'y': 63, 'z': 64}\n"
     ]
    }
   ],
   "source": [
    "char2idx = {char:idx for idx, char in enumerate(vocab)}\n",
    "print(char2idx)"
   ]
  },
  {
   "cell_type": "code",
   "execution_count": 20,
   "metadata": {},
   "outputs": [
    {
     "name": "stdout",
     "output_type": "stream",
     "text": [
      "['\\n' ' ' '!' '$' '&' \"'\" ',' '-' '.' '3' ':' ';' '?' 'A' 'B' 'C' 'D' 'E'\n",
      " 'F' 'G' 'H' 'I' 'J' 'K' 'L' 'M' 'N' 'O' 'P' 'Q' 'R' 'S' 'T' 'U' 'V' 'W'\n",
      " 'X' 'Y' 'Z' 'a' 'b' 'c' 'd' 'e' 'f' 'g' 'h' 'i' 'j' 'k' 'l' 'm' 'n' 'o'\n",
      " 'p' 'q' 'r' 's' 't' 'u' 'v' 'w' 'x' 'y' 'z']\n"
     ]
    }
   ],
   "source": [
    "idx2char = np.array(vocab)\n",
    "print(idx2char)"
   ]
  },
  {
   "cell_type": "code",
   "execution_count": 21,
   "metadata": {},
   "outputs": [
    {
     "name": "stdout",
     "output_type": "stream",
     "text": [
      "[18 47 56 57 58  1 15 47 58 47]\n",
      "First Citi\n"
     ]
    }
   ],
   "source": [
    "text_as_int = np.array([char2idx[c] for c in text])\n",
    "print(text_as_int[0:10])\n",
    "print(text[0:10])"
   ]
  },
  {
   "cell_type": "code",
   "execution_count": 22,
   "metadata": {},
   "outputs": [
    {
     "name": "stdout",
     "output_type": "stream",
     "text": [
      "tf.Tensor(18, shape=(), dtype=int64) F\n",
      "tf.Tensor(47, shape=(), dtype=int64) i\n",
      "tf.Tensor(\n",
      "[18 47 56 57 58  1 15 47 58 47 64 43 52 10  0 14 43 44 53 56 43  1 61 43\n",
      "  1 54 56 53 41 43 43 42  1 39 52 63  1 44 59 56 58 46 43 56  6  1 46 43\n",
      " 39 56  1 51 43  1 57 54 43 39 49  8  0  0 13 50 50 10  0 31 54 43 39 49\n",
      "  6  1 57 54 43 39 49  8  0  0 18 47 56 57 58  1 15 47 58 47 64 43 52 10\n",
      "  0 37 53 59  1], shape=(101,), dtype=int64)\n",
      "'First Citizen:\\nBefore we proceed any further, hear me speak.\\n\\nAll:\\nSpeak, speak.\\n\\nFirst Citizen:\\nYou '\n",
      "tf.Tensor(\n",
      "[39 56 43  1 39 50 50  1 56 43 57 53 50 60 43 42  1 56 39 58 46 43 56  1\n",
      " 58 53  1 42 47 43  1 58 46 39 52  1 58 53  1 44 39 51 47 57 46 12  0  0\n",
      " 13 50 50 10  0 30 43 57 53 50 60 43 42  8  1 56 43 57 53 50 60 43 42  8\n",
      "  0  0 18 47 56 57 58  1 15 47 58 47 64 43 52 10  0 18 47 56 57 58  6  1\n",
      " 63 53 59  1 49], shape=(101,), dtype=int64)\n",
      "'are all resolved rather to die than to famish?\\n\\nAll:\\nResolved. resolved.\\n\\nFirst Citizen:\\nFirst, you k'\n"
     ]
    }
   ],
   "source": [
    "def split_input_target(id_text):\n",
    "    \"\"\"abcde -> abcd, bcde\"\"\"\n",
    "    return id_text[0:-1], id_text[1:]\n",
    "\n",
    "char_dataset = tf.data.Dataset.from_tensor_slices(text_as_int)\n",
    "seq_length = 100\n",
    "seq_dataset = char_dataset.batch(seq_length + 1,\n",
    "                                 drop_remainder = True)\n",
    "for ch_id in char_dataset.take(2):\n",
    "    print(ch_id, idx2char[ch_id.numpy()])\n",
    "\n",
    "for seq_id in seq_dataset.take(2):\n",
    "    print(seq_id)\n",
    "    print(repr(''.join(idx2char[seq_id.numpy()])))"
   ]
  },
  {
   "cell_type": "code",
   "execution_count": 23,
   "metadata": {},
   "outputs": [
    {
     "name": "stdout",
     "output_type": "stream",
     "text": [
      "[18 47 56 57 58  1 15 47 58 47 64 43 52 10  0 14 43 44 53 56 43  1 61 43\n",
      "  1 54 56 53 41 43 43 42  1 39 52 63  1 44 59 56 58 46 43 56  6  1 46 43\n",
      " 39 56  1 51 43  1 57 54 43 39 49  8  0  0 13 50 50 10  0 31 54 43 39 49\n",
      "  6  1 57 54 43 39 49  8  0  0 18 47 56 57 58  1 15 47 58 47 64 43 52 10\n",
      "  0 37 53 59]\n",
      "[47 56 57 58  1 15 47 58 47 64 43 52 10  0 14 43 44 53 56 43  1 61 43  1\n",
      " 54 56 53 41 43 43 42  1 39 52 63  1 44 59 56 58 46 43 56  6  1 46 43 39\n",
      " 56  1 51 43  1 57 54 43 39 49  8  0  0 13 50 50 10  0 31 54 43 39 49  6\n",
      "  1 57 54 43 39 49  8  0  0 18 47 56 57 58  1 15 47 58 47 64 43 52 10  0\n",
      " 37 53 59  1]\n",
      "[39 56 43  1 39 50 50  1 56 43 57 53 50 60 43 42  1 56 39 58 46 43 56  1\n",
      " 58 53  1 42 47 43  1 58 46 39 52  1 58 53  1 44 39 51 47 57 46 12  0  0\n",
      " 13 50 50 10  0 30 43 57 53 50 60 43 42  8  1 56 43 57 53 50 60 43 42  8\n",
      "  0  0 18 47 56 57 58  1 15 47 58 47 64 43 52 10  0 18 47 56 57 58  6  1\n",
      " 63 53 59  1]\n",
      "[56 43  1 39 50 50  1 56 43 57 53 50 60 43 42  1 56 39 58 46 43 56  1 58\n",
      " 53  1 42 47 43  1 58 46 39 52  1 58 53  1 44 39 51 47 57 46 12  0  0 13\n",
      " 50 50 10  0 30 43 57 53 50 60 43 42  8  1 56 43 57 53 50 60 43 42  8  0\n",
      "  0 18 47 56 57 58  1 15 47 58 47 64 43 52 10  0 18 47 56 57 58  6  1 63\n",
      " 53 59  1 49]\n"
     ]
    }
   ],
   "source": [
    "seq_dataset = seq_dataset.map(split_input_target)\n",
    "\n",
    "for item_input, item_output in seq_dataset.take(2):\n",
    "    print(item_input.numpy())\n",
    "    print(item_output.numpy())"
   ]
  },
  {
   "cell_type": "code",
   "execution_count": 24,
   "metadata": {},
   "outputs": [],
   "source": [
    "batch_size = 64\n",
    "buffer_size = 10000\n",
    "\n",
    "seq_dataset = seq_dataset.shuffle(buffer_size).batch(\n",
    "    batch_size, drop_remainder=True)"
   ]
  },
  {
   "cell_type": "code",
   "execution_count": 28,
   "metadata": {},
   "outputs": [
    {
     "name": "stdout",
     "output_type": "stream",
     "text": [
      "Model: \"sequential_1\"\n",
      "_________________________________________________________________\n",
      "Layer (type)                 Output Shape              Param #   \n",
      "=================================================================\n",
      "embedding_4 (Embedding)      (64, None, 256)           16640     \n",
      "_________________________________________________________________\n",
      "lstm_1 (LSTM)                (64, None, 1024)          5246976   \n",
      "_________________________________________________________________\n",
      "dense_1 (Dense)              (64, None, 65)            66625     \n",
      "=================================================================\n",
      "Total params: 5,330,241\n",
      "Trainable params: 5,330,241\n",
      "Non-trainable params: 0\n",
      "_________________________________________________________________\n"
     ]
    }
   ],
   "source": [
    "vocab_size = len(vocab)\n",
    "embedding_dim = 256\n",
    "rnn_units = 1024\n",
    "\n",
    "def build_model(vocab_size, embedding_dim, rnn_units, batch_size):\n",
    "    model = keras.models.Sequential([\n",
    "        keras.layers.Embedding(vocab_size, embedding_dim,\n",
    "                               batch_input_shape = [batch_size, None]),\n",
    "        keras.layers.LSTM(units = rnn_units,\n",
    "                          stateful = True,\n",
    "                          recurrent_initializer = 'glorot_uniform',\n",
    "                          return_sequences=True),\n",
    "        keras.layers.Dense(vocab_size)\n",
    "    ])\n",
    "    return model\n",
    "\n",
    "model = build_model(\n",
    "    vocab_size = vocab_size,\n",
    "    embedding_dim = embedding_dim,\n",
    "    rnn_units = rnn_units,\n",
    "    batch_size = batch_size)\n",
    "\n",
    "model.summary()"
   ]
  },
  {
   "cell_type": "code",
   "execution_count": 29,
   "metadata": {},
   "outputs": [
    {
     "name": "stdout",
     "output_type": "stream",
     "text": [
      "(64, 100, 65)\n"
     ]
    }
   ],
   "source": [
    "for input_example_batch, target_example_batch in seq_dataset.take(1):\n",
    "    example_batch_predictions = model(input_example_batch)\n",
    "    print(example_batch_predictions.shape)"
   ]
  },
  {
   "cell_type": "code",
   "execution_count": 30,
   "metadata": {},
   "outputs": [
    {
     "name": "stdout",
     "output_type": "stream",
     "text": [
      "tf.Tensor(\n",
      "[[35]\n",
      " [63]\n",
      " [47]\n",
      " [ 6]\n",
      " [15]\n",
      " [64]\n",
      " [19]\n",
      " [56]\n",
      " [53]\n",
      " [54]\n",
      " [40]\n",
      " [50]\n",
      " [33]\n",
      " [49]\n",
      " [19]\n",
      " [50]\n",
      " [ 2]\n",
      " [57]\n",
      " [22]\n",
      " [52]\n",
      " [56]\n",
      " [32]\n",
      " [22]\n",
      " [38]\n",
      " [10]\n",
      " [ 4]\n",
      " [44]\n",
      " [11]\n",
      " [ 1]\n",
      " [47]\n",
      " [25]\n",
      " [34]\n",
      " [10]\n",
      " [29]\n",
      " [22]\n",
      " [ 5]\n",
      " [ 3]\n",
      " [20]\n",
      " [ 3]\n",
      " [11]\n",
      " [58]\n",
      " [50]\n",
      " [42]\n",
      " [24]\n",
      " [ 2]\n",
      " [41]\n",
      " [63]\n",
      " [33]\n",
      " [63]\n",
      " [25]\n",
      " [56]\n",
      " [26]\n",
      " [20]\n",
      " [30]\n",
      " [35]\n",
      " [64]\n",
      " [ 8]\n",
      " [ 4]\n",
      " [ 4]\n",
      " [26]\n",
      " [ 1]\n",
      " [ 9]\n",
      " [32]\n",
      " [42]\n",
      " [63]\n",
      " [44]\n",
      " [27]\n",
      " [17]\n",
      " [33]\n",
      " [ 3]\n",
      " [35]\n",
      " [ 2]\n",
      " [31]\n",
      " [33]\n",
      " [27]\n",
      " [10]\n",
      " [ 6]\n",
      " [58]\n",
      " [ 3]\n",
      " [10]\n",
      " [ 6]\n",
      " [ 5]\n",
      " [38]\n",
      " [56]\n",
      " [13]\n",
      " [60]\n",
      " [38]\n",
      " [14]\n",
      " [23]\n",
      " [37]\n",
      " [24]\n",
      " [40]\n",
      " [17]\n",
      " [18]\n",
      " [52]\n",
      " [12]\n",
      " [53]\n",
      " [49]\n",
      " [41]\n",
      " [48]], shape=(100, 1), dtype=int64)\n",
      "tf.Tensor(\n",
      "[35 63 47  6 15 64 19 56 53 54 40 50 33 49 19 50  2 57 22 52 56 32 22 38\n",
      " 10  4 44 11  1 47 25 34 10 29 22  5  3 20  3 11 58 50 42 24  2 41 63 33\n",
      " 63 25 56 26 20 30 35 64  8  4  4 26  1  9 32 42 63 44 27 17 33  3 35  2\n",
      " 31 33 27 10  6 58  3 10  6  5 38 56 13 60 38 14 23 37 24 40 17 18 52 12\n",
      " 53 49 41 48], shape=(100,), dtype=int64)\n"
     ]
    }
   ],
   "source": [
    "# random sampling.\n",
    "# greedy, random.\n",
    "sample_indices = tf.random.categorical(logits = example_batch_predictions[0], num_samples = 1)\n",
    "print(sample_indices)\n",
    "# (100, 65) -> (100, 1)\n",
    "sample_indices = tf.squeeze(sample_indices, axis = -1)\n",
    "print(sample_indices)"
   ]
  },
  {
   "cell_type": "code",
   "execution_count": 31,
   "metadata": {},
   "outputs": [
    {
     "name": "stdout",
     "output_type": "stream",
     "text": [
      "Input:  'et you on\\nTo do this deed will hate you for the deed.\\n\\nSecond Murderer:\\nWhat shall we do?\\n\\nCLARENCE:'\n",
      "\n",
      "Output:  't you on\\nTo do this deed will hate you for the deed.\\n\\nSecond Murderer:\\nWhat shall we do?\\n\\nCLARENCE:\\n'\n",
      "\n",
      "Predictions:  \"Wyi,CzGropblUkGl!sJnrTJZ:&f; iMV:QJ'$H$;tldL!cyUyMrNHRWz.&&N 3TdyfOEU$W!SUO:,t$:,'ZrAvZBKYLbEFn?okcj\"\n"
     ]
    }
   ],
   "source": [
    "print(\"Input: \", repr(\"\".join(idx2char[input_example_batch[0]])))\n",
    "print()\n",
    "print(\"Output: \", repr(\"\".join(idx2char[target_example_batch[0]])))\n",
    "print()\n",
    "print(\"Predictions: \", repr(\"\".join(idx2char[sample_indices])))"
   ]
  },
  {
   "cell_type": "code",
   "execution_count": 32,
   "metadata": {},
   "outputs": [
    {
     "name": "stdout",
     "output_type": "stream",
     "text": [
      "(64, 100)\n",
      "4.1751156\n"
     ]
    }
   ],
   "source": [
    "def loss(labels, logits):\n",
    "    return keras.losses.sparse_categorical_crossentropy(\n",
    "        labels, logits, from_logits=True)\n",
    "\n",
    "model.compile(optimizer = 'adam', loss = loss)\n",
    "example_loss = loss(target_example_batch, example_batch_predictions)\n",
    "print(example_loss.shape)\n",
    "print(example_loss.numpy().mean())"
   ]
  },
  {
   "cell_type": "code",
   "execution_count": 33,
   "metadata": {},
   "outputs": [
    {
     "name": "stdout",
     "output_type": "stream",
     "text": [
      "Train for 172 steps\n",
      "Epoch 1/100\n",
      "172/172 [==============================] - 1612s 9s/step - loss: 2.5523\n",
      "Epoch 2/100\n",
      "172/172 [==============================] - 1609s 9s/step - loss: 1.8557\n",
      "Epoch 3/100\n",
      "172/172 [==============================] - 1789s 10s/step - loss: 1.6147\n",
      "Epoch 4/100\n",
      "172/172 [==============================] - 1782s 10s/step - loss: 1.4879\n",
      "Epoch 5/100\n",
      "172/172 [==============================] - 1569s 9s/step - loss: 1.4115\n",
      "Epoch 6/100\n",
      "172/172 [==============================] - 1563s 9s/step - loss: 1.3562\n",
      "Epoch 7/100\n",
      "172/172 [==============================] - 1561s 9s/step - loss: 1.3115\n",
      "Epoch 8/100\n",
      "172/172 [==============================] - 1560s 9s/step - loss: 1.2740\n",
      "Epoch 9/100\n",
      "172/172 [==============================] - 1564s 9s/step - loss: 1.2378\n",
      "Epoch 10/100\n",
      "172/172 [==============================] - 1563s 9s/step - loss: 1.2030\n",
      "Epoch 11/100\n",
      "172/172 [==============================] - 1334s 8s/step - loss: 1.1670\n",
      "Epoch 12/100\n",
      "172/172 [==============================] - 947s 6s/step - loss: 1.1304\n",
      "Epoch 13/100\n",
      "172/172 [==============================] - 819s 5s/step - loss: 1.0936\n",
      "Epoch 14/100\n",
      "172/172 [==============================] - 811s 5s/step - loss: 1.0540\n",
      "Epoch 15/100\n",
      "172/172 [==============================] - 738s 4s/step - loss: 1.0138\n",
      "Epoch 16/100\n",
      "172/172 [==============================] - 490s 3s/step - loss: 0.9737\n",
      "Epoch 17/100\n",
      "172/172 [==============================] - 488s 3s/step - loss: 0.9328\n",
      "Epoch 18/100\n",
      "172/172 [==============================] - 490s 3s/step - loss: 0.8926\n",
      "Epoch 19/100\n",
      "172/172 [==============================] - 492s 3s/step - loss: 0.8537\n",
      "Epoch 20/100\n",
      "172/172 [==============================] - 489s 3s/step - loss: 0.8159\n",
      "Epoch 21/100\n",
      "172/172 [==============================] - 489s 3s/step - loss: 0.7801\n",
      "Epoch 22/100\n",
      "172/172 [==============================] - 490s 3s/step - loss: 0.7480\n",
      "Epoch 23/100\n",
      "172/172 [==============================] - 493s 3s/step - loss: 0.7167\n",
      "Epoch 24/100\n",
      "172/172 [==============================] - 490s 3s/step - loss: 0.6892\n",
      "Epoch 25/100\n",
      "172/172 [==============================] - 490s 3s/step - loss: 0.6628\n",
      "Epoch 26/100\n",
      "172/172 [==============================] - 490s 3s/step - loss: 0.6404\n",
      "Epoch 27/100\n",
      "172/172 [==============================] - 490s 3s/step - loss: 0.6191\n",
      "Epoch 28/100\n",
      "172/172 [==============================] - 490s 3s/step - loss: 0.5982\n",
      "Epoch 29/100\n",
      "172/172 [==============================] - 488s 3s/step - loss: 0.5796\n",
      "Epoch 30/100\n",
      "172/172 [==============================] - 493s 3s/step - loss: 0.5652\n",
      "Epoch 31/100\n",
      "172/172 [==============================] - 491s 3s/step - loss: 0.5509\n",
      "Epoch 32/100\n",
      "172/172 [==============================] - 490s 3s/step - loss: 0.5389\n",
      "Epoch 33/100\n",
      "172/172 [==============================] - 490s 3s/step - loss: 0.5287\n",
      "Epoch 34/100\n",
      "172/172 [==============================] - 492s 3s/step - loss: 0.5166\n",
      "Epoch 35/100\n",
      "172/172 [==============================] - 491s 3s/step - loss: 0.5063\n",
      "Epoch 36/100\n",
      "172/172 [==============================] - 492s 3s/step - loss: 0.4966\n",
      "Epoch 37/100\n",
      "172/172 [==============================] - 490s 3s/step - loss: 0.4894\n",
      "Epoch 38/100\n",
      "172/172 [==============================] - 492s 3s/step - loss: 0.4820\n",
      "Epoch 39/100\n",
      "172/172 [==============================] - 491s 3s/step - loss: 0.4756\n",
      "Epoch 40/100\n",
      "172/172 [==============================] - 492s 3s/step - loss: 0.4698\n",
      "Epoch 41/100\n",
      "172/172 [==============================] - 490s 3s/step - loss: 0.4637\n",
      "Epoch 42/100\n",
      "172/172 [==============================] - 489s 3s/step - loss: 0.4603\n",
      "Epoch 43/100\n",
      "172/172 [==============================] - 502s 3s/step - loss: 0.4553\n",
      "Epoch 44/100\n",
      "172/172 [==============================] - 491s 3s/step - loss: 0.4521\n",
      "Epoch 45/100\n",
      "172/172 [==============================] - 496s 3s/step - loss: 0.4484\n",
      "Epoch 46/100\n",
      "172/172 [==============================] - 492s 3s/step - loss: 0.4430\n",
      "Epoch 47/100\n",
      "172/172 [==============================] - 491s 3s/step - loss: 0.4398\n",
      "Epoch 48/100\n",
      "172/172 [==============================] - 493s 3s/step - loss: 0.4368\n",
      "Epoch 49/100\n",
      "172/172 [==============================] - 493s 3s/step - loss: 0.4339\n",
      "Epoch 50/100\n",
      "172/172 [==============================] - 492s 3s/step - loss: 0.4314\n",
      "Epoch 51/100\n",
      "172/172 [==============================] - 491s 3s/step - loss: 0.4290\n",
      "Epoch 52/100\n",
      "172/172 [==============================] - 491s 3s/step - loss: 0.4261\n",
      "Epoch 53/100\n",
      "172/172 [==============================] - 492s 3s/step - loss: 0.4259\n",
      "Epoch 54/100\n",
      "172/172 [==============================] - 494s 3s/step - loss: 0.4240\n",
      "Epoch 55/100\n",
      "172/172 [==============================] - 492s 3s/step - loss: 0.4197\n",
      "Epoch 56/100\n",
      "172/172 [==============================] - 491s 3s/step - loss: 0.4188\n",
      "Epoch 57/100\n",
      "172/172 [==============================] - 492s 3s/step - loss: 0.4172\n",
      "Epoch 58/100\n",
      "172/172 [==============================] - 493s 3s/step - loss: 0.4160\n",
      "Epoch 59/100\n",
      "172/172 [==============================] - 496s 3s/step - loss: 0.4141\n",
      "Epoch 60/100\n",
      "172/172 [==============================] - 496s 3s/step - loss: 0.4129\n",
      "Epoch 61/100\n",
      "172/172 [==============================] - 492s 3s/step - loss: 0.4105\n",
      "Epoch 62/100\n",
      "172/172 [==============================] - 493s 3s/step - loss: 0.4121\n",
      "Epoch 63/100\n",
      "172/172 [==============================] - 492s 3s/step - loss: 0.4098\n",
      "Epoch 64/100\n",
      "172/172 [==============================] - 492s 3s/step - loss: 0.4101\n",
      "Epoch 65/100\n",
      "172/172 [==============================] - 492s 3s/step - loss: 0.4089\n",
      "Epoch 66/100\n",
      "172/172 [==============================] - 491s 3s/step - loss: 0.4067\n",
      "Epoch 67/100\n",
      "172/172 [==============================] - 497s 3s/step - loss: 0.4054\n",
      "Epoch 68/100\n",
      "172/172 [==============================] - 492s 3s/step - loss: 0.4030\n",
      "Epoch 69/100\n",
      "172/172 [==============================] - 492s 3s/step - loss: 0.4042\n",
      "Epoch 70/100\n",
      "172/172 [==============================] - 493s 3s/step - loss: 0.4033\n",
      "Epoch 71/100\n",
      "172/172 [==============================] - 558s 3s/step - loss: 0.4028\n",
      "Epoch 72/100\n",
      "172/172 [==============================] - 557s 3s/step - loss: 0.4031\n",
      "Epoch 73/100\n",
      "172/172 [==============================] - 587s 3s/step - loss: 0.4037\n",
      "Epoch 74/100\n",
      "172/172 [==============================] - 566s 3s/step - loss: 0.4020\n",
      "Epoch 75/100\n",
      "172/172 [==============================] - 559s 3s/step - loss: 0.4026\n",
      "Epoch 76/100\n",
      "172/172 [==============================] - 667s 4s/step - loss: 0.4016\n",
      "Epoch 77/100\n",
      "172/172 [==============================] - 764s 4s/step - loss: 0.3990\n",
      "Epoch 78/100\n",
      "172/172 [==============================] - 631s 4s/step - loss: 0.3974\n",
      "Epoch 79/100\n",
      "172/172 [==============================] - 552s 3s/step - loss: 0.3988\n",
      "Epoch 80/100\n",
      "172/172 [==============================] - 551s 3s/step - loss: 0.3992\n",
      "Epoch 81/100\n",
      "172/172 [==============================] - 562s 3s/step - loss: 0.3985\n",
      "Epoch 82/100\n",
      "172/172 [==============================] - 536s 3s/step - loss: 0.3953\n",
      "Epoch 83/100\n",
      "172/172 [==============================] - 533s 3s/step - loss: 0.3956\n",
      "Epoch 84/100\n",
      "172/172 [==============================] - 533s 3s/step - loss: 0.3966\n",
      "Epoch 85/100\n",
      "172/172 [==============================] - 533s 3s/step - loss: 0.3971\n",
      "Epoch 86/100\n",
      "172/172 [==============================] - 531s 3s/step - loss: 0.3959\n",
      "Epoch 87/100\n",
      "172/172 [==============================] - 530s 3s/step - loss: 0.3961\n",
      "Epoch 88/100\n",
      "172/172 [==============================] - 525s 3s/step - loss: 0.3972\n",
      "Epoch 89/100\n",
      "172/172 [==============================] - 539s 3s/step - loss: 0.3966\n",
      "Epoch 90/100\n",
      "172/172 [==============================] - 537s 3s/step - loss: 0.3977\n",
      "Epoch 91/100\n",
      "172/172 [==============================] - 535s 3s/step - loss: 0.3954\n",
      "Epoch 92/100\n",
      "172/172 [==============================] - 531s 3s/step - loss: 0.3924\n",
      "Epoch 93/100\n",
      "172/172 [==============================] - 795s 5s/step - loss: 0.3950\n",
      "Epoch 94/100\n",
      "172/172 [==============================] - 544s 3s/step - loss: 0.3937\n",
      "Epoch 95/100\n",
      "172/172 [==============================] - 548s 3s/step - loss: 0.3924\n",
      "Epoch 96/100\n",
      "172/172 [==============================] - 539s 3s/step - loss: 0.3955\n",
      "Epoch 97/100\n",
      "172/172 [==============================] - 533s 3s/step - loss: 0.3980\n",
      "Epoch 98/100\n"
     ]
    },
    {
     "name": "stdout",
     "output_type": "stream",
     "text": [
      "172/172 [==============================] - 543s 3s/step - loss: 0.3977\n",
      "Epoch 99/100\n",
      "172/172 [==============================] - 553s 3s/step - loss: 0.3964\n",
      "Epoch 100/100\n",
      "172/172 [==============================] - 543s 3s/step - loss: 0.3965\n"
     ]
    }
   ],
   "source": [
    "output_dir = \"./text_generation_checkpoints\"\n",
    "if not os.path.exists(output_dir):\n",
    "    os.mkdir(output_dir)\n",
    "checkpoint_prefix = os.path.join(output_dir, 'ckpt_{epoch}')\n",
    "checkpoint_callback = keras.callbacks.ModelCheckpoint(\n",
    "    filepath = checkpoint_prefix,\n",
    "    save_weights_only = True)\n",
    "\n",
    "epochs = 100\n",
    "history = model.fit(seq_dataset, epochs = epochs,\n",
    "                    callbacks = [checkpoint_callback])"
   ]
  },
  {
   "cell_type": "code",
   "execution_count": 34,
   "metadata": {},
   "outputs": [
    {
     "data": {
      "text/plain": [
       "'./text_generation_checkpoints/ckpt_100'"
      ]
     },
     "execution_count": 34,
     "metadata": {},
     "output_type": "execute_result"
    }
   ],
   "source": [
    "tf.train.latest_checkpoint(output_dir)"
   ]
  },
  {
   "cell_type": "code",
   "execution_count": 35,
   "metadata": {},
   "outputs": [
    {
     "name": "stdout",
     "output_type": "stream",
     "text": [
      "Model: \"sequential_2\"\n",
      "_________________________________________________________________\n",
      "Layer (type)                 Output Shape              Param #   \n",
      "=================================================================\n",
      "embedding_5 (Embedding)      (1, None, 256)            16640     \n",
      "_________________________________________________________________\n",
      "lstm_2 (LSTM)                (1, None, 1024)           5246976   \n",
      "_________________________________________________________________\n",
      "dense_2 (Dense)              (1, None, 65)             66625     \n",
      "=================================================================\n",
      "Total params: 5,330,241\n",
      "Trainable params: 5,330,241\n",
      "Non-trainable params: 0\n",
      "_________________________________________________________________\n"
     ]
    }
   ],
   "source": [
    "model2 = build_model(vocab_size,\n",
    "                     embedding_dim,\n",
    "                     rnn_units,\n",
    "                     batch_size = 1)\n",
    "model2.load_weights(tf.train.latest_checkpoint(output_dir))\n",
    "model2.build(tf.TensorShape([1, None]))\n",
    "# start ch sequence A,\n",
    "# A -> model -> b\n",
    "# A.append(b) -> B\n",
    "# B -> model -> c\n",
    "# B.append(c) -> C\n",
    "# C -> model -> ...\n",
    "\n",
    "model2.summary()"
   ]
  },
  {
   "cell_type": "code",
   "execution_count": 36,
   "metadata": {},
   "outputs": [
    {
     "name": "stdout",
     "output_type": "stream",
     "text": [
      "ALL: I say, like the business:\n",
      "I have your formal men false firend evil\n",
      "Of my conception and embrace thee here,\n",
      "To pardon me ye; I may not show it.\n",
      "\n",
      "DUKE OF YORK:\n",
      "I will be satisfied; let me see it, I say.\n",
      "Treason! foul eronest power to hear\n",
      "My want of some points on the rosolve joy cannot live.\n",
      "\n",
      "ISABELLA:\n",
      "O, no, I will not burst be free\n",
      "As mothers in his own design, and I\n",
      "Remain a pinch'd thing; yea, and you bring it thee,\n",
      "So far that name was never merry word,\n",
      "That thou neglect me now, with that offences would have you whether my love:\n",
      "Look you, sir, hath best sedutity to London,\n",
      "To see the life as lively mock'd as mine,\n",
      "Which I did this be brought to badied,\n",
      "In hundy too much frail.\n",
      "\n",
      "BENVOLIO:\n",
      "If it be possible. I for this alterate pilot\n",
      "And lay the summer's dear as the old folks,\n",
      "how the south in the earth a Citizen:\n",
      "You have residence and I mistake me much.\n",
      "\n",
      "PERDITA:\n",
      "And indeed, sir, so him:\n",
      "The rash requiratoentle more come way of blist.\n",
      "\n",
      "Second Citizen:\n",
      "Ay, sir, in Pisa have I often \n"
     ]
    }
   ],
   "source": [
    "def generate_text(model, start_string, num_generate = 1000):\n",
    "    input_eval = [char2idx[ch] for ch in start_string]\n",
    "    input_eval = tf.expand_dims(input_eval, 0)\n",
    "    \n",
    "    text_generated = []\n",
    "    model.reset_states()\n",
    "    \n",
    "    # temperature > 1, random\n",
    "    # tenperature < 1, greedy\n",
    "    temperature = 0.5\n",
    "    \n",
    "    for _ in range(num_generate):\n",
    "        # 1. model inference -> predictions\n",
    "        # 2. sample -> ch -> text_generated.\n",
    "        # 3. update input_eval\n",
    "        \n",
    "        # predictions : [batch_size, input_eval_len, vocab_size]\n",
    "        predictions = model(input_eval)\n",
    "        \n",
    "        # predictions: logits -> softmax -> prob\n",
    "        # softmax: e^xi\n",
    "        # eg: 4,2 e^4 / (e^4 + e^2) = 0.88, e^2 / (e^4 + e^2) = 0.12\n",
    "        # eg: 2,1 e^2 / (e^2 + e) = 0.73, e / (e^2 + e) = 0.27\n",
    "        predictions = predictions / temperature\n",
    "        \n",
    "        # predictions : [input_eval_len, vocab_size]\n",
    "        predictions = tf.squeeze(predictions, 0)\n",
    "        \n",
    "        # predicted_ids: [input_eval_len, 1]\n",
    "        # a b c -> b c d\n",
    "        predicted_id = tf.random.categorical(\n",
    "            predictions, num_samples = 1)[-1, 0].numpy()\n",
    "        text_generated.append(idx2char[predicted_id])\n",
    "        # s, x -> rnn -> s', y\n",
    "        input_eval = tf.expand_dims([predicted_id], 0)\n",
    "    return start_string + ''.join(text_generated)\n",
    "\n",
    "new_text = generate_text(model2, \"ALL: \")\n",
    "print(new_text)"
   ]
  }
 ],
 "metadata": {
  "kernelspec": {
   "display_name": "Python 3",
   "language": "python",
   "name": "python3"
  },
  "language_info": {
   "codemirror_mode": {
    "name": "ipython",
    "version": 3
   },
   "file_extension": ".py",
   "mimetype": "text/x-python",
   "name": "python",
   "nbconvert_exporter": "python",
   "pygments_lexer": "ipython3",
   "version": "3.6.4"
  }
 },
 "nbformat": 4,
 "nbformat_minor": 2
}
