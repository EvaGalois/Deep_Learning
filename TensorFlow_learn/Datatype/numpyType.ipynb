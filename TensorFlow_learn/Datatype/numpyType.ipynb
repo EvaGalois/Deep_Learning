{
 "cells": [
  {
   "cell_type": "code",
   "execution_count": 2,
   "metadata": {},
   "outputs": [],
   "source": [
    "import numpy as np\n",
    "import os\n",
    "import sys\n",
    "import time"
   ]
  },
  {
   "cell_type": "markdown",
   "metadata": {},
   "source": [
    "## NumPy - 简介\n",
    "NumPy 是一个 Python 包。 它代表 “Numeric Python”。 它是一个由多维数组对象和用于处理数组的例程集合组成的库。\n",
    "\n",
    "Numeric，即 NumPy 的前身，是由 Jim Hugunin 开发的。 也开发了另一个包 Numarray ，它拥有一些额外的功能。 2005年，Travis Oliphant 通过将 Numarray 的功能集成到 Numeric 包中来创建 NumPy 包。 这个开源项目有很多贡献者。"
   ]
  },
  {
   "cell_type": "markdown",
   "metadata": {},
   "source": [
    "## NumPy 操作\n",
    "\n",
    "使用NumPy，开发人员可以执行以下操作：\n",
    "\n",
    "数组的算数和逻辑运算。\n",
    "\n",
    "傅立叶变换和用于图形操作的例程。\n",
    "\n",
    "与线性代数有关的操作。 NumPy 拥有线性代数和随机数生成的内置函数。"
   ]
  },
  {
   "cell_type": "markdown",
   "metadata": {},
   "source": [
    "## NumPy – MatLab 的替代之一\n",
    "\n",
    "NumPy 通常与 SciPy（Scientific Python）和 Matplotlib（绘图库）一起使用。 这种组合广泛用于替代 MatLab，是一个流行的技术计算平台。 但是，Python 作为 MatLab 的替代方案，现在被视为一种更加现代和完整的编程语言。\n",
    "\n",
    "NumPy 是开源的，这是它的一个额外的优势。"
   ]
  },
  {
   "cell_type": "markdown",
   "metadata": {},
   "source": [
    "## NumPy - Ndarray 对象\n",
    "NumPy 中定义的最重要的对象是称为 ndarray 的 N 维数组类型。 它描述相同类型的元素集合。 可以使用基于零的索引访问集合中的项目。\n",
    "\n",
    "ndarray中的每个元素在内存中使用相同大小的块。 ndarray中的每个元素是数据类型对象的对象（称为 dtype）。\n",
    "\n",
    "从ndarray对象提取的任何元素（通过切片）由一个数组标量类型的 Python 对象表示。 下图显示了ndarray，数据类型对象（dtype）和数组标量类型之间的关系。\n",
    "<img src=http://www.uml.org.cn/python/images/201907091.jpg class=\"rm-style\">\n",
    "基本的ndarray是使用 NumPy 中的数组函数创建的，如下所示：\n",
    " \n",
    "numpy.array 它从任何暴露数组接口的对象，或从返回数组的任何方法创建一个`ndarray`。\n",
    "```\n",
    "numpy.array(object, dtype = None, copy = True, order = None, subok = False, ndmin = 0)\n",
    "```\n",
    "\n",
    "|序号|参数及描述|\n",
    "|-|:-|\n",
    "|1.|`object`任何暴露数组借口方法的对象都会返回一个数组或任何（嵌套）序列|\n",
    "|2.|`dtype`数组的所需数据类型，可选|\n",
    "|3.|`copy`默认为 true，对象是否被复制，可选|\n",
    "|4.|`order`C（按行）、F（按列）或 A（任意，默认）。|\n",
    "|5.|`subok`默认情况下，返回的数组被强制为基类数组。如果为 true，则返回子类|\n",
    "|6.|`dnmin`指定返回数组的最小维数。|"
   ]
  },
  {
   "cell_type": "code",
   "execution_count": 16,
   "metadata": {},
   "outputs": [
    {
     "name": "stdout",
     "output_type": "stream",
     "text": [
      "<class 'numpy.ndarray'> [1 2 3]\n",
      "[[1 2]\n",
      " [3 4]]\n",
      "[[1 2 3 4 5]]\n",
      "[1.+0.j 2.+0.j 3.+0.j]\n"
     ]
    }
   ],
   "source": [
    "# 一维\n",
    "a = np.array([1,2,3])\n",
    "print(type(a),a)\n",
    "\n",
    "# 二维\n",
    "b = np.array([[1, 2], [3, 4]])\n",
    "print(b)\n",
    "\n",
    "# 最小维度\n",
    "c = np.array([1, 2, 3, 4, 5], ndmin = 2)\n",
    "print(c)\n",
    "\n",
    "\n",
    "# dtype 参数\n",
    "d = np.array([1, 2, 3], dtype = complex)\n",
    "print(d)"
   ]
  },
  {
   "cell_type": "markdown",
   "metadata": {},
   "source": [
    "## NumPy - 数据类型\n",
    "NumPy 支持比 Python 更多种类的数值类型。 下表显示了 NumPy 中定义的不同标量数据类型。\n",
    "<img src=http://www.uml.org.cn/python/images/201907093.png class=\"rm-style\">\n",
    "NumPy 数字类型是dtype（数据类型）对象的实例，每个对象具有唯一的特征。 这些类型可以是np.bool_，np.float32等。\n",
    "\n",
    "### 数据类型对象 (dtype)\n",
    "\n",
    "数据类型对象描述了对应于数组的固定内存块的解释，取决于以下方面：\n",
    "\n",
    "- 数据类型（整数、浮点或者 Python 对象）\n",
    "\n",
    "- 数据大小\n",
    "\n",
    "- 字节序（小端或大端）\n",
    "\n",
    "- 在结构化类型的情况下，字段的名称，每个字段的数据类型，和每个字段占用的内存块部分。\n",
    "\n",
    "- 如果数据类型是子序列，它的形状和数据类型。\n",
    "\n",
    "- 字节顺序取决于数据类型的前缀`<`或`>`。 `<`意味着编码是小端（最小有效字节存储在最小地址中）。 `>`意味着编码是大端（最大有效字节存储在最小地址中）。\n",
    "\n",
    "dtype可由一下语法构造：\n",
    "```\n",
    "numpy.dtype(object, align, copy)\n",
    "```\n",
    "- Object：被转换为数据类型的对象。\n",
    "\n",
    "- Align：如果为 true，则向字段添加间隔，使其类似 C 的结构体。\n",
    "\n",
    "- Copy ? 生成 dtype 对象的新副本，如果为 flase，结果是内建数据类型对象的引用。"
   ]
  },
  {
   "cell_type": "code",
   "execution_count": 25,
   "metadata": {
    "scrolled": true
   },
   "outputs": [
    {
     "name": "stdout",
     "output_type": "stream",
     "text": [
      "int32\n",
      "int32\n",
      ">i4\n",
      "[('age', 'i1')]\n",
      "[(10,) (20,) (30,)]\n",
      "[10 20 30]\n",
      "[('name', 'S20'), ('age', 'i1'), ('marks', '<f4')]\n",
      "[(b'abc', 21, 50.) (b'xyz', 18, 75.)]\n"
     ]
    }
   ],
   "source": [
    "# 使用数组标量类型\n",
    "dt = np.dtype(np.int32)\n",
    "print(dt)\n",
    "\n",
    "\n",
    "#int8，int16，int32，int64 可替换为等价的字符串 'i1'，'i2'，'i4'，以及其他。\n",
    "import numpy as np\n",
    "dt = np.dtype('i4')\n",
    "print(dt)\n",
    "\n",
    "# 使用端记号\n",
    "dt = np.dtype('>i4')\n",
    "print(dt)\n",
    "\n",
    "\n",
    "# 首先创建结构化数据类型。\n",
    "dt = np.dtype([('age',np.int8)])\n",
    "print(dt)\n",
    "# 现在将其应用于 ndarray 对象\n",
    "dt = np.dtype([('age',np.int8)])\n",
    "a = np.array([(10,),(20,),(30,)], dtype = dt)\n",
    "print(a)\n",
    "\n",
    "# 文件名称可用于访问 age 列的内容\n",
    "dt = np.dtype([('age',np.int8)])\n",
    "a = np.array([(10,),(20,),(30,)], dtype = dt)\n",
    "print(a['age'])\n",
    "\n",
    "# 定义名为 student 的结构化数据类型，其中包含字符串字段name，整数字段age和浮点字段marks。 此dtype应用于ndarray对象。\n",
    "student = np.dtype([('name','S20'), ('age', 'i1'), ('marks', 'f4')])\n",
    "print(student)\n",
    "\n",
    "student = np.dtype([('name','S20'), ('age', 'i1'), ('marks', 'f4')])\n",
    "a = np.array([('abc', 21, 50),('xyz', 18, 75)], dtype = student)\n",
    "print(a)\n",
    "\n",
    "\"\"\"\n",
    "每个内建类型都有一个唯一定义它的字符代码：\n",
    "\n",
    "'b'：布尔值\n",
    "\n",
    "'i'：符号整数\n",
    "\n",
    "'u'：无符号整数\n",
    "\n",
    "'f'：浮点\n",
    "\n",
    "'c'：复数浮点\n",
    "\n",
    "'m'：时间间隔\n",
    "\n",
    "'M'：日期时间\n",
    "\n",
    "'O'：Python 对象\n",
    "\n",
    "'S', 'a'：字节串\n",
    "\n",
    "'U'：Unicode\n",
    "\n",
    "'V'：原始数据（void）\"\"\""
   ]
  },
  {
   "cell_type": "markdown",
   "metadata": {},
   "source": [
    "## NumPy - 数组属性\n",
    "```\n",
    "ndarray.shape\n",
    "```"
   ]
  },
  {
   "cell_type": "code",
   "execution_count": 41,
   "metadata": {},
   "outputs": [
    {
     "name": "stdout",
     "output_type": "stream",
     "text": [
      "(2, 3)\n",
      "[[1 2]\n",
      " [3 4]\n",
      " [5 6]]\n",
      "[[1 2]\n",
      " [3 4]\n",
      " [5 6]]\n",
      "[ 0  1  2  3  4  5  6  7  8  9 10 11 12 13 14 15 16 17 18 19 20 21 22 23]\n",
      "[[[ 0  1  2]\n",
      "  [ 3  4  5]\n",
      "  [ 6  7  8]\n",
      "  [ 9 10 11]]\n",
      "\n",
      " [[12 13 14]\n",
      "  [15 16 17]\n",
      "  [18 19 20]\n",
      "  [21 22 23]]]\n",
      "x.itemsize:  1\n",
      "x.itemsize:  4\n"
     ]
    }
   ],
   "source": [
    "a = np.array([[1,2,3],[4,5,6]])\n",
    "print(a.shape)\n",
    "\n",
    "# 调整数组大小\n",
    "a.shape = (3,2)\n",
    "print(a)\n",
    "\n",
    "# reshape\n",
    "a = np.array([[1,2,3],[4,5,6]])\n",
    "b = a.reshape(3,2)\n",
    "print(b)\n",
    "\n",
    "# 等间隔数字的数组\n",
    "a = np.arange(24)\n",
    "print(a)\n",
    "\n",
    "# 一维数组\n",
    "a = np.arange(24)\n",
    "a.ndim\n",
    "# 现在调整其大小\n",
    "b = a.reshape(2,4,3)\n",
    "print(b)\n",
    "# b 现在拥有三个维度\n",
    "\n",
    "\n",
    "# 数组的 dtype 为 int8（一个字节）\n",
    "x = np.array([1,2,3,4,5], dtype = np.int8)\n",
    "print('x.itemsize: ', x.itemsize)\n",
    "\n",
    "\n",
    "# 数组的 dtype 现在为 float32（四个字节）\n",
    "x = np.array([1,2,3,4,5], dtype = np.float32)\n",
    "print('x.itemsize: ', x.itemsize)"
   ]
  },
  {
   "cell_type": "markdown",
   "metadata": {},
   "source": [
    "`numpy.flags`\n",
    "ndarray 对象拥有以下属性。这个函数返回了它们的当前值。\n",
    "<img src=http://www.uml.org.cn/python/images/201907094.png class=\"rm-style\">"
   ]
  },
  {
   "cell_type": "code",
   "execution_count": 42,
   "metadata": {},
   "outputs": [
    {
     "name": "stdout",
     "output_type": "stream",
     "text": [
      "  C_CONTIGUOUS : True\n",
      "  F_CONTIGUOUS : True\n",
      "  OWNDATA : True\n",
      "  WRITEABLE : True\n",
      "  ALIGNED : True\n",
      "  WRITEBACKIFCOPY : False\n",
      "  UPDATEIFCOPY : False\n",
      "\n"
     ]
    }
   ],
   "source": [
    "x = np.array([1,2,3,4,5])\n",
    "print(x.flags)"
   ]
  },
  {
   "cell_type": "markdown",
   "metadata": {},
   "source": [
    "## NumPy - 数组创建例程\n",
    "新的ndarray对象可以通过任何下列数组创建例程或使用低级ndarray构造函数构造。\n",
    "\n",
    "numpy.empty\n",
    "\n",
    "它创建指定形状和dtype的未初始化数组。 它使用以下构造函数：\n",
    "```\n",
    "numpy.empty(shape, dtype = float, order = 'C')\n",
    "```\n",
    "构造器接受下列参数：\n",
    "\n",
    "|序号|参数及描述|\n",
    "|-|-|\n",
    "|1.|`Shape`空数组的形状，整数或整数元祖|\n",
    "|2.|`Dtype`所需输出的数组类型，可选|\n",
    "|3.|`Order`'C'为按行的 C 风格数组，'D'为按列的 Fortran 风格数组|"
   ]
  },
  {
   "cell_type": "code",
   "execution_count": 49,
   "metadata": {},
   "outputs": [
    {
     "name": "stdout",
     "output_type": "stream",
     "text": [
      "[[1 2]\n",
      " [3 4]\n",
      " [5 6]]\n"
     ]
    }
   ],
   "source": [
    "x = np.empty([3,2], dtype = int, order = 'C')\n",
    "print(x)"
   ]
  },
  {
   "cell_type": "markdown",
   "metadata": {},
   "source": [
    "### numpy.zeros 以 0 填充的新数组\n",
    "```\n",
    "numpy.zeros(shape, dtype = float, order = 'C')\n",
    "```\n",
    "构造器接受下列参数：\n",
    "\n",
    "|序号|参数及描述|\n",
    "|-|-|\n",
    "|1.|`Shape`空数组的形状，整数或整数元祖|\n",
    "|2.|`Dtype`所需输出的数组类型，可选|\n",
    "|3.|`Order`'C'为按行的 C 风格数组，'D'为按列的 Fortran 风格数组|"
   ]
  },
  {
   "cell_type": "code",
   "execution_count": 60,
   "metadata": {},
   "outputs": [
    {
     "name": "stdout",
     "output_type": "stream",
     "text": [
      "[0. 0. 0. 0. 0.]\n",
      "[0 0 0 0 0]\n",
      "[[(0, 0.) (0, 0.)]\n",
      " [(0, 0.) (0, 0.)]]\n"
     ]
    }
   ],
   "source": [
    "# 含有 5 个 0 的数组，默认类型为 float\n",
    "x = np.zeros(5)\n",
    "print(x)\n",
    "\n",
    "x = np.zeros((5,), dtype = np.int)\n",
    "print(x)\n",
    "\n",
    "\n",
    "# 自定义类型\n",
    "x = np.zeros((2,2), dtype = [('x', 'i4'), ('y', 'f4')])\n",
    "print(x)"
   ]
  },
  {
   "cell_type": "markdown",
   "metadata": {},
   "source": [
    "### numpy.ones 以 1 填充的新数组\n",
    "```\n",
    "numpy.ones(shape, dtype = float, order = 'C')\n",
    "```\n",
    "构造器接受下列参数：\n",
    "\n",
    "|序号|参数及描述|\n",
    "|-|-|\n",
    "|1.|`Shape`空数组的形状，整数或整数元祖|\n",
    "|2.|`Dtype`所需输出的数组类型，可选|\n",
    "|3.|`Order`'C'为按行的 C 风格数组，'D'为按列的 Fortran 风格数组|"
   ]
  },
  {
   "cell_type": "code",
   "execution_count": 68,
   "metadata": {},
   "outputs": [
    {
     "name": "stdout",
     "output_type": "stream",
     "text": [
      "[1. 1. 1. 1. 1.]\n",
      "[[5 5]\n",
      " [5 5]]\n"
     ]
    }
   ],
   "source": [
    "# 含有 5 个 1 的数组，默认类型为 float\n",
    "x = np.ones(5)\n",
    "print(x)\n",
    "\n",
    "x = 5*np.ones([2,2], dtype = int)\n",
    "print(x)"
   ]
  },
  {
   "cell_type": "markdown",
   "metadata": {},
   "source": [
    "## NumPy - 来自现有数据的数组\n",
    "`numpy.asarray`\n",
    "此函数类似于`numpy.array`，除了它有较少的参数。 这个例程对于将 Python 序列转换为 ndarray 非常有用。\n",
    "```\n",
    "numpy.asarray(a, dtype = None, order = None)\n",
    "```\n",
    "构造器接受下列参数：\n",
    "\n",
    "|序号|参数及描述|\n",
    "|-|-|\n",
    "|1.|`a`任意形式的输入参数，比如列表、列表和元祖、元祖、元祖的元祖、元祖的列表|\n",
    "|2.|`dtype`通常，输入数据的类型会应用到返回的`ndarray`|\n",
    "|3.|`order`'C'为按行的 C 风格数组，'D'为按列的 Fortran 风格数组|"
   ]
  },
  {
   "cell_type": "code",
   "execution_count": 72,
   "metadata": {},
   "outputs": [
    {
     "name": "stdout",
     "output_type": "stream",
     "text": [
      "[1 2 3]\n",
      "[1. 2. 3.]\n",
      "[1 2 3]\n",
      "[(1, 2, 3) (4, 5)]\n"
     ]
    }
   ],
   "source": [
    "x = [1,2,3]\n",
    "a = np.asarray(x)\n",
    "print(a)\n",
    "\n",
    "# 设置了 dtype\n",
    "x = [1,2,3]\n",
    "a = np.asarray(x, dtype = float)\n",
    "print(a)\n",
    "\n",
    "# 来自元组的 ndarray\n",
    "x = (1,2,3)\n",
    "a = np.asarray(x)\n",
    "print(a)\n",
    "\n",
    "# 来自元组列表的 ndarray\n",
    "x = [(1,2,3),(4,5)]\n",
    "a = np.asarray(x)\n",
    "print(a)"
   ]
  },
  {
   "cell_type": "markdown",
   "metadata": {},
   "source": [
    "#### numpy.frombuffer\n",
    "此函数将缓冲区解释为一维数组。 暴露缓冲区接口的任何对象都用作参数来返回 ndarray。\n",
    "```\n",
    "numpy.frombuffer(buffer, dtype = float, count = -1, offset = 0)\n",
    "```\n",
    "构造器接受下列参数：\n",
    "\n",
    "|序号|参数及描述|\n",
    "|-|-|\n",
    "|1.|`buffer`任何暴露缓冲区接口的对象|\n",
    "|2.|`dtype`返回数组的数据类型，默认为 float|\n",
    "|3.|`count`需要读取的数据数量，默认为 -1，读取所有数据|\n",
    "|4.|`offset`需要读取的起始位置，默认为 0|"
   ]
  },
  {
   "cell_type": "code",
   "execution_count": 78,
   "metadata": {},
   "outputs": [
    {
     "name": "stdout",
     "output_type": "stream",
     "text": [
      "[b'H' b'e' b'l' b'l' b'o' b' ' b'W' b'o' b'r' b'l' b'd']\n"
     ]
    }
   ],
   "source": [
    "s = 'Hello World'\n",
    "a = np.frombuffer(s.encode(), dtype = 'S1')\n",
    "print(a)"
   ]
  },
  {
   "cell_type": "markdown",
   "metadata": {},
   "source": [
    "`numpy.fromiter`\n",
    "此函数从任何可迭代对象构建一个ndarray对象，返回一个新的一维数组。\n",
    "```\n",
    "numpy.fromiter(iterable, dtype, count = -1)\n",
    "```\n",
    "构造器接受下列参数：\n",
    "\n",
    "|序号|参数及描述|\n",
    "|-|-|\n",
    "|1.|`iterable`任何可迭代的对象|\n",
    "|2.|`dtype`返回数组的数据类型|\n",
    "|3.|`count`需要读取的数据数量，默认为 -1，读取所有数据|"
   ]
  },
  {
   "cell_type": "code",
   "execution_count": 84,
   "metadata": {},
   "outputs": [
    {
     "name": "stdout",
     "output_type": "stream",
     "text": [
      "range(0, 5)\n",
      "[0. 1. 2. 3. 4.]\n"
     ]
    }
   ],
   "source": [
    "# 使用 range 函数创建列表对象\n",
    "list = range(5)\n",
    "print(list)\n",
    "\n",
    "# 从列表中获得迭代器\n",
    "list = range(5)\n",
    "it = iter(list)\n",
    "# 使用迭代器创建 ndarray\n",
    "x = np.fromiter(it, dtype = float)\n",
    "print(x)"
   ]
  },
  {
   "cell_type": "markdown",
   "metadata": {},
   "source": [
    "## NumPy - 来自数值范围的数组\n",
    "`numpy.arange`\n",
    "这个函数返回ndarray对象，包含给定范围内的等间隔值。\n",
    "```\n",
    "numpy.arange(start, stop, step, dtype)\n",
    "```\n",
    "构造器接受下列参数：\n",
    "\n",
    "|序号|参数及描述|\n",
    "|-|-|\n",
    "|1.|`start`范围的起始值，默认为 0|\n",
    "|2.|`stop`范围的终止值（不包含）|\n",
    "|3.|`step`两个值的间隔，默认为 1|\n",
    "|4.|`dtype`返回 ndarray 的数据类型，如果没有提供，则会使用输入数据的类型|"
   ]
  },
  {
   "cell_type": "code",
   "execution_count": 86,
   "metadata": {},
   "outputs": [
    {
     "name": "stdout",
     "output_type": "stream",
     "text": [
      "[0 1 2 3 4]\n",
      "[0. 1. 2. 3. 4.]\n"
     ]
    }
   ],
   "source": [
    "x = np.arange(5)\n",
    "print(x)\n",
    "\n",
    "# 设置了 dtype\n",
    "x = np.arange(5, dtype = float)\n",
    "print(x)"
   ]
  },
  {
   "cell_type": "code",
   "execution_count": 87,
   "metadata": {},
   "outputs": [
    {
     "name": "stdout",
     "output_type": "stream",
     "text": [
      "[10 12 14 16 18]\n"
     ]
    }
   ],
   "source": [
    "# 设置了起始值和终止值参数\n",
    "x = np.arange(10,20,2)\n",
    "print(x)"
   ]
  },
  {
   "cell_type": "markdown",
   "metadata": {},
   "source": [
    "## `numpy.linspace`\n",
    "此函数类似于arange()函数。 在此函数中，指定了范围之间的均匀间隔数量，而不是步长。 此函数的用法如下。\n",
    "```\n",
    "numpy.linspace(start, stop, num, endpoint, retstep, dtype)\n",
    "```\n",
    "构造器接受下列参数：\n",
    "\n",
    "|序号|参数及描述|\n",
    "|-|-|\n",
    "|1.|`start`序列的起始值|\n",
    "|2.|`stop`序列的终止值，如果 endpoint 为 true，该值包含于序列中|\n",
    "|3.|`num`要生成的等间隔阳历数量，默认为 50|\n",
    "|4.|`endpoint`序列中是否包含 stop 值，默认为 true|\n",
    "|5.|`restep`如果为 true，返回样例，以及连续数字之间的步长|\n",
    "|6.|`dtype`输出 ndarray 的数据类型|"
   ]
  },
  {
   "cell_type": "code",
   "execution_count": 89,
   "metadata": {},
   "outputs": [
    {
     "name": "stdout",
     "output_type": "stream",
     "text": [
      "[10.  12.5 15.  17.5 20. ]\n",
      "[10. 12. 14. 16. 18.]\n",
      "(array([1.  , 1.25, 1.5 , 1.75, 2.  ]), 0.25)\n"
     ]
    }
   ],
   "source": [
    "x = np.linspace(10, 20 ,5)\n",
    "print(x)\n",
    "\n",
    "# 将 endpoint 设为 false\n",
    "x = np.linspace(10, 20, 5, endpoint = False)\n",
    "print(x)\n",
    "\n",
    "# 输出 retstep 值\n",
    "x = np.linspace(1,2,5, retstep = True)\n",
    "print(x)\n",
    "# 这里的 retstep 为 0.25"
   ]
  },
  {
   "cell_type": "markdown",
   "metadata": {},
   "source": [
    "## `numpy.logspace`\n",
    "此函数返回一个ndarray对象，其中包含在对数刻度上均匀分布的数字。 刻度的开始和结束端点是某个底数的幂，通常为 10。\n",
    "```\n",
    "numpy.logscale(start, stop, num, endpoint, base, dtype)\n",
    "```\n",
    "logspace函数的输出由以下参数决定：\n",
    "\n",
    "|序号|参数及描述|\n",
    "|-|-|\n",
    "|1.|`start`起始值是 base ** start|\n",
    "|2.|`stop`终止值是 base ** stop|\n",
    "|3.|`num`范围内的数值数量，默认为 50|\n",
    "|4.|`endpoint`如果为 true，终止值包含在输出数组当中|\n",
    "|5.|`base`对数空间的底数，默认为 10|\n",
    "|6.|`dtype`输出数组的数据类型，如果没有提供，则取决于其它参数|"
   ]
  },
  {
   "cell_type": "code",
   "execution_count": 3,
   "metadata": {},
   "outputs": [
    {
     "name": "stdout",
     "output_type": "stream",
     "text": [
      "[ 10.          12.91549665  16.68100537  21.5443469   27.82559402\n",
      "  35.93813664  46.41588834  59.94842503  77.42636827 100.        ]\n",
      "[   2.    4.    8.   16.   32.   64.  128.  256.  512. 1024.]\n"
     ]
    }
   ],
   "source": [
    "# 默认底数是 10\n",
    "a = np.logspace(1.0, 2.0, num = 10)\n",
    "print(a)\n",
    "\n",
    "\n",
    "# 将对数空间的底数设置为 2\n",
    "a = np.logspace(1, 10, num = 10, base = 2)\n",
    "print(a)"
   ]
  },
  {
   "cell_type": "markdown",
   "metadata": {},
   "source": [
    "## NumPy - 切片和索引\n",
    "`ndarray`对象的内容可以通过索引或切片来访问和修改，就像 Python 的内置容器对象一样。\n",
    "\n",
    "如前所述，`ndarray`对象中的元素遵循基于零的索引。 有三种可用的索引方法类型： 字段访问，基本切片和高级索引。\n",
    "\n",
    "基本切片是 Python 中基本切片概念到 n 维的扩展。 通过将`start`，`stop`和`step`参数提供给内置的`slice`函数来构造一个 Python slice 对象。 此 slice 对象被传递给数组来提取数组的一部分。"
   ]
  },
  {
   "cell_type": "code",
   "execution_count": 99,
   "metadata": {
    "scrolled": true
   },
   "outputs": [
    {
     "name": "stdout",
     "output_type": "stream",
     "text": [
      "[2 4 6]\n",
      "[2 4 6]\n",
      "5\n",
      "[2 3 4 5 6 7 8 9]\n",
      "[2 3 4]\n",
      "[[1 2 3]\n",
      " [3 4 5]\n",
      " [4 5 6]]\n",
      "现在从索引 a[1:] 开始对数组切片\n",
      "[[3 4 5]\n",
      " [4 5 6]]\n",
      "我们的数组是：\n",
      "[[1 2 3]\n",
      " [3 4 5]\n",
      " [4 5 6]]\n",
      "\n",
      "\n",
      "第二列的元素是：\n",
      "[2 4 5]\n",
      "\n",
      "\n",
      "第二行的元素是：\n",
      "[3 4 5]\n",
      "\n",
      "\n",
      "第二列及其剩余元素是：\n",
      "[[2 3]\n",
      " [4 5]\n",
      " [5 6]]\n"
     ]
    }
   ],
   "source": [
    "# ndarray对象由arange()函数创建。\n",
    "# 然后，分别用起始，终止和步长值2，7和2定义切片对象。 当这个切片对象传递给ndarray时，会对它的一部分进行切片，从索引2到7，步长为2。\n",
    "a = np.arange(10)\n",
    "s = slice(2,7,2)\n",
    "print(a[s])\n",
    "\n",
    "# 通过将由冒号分隔的切片参数（start:stop:step）直接提供给ndarray对象，也可以获得相同的结果。\n",
    "a = np.arange(10)\n",
    "b = a[2:7:2]\n",
    "print(b)\n",
    "# 如果只输入一个参数，则将返回与索引对应的单个项目。 如果使用a:，则从该索引向后的所有项目将被提取。\n",
    "# 如果使用两个参数（以:分隔），则对两个索引（不包括停止索引）之间的元素以默认步骤进行切片。\n",
    "\n",
    "# 对单个元素进行切片\n",
    "a = np.arange(10)\n",
    "b = a[5]\n",
    "print(b)\n",
    "\n",
    "\n",
    "# 对始于索引的元素进行切片\n",
    "a = np.arange(10)\n",
    "print(a[2:])\n",
    "\n",
    "# 对索引之间的元素进行切片\n",
    "a = np.arange(10)\n",
    "print(a[2:5])\n",
    "# 也可用于多维ndarray。\n",
    "\n",
    "a = np.array([[1,2,3],[3,4,5],[4,5,6]])\n",
    "print(a)\n",
    "# 对始于索引的元素进行切片\n",
    "print('现在从索引 a[1:] 开始对数组切片')\n",
    "print(a[1:])\n",
    "\n",
    "# 最开始的数组\n",
    "a = np.array([[1,2,3],[3,4,5],[4,5,6]])\n",
    "print('我们的数组是：')\n",
    "print(a)\n",
    "print('\\n')\n",
    "# 这会返回第二列元素的数组：\n",
    "print('第二列的元素是：')\n",
    "print(a[...,1])\n",
    "print('\\n')\n",
    "# 现在我们从第二行切片所有元素：\n",
    "print('第二行的元素是：')\n",
    "print(a[1,...])\n",
    "print('\\n')\n",
    "# 现在我们从第二列向后切片所有元素：\n",
    "print('第二列及其剩余元素是：')\n",
    "print(a[...,1:])\n",
    "# 切片还可以包括省略号（...），来使选择元组的长度与数组的维度相同。 如果在行位置使用省略号，它将返回包含行中元素的ndarray。"
   ]
  },
  {
   "cell_type": "markdown",
   "metadata": {},
   "source": [
    "## NumPy - 高级索引\n",
    "如果一个`ndarray`是非元组序列，数据类型为整数或布尔值的`ndarray`，或者至少一个元素为序列对象的元组，我们就能够用它来索引`ndarray`。高级索引始终返回数据的副本。 与此相反，切片只提供了一个视图。\n",
    "\n",
    "有两种类型的高级索引：整数和布尔值。\n",
    "\n",
    "#### 整数索引\n",
    "\n",
    "这种机制有助于基于 N 维索引来获取数组中任意元素。 每个整数数组表示该维度的下标值。 当索引的元素个数就是目标`ndarray`的维度时，会变得相当直接。\n",
    "\n",
    "以下示例获取了`ndarray`对象中每一行指定列的一个元素。 因此，行索引包含所有行号，列索引指定要选择的元素。"
   ]
  },
  {
   "cell_type": "code",
   "execution_count": 4,
   "metadata": {},
   "outputs": [
    {
     "name": "stdout",
     "output_type": "stream",
     "text": [
      "[1 4 5]\n",
      "我们的数组是：\n",
      "[[ 0  1  2]\n",
      " [ 3  4  5]\n",
      " [ 6  7  8]\n",
      " [ 9 10 11]]\n",
      "\n",
      "\n",
      "这个数组的每个角处的元素是：\n",
      "[[ 0  2]\n",
      " [ 9 11]]\n"
     ]
    }
   ],
   "source": [
    "x = np.array([[1, 2], [3, 4], [5, 6]])\n",
    "y = x[[0,1,2], [0,1,0]]\n",
    "print(y)\n",
    "\n",
    "x = np.array([[ 0, 1, 2],[ 3, 4, 5],[ 6, 7, 8],[ 9, 10, 11]])\n",
    "print('我们的数组是：')\n",
    "print(x)\n",
    "print('\\n')\n",
    "rows = np.array([[0,0],[3,3]])\n",
    "cols = np.array([[0,2],[0,2]])\n",
    "y = x[rows,cols]\n",
    "print('这个数组的每个角处的元素是：')\n",
    "print(y)"
   ]
  },
  {
   "cell_type": "markdown",
   "metadata": {},
   "source": [
    "高级和基本索引可以通过使用切片:或省略号...与索引数组组合。 以下示例使用slice作为列索引和高级索引。 当切片用于两者时，结果是相同的。 但高级索引会导致复制，并且可能有不同的内存布局。"
   ]
  },
  {
   "cell_type": "code",
   "execution_count": 102,
   "metadata": {},
   "outputs": [
    {
     "name": "stdout",
     "output_type": "stream",
     "text": [
      "我们的数组是：\n",
      "[[ 0  1  2]\n",
      " [ 3  4  5]\n",
      " [ 6  7  8]\n",
      " [ 9 10 11]]\n",
      "\n",
      "\n",
      "切片之后，我们的数组变为：\n",
      "[[ 4  5]\n",
      " [ 7  8]\n",
      " [10 11]]\n",
      "\n",
      "\n",
      "对列使用高级索引来切片：\n",
      "[[ 4  5]\n",
      " [ 7  8]\n",
      " [10 11]]\n"
     ]
    }
   ],
   "source": [
    "x = np.array([[ 0, 1, 2],[ 3, 4, 5],[ 6, 7, 8],[ 9, 10, 11]])\n",
    "print('我们的数组是：')\n",
    "print(x)\n",
    "print('\\n')\n",
    "# 切片\n",
    "z = x[1:4,1:3]\n",
    "print('切片之后，我们的数组变为：')\n",
    "print(z)\n",
    "print('\\n')\n",
    "# 对列使用高级索引\n",
    "y = x[1:4,[1,2]]\n",
    "print('对列使用高级索引来切片：')\n",
    "print(y)"
   ]
  },
  {
   "cell_type": "markdown",
   "metadata": {},
   "source": [
    "#### 布尔索引\n",
    "当结果对象是布尔运算（例如比较运算符）的结果时，将使用此类型的高级索引。"
   ]
  },
  {
   "cell_type": "code",
   "execution_count": 106,
   "metadata": {},
   "outputs": [
    {
     "name": "stdout",
     "output_type": "stream",
     "text": [
      "我们的数组是：\n",
      "[[ 0  1  2]\n",
      " [ 3  4  5]\n",
      " [ 6  7  8]\n",
      " [ 9 10 11]]\n",
      "\n",
      "\n",
      "大于 5 的元素是：\n",
      "[ 6  7  8  9 10 11]\n",
      "[1. 2. 3. 4. 5.]\n",
      "[2. +6.j 3.5+5.j]\n"
     ]
    }
   ],
   "source": [
    "x = np.array([[ 0, 1, 2],[ 3, 4, 5],[ 6, 7, 8],[ 9, 10, 11]])\n",
    "print('我们的数组是：')\n",
    "print(x)\n",
    "print('\\n')\n",
    "# 打印出大于 5 的元素\n",
    "print('大于 5 的元素是：')\n",
    "print(x[x > 5])\n",
    "\n",
    "# ~ 取补运算符\n",
    "a = np.array([np.nan, 1,2,np.nan,3,4,5])\n",
    "print(a[~np.isnan(a)])\n",
    "\n",
    "# 过滤非复数元素\n",
    "a = np.array([1, 2+6j, 5, 3.5+5j])\n",
    "print(a[np.iscomplex(a)])"
   ]
  },
  {
   "cell_type": "markdown",
   "metadata": {},
   "source": [
    "### NumPy - 广播\n",
    "术语广播是指 NumPy 在算术运算期间处理不同形状的数组的能力。 对数组的算术运算通常在相应的元素上进行。 如果两个阵列具有完全相同的形状，则这些操作被无缝执行。"
   ]
  },
  {
   "cell_type": "code",
   "execution_count": 107,
   "metadata": {},
   "outputs": [
    {
     "name": "stdout",
     "output_type": "stream",
     "text": [
      "[ 10  40  90 160]\n"
     ]
    }
   ],
   "source": [
    "a = np.array([1,2,3,4])\n",
    "b = np.array([10,20,30,40])\n",
    "c = a * b\n",
    "print(c)"
   ]
  },
  {
   "cell_type": "markdown",
   "metadata": {},
   "source": [
    "如果两个数组的维数不相同，则元素到元素的操作是不可能的。 然而，在 NumPy 中仍然可以对形状不相似的数组进行操作，因为它拥有广播功能。 较小的数组会广播到较大数组的大小，以便使它们的形状可兼容。\n",
    "\n",
    "如果满足以下规则，可以进行广播：\n",
    "\n",
    "- ndim较小的数组会在前面追加一个长度为 1 的维度。\n",
    "\n",
    "- 输出数组的每个维度的大小是输入数组该维度大小的最大值。\n",
    "\n",
    "- 如果输入在每个维度中的大小与输出大小匹配，或其值正好为 1，则在计算中可它。\n",
    "\n",
    "- 如果输入的某个维度大小为 1，则该维度中的第一个数据元素将用于该维度的所有计算。\n",
    "\n",
    "- 如果上述规则产生有效结果，并且满足以下条件之一，那么数组被称为可广播的。\n",
    "\n",
    "- 数组拥有相同形状。\n",
    "\n",
    "- 数组拥有相同的维数，每个维度拥有相同长度，或者长度为 1。\n",
    "\n",
    "- 数组拥有极少的维度，可以在其前面追加长度为 1 的维度，使上述条件成立。"
   ]
  },
  {
   "cell_type": "code",
   "execution_count": 108,
   "metadata": {},
   "outputs": [
    {
     "name": "stdout",
     "output_type": "stream",
     "text": [
      "第一个数组：\n",
      "[[ 0.  0.  0.]\n",
      " [10. 10. 10.]\n",
      " [20. 20. 20.]\n",
      " [30. 30. 30.]]\n",
      "\n",
      "\n",
      "第二个数组：\n",
      "[1. 2. 3.]\n",
      "\n",
      "\n",
      "第一个数组加第二个数组：\n",
      "[[ 1.  2.  3.]\n",
      " [11. 12. 13.]\n",
      " [21. 22. 23.]\n",
      " [31. 32. 33.]]\n"
     ]
    }
   ],
   "source": [
    "a = np.array([[0.0,0.0,0.0],[10.0,10.0,10.0],[20.0,20.0,20.0],[30.0,30.0,30.0]])\n",
    "b = np.array([1.0,2.0,3.0])\n",
    "print('第一个数组：')\n",
    "print(a)\n",
    "print('\\n')\n",
    "print('第二个数组：')\n",
    "print(b)\n",
    "print('\\n')\n",
    "print('第一个数组加第二个数组：')\n",
    "print(a + b)"
   ]
  },
  {
   "cell_type": "markdown",
   "metadata": {},
   "source": [
    "数组b如何通过广播来与数组a兼容。\n",
    "<img src=http://www.uml.org.cn/python/images/2019070914.jpg class=\"rm-style\">"
   ]
  },
  {
   "cell_type": "markdown",
   "metadata": {},
   "source": [
    "## NumPy - 数组上的迭代\n",
    "NumPy 包包含一个迭代器对象numpy.nditer。 它是一个有效的多维迭代器对象，可以用于在数组上进行迭代。 数组的每个元素可使用 Python 的标准Iterator接口来访问。"
   ]
  },
  {
   "cell_type": "code",
   "execution_count": 119,
   "metadata": {},
   "outputs": [
    {
     "name": "stdout",
     "output_type": "stream",
     "text": [
      "原始数组是：\n",
      "[[ 0  5 10 15]\n",
      " [20 25 30 35]\n",
      " [40 45 50 55]]\n",
      "\n",
      "\n",
      "修改后的数组是：\n",
      "0\n",
      "5\n",
      "10\n",
      "15\n",
      "20\n",
      "25\n",
      "30\n",
      "35\n",
      "40\n",
      "45\n",
      "50\n",
      "55\n",
      "原始数组是：\n",
      "[[ 0  5 10 15]\n",
      " [20 25 30 35]\n",
      " [40 45 50 55]]\n",
      "\n",
      "\n",
      "原始数组的转置是：\n",
      "[[ 0 20 40]\n",
      " [ 5 25 45]\n",
      " [10 30 50]\n",
      " [15 35 55]]\n",
      "\n",
      "\n",
      "修改后的数组是：\n",
      "0\n",
      "5\n",
      "10\n",
      "15\n",
      "20\n",
      "25\n",
      "30\n",
      "35\n",
      "40\n",
      "45\n",
      "50\n",
      "55\n",
      "原始数组是：\n",
      "[[ 0  5 10 15]\n",
      " [20 25 30 35]\n",
      " [40 45 50 55]]\n",
      "\n",
      "\n",
      "原始数组的转置是：\n",
      "[[ 0 20 40]\n",
      " [ 5 25 45]\n",
      " [10 30 50]\n",
      " [15 35 55]]\n",
      "\n",
      "\n",
      "以 C 风格顺序排序：\n",
      "[[ 0 20 40]\n",
      " [ 5 25 45]\n",
      " [10 30 50]\n",
      " [15 35 55]]\n",
      "0\n",
      "20\n",
      "40\n",
      "5\n",
      "25\n",
      "45\n",
      "10\n",
      "30\n",
      "50\n",
      "15\n",
      "35\n",
      "55\n",
      "\n",
      "\n",
      "以 F 风格顺序排序：\n",
      "[[ 0 20 40]\n",
      " [ 5 25 45]\n",
      " [10 30 50]\n",
      " [15 35 55]]\n",
      "0\n",
      "5\n",
      "10\n",
      "15\n",
      "20\n",
      "25\n",
      "30\n",
      "35\n",
      "40\n",
      "45\n",
      "50\n",
      "55\n",
      "原始数组是：\n",
      "[[ 0  5 10 15]\n",
      " [20 25 30 35]\n",
      " [40 45 50 55]]\n",
      "\n",
      "\n",
      "以 C 风格顺序排序：\n",
      "0\n",
      "5\n",
      "10\n",
      "15\n",
      "20\n",
      "25\n",
      "30\n",
      "35\n",
      "40\n",
      "45\n",
      "50\n",
      "55\n",
      "\n",
      "\n",
      "以 F 风格顺序排序：\n",
      "0\n",
      "20\n",
      "40\n",
      "5\n",
      "25\n",
      "45\n",
      "10\n",
      "30\n",
      "50\n",
      "15\n",
      "35\n",
      "55\n"
     ]
    }
   ],
   "source": [
    "# 使用arange()函数创建一个 3X4 数组，并使用nditer对它进行迭代。\n",
    "a = np.arange(0,60,5)\n",
    "a = a.reshape(3,4)\n",
    "print('原始数组是：')\n",
    "print(a)\n",
    "print('\\n')\n",
    "print('修改后的数组是：')\n",
    "for x in np.nditer(a):\n",
    "    print(x,)\n",
    "\n",
    "# 迭代的顺序匹配数组的内容布局，而不考虑特定的排序。 这可以通过迭代上述数组的转置来看到。\n",
    "a = np.arange(0,60,5)\n",
    "a = a.reshape(3,4)\n",
    "print('原始数组是：')\n",
    "print(a)\n",
    "print('\\n')\n",
    "print('原始数组的转置是：')\n",
    "b = a.T\n",
    "print(b)\n",
    "print('\\n')\n",
    "print('修改后的数组是：')\n",
    "for x in np.nditer(b):\n",
    "    print(x,)\n",
    "\n",
    "# 如果相同元素使用 F 风格顺序存储，则迭代器选择以更有效的方式对数组进行迭代。\n",
    "a = np.arange(0,60,5)\n",
    "a = a.reshape(3,4)\n",
    "print('原始数组是：')\n",
    "print(a)\n",
    "print('\\n')\n",
    "print('原始数组的转置是：')\n",
    "b = a.T\n",
    "print(b)\n",
    "print('\\n')\n",
    "print('以 C 风格顺序排序：')\n",
    "c = b.copy(order='C')\n",
    "print(c)\n",
    "for x in np.nditer(c):\n",
    "    print(x,)\n",
    "print('\\n')\n",
    "print('以 F 风格顺序排序：')\n",
    "c = b.copy(order='F')\n",
    "print(c)\n",
    "for x in np.nditer(c):\n",
    "    print(x,)\n",
    "\n",
    "# 可以通过显式提醒，来强制nditer对象使用某种顺序：\n",
    "a = np.arange(0,60,5)\n",
    "a = a.reshape(3,4)\n",
    "print('原始数组是：')\n",
    "print(a)\n",
    "print('\\n')\n",
    "print('以 C 风格顺序排序：')\n",
    "for x in np.nditer(a, order = 'C'):\n",
    "    print(x,)\n",
    "print('\\n')\n",
    "print('以 F 风格顺序排序：')\n",
    "for x in np.nditer(a, order = 'F'):\n",
    "    print(x,)"
   ]
  },
  {
   "cell_type": "markdown",
   "metadata": {},
   "source": [
    "#### 修改数组的值\n",
    "nditer 对象有另一个可选参数 op_flags。 其默认值为只读，但可以设置为读写或只写模式。 这将允许使用此迭代器修改数组元素。"
   ]
  },
  {
   "cell_type": "code",
   "execution_count": 121,
   "metadata": {},
   "outputs": [
    {
     "name": "stdout",
     "output_type": "stream",
     "text": [
      "原始数组是：\n",
      "[[ 0  5 10 15]\n",
      " [20 25 30 35]\n",
      " [40 45 50 55]]\n",
      "\n",
      "\n",
      "修改后的数组是：\n",
      "[[  0  10  20  30]\n",
      " [ 40  50  60  70]\n",
      " [ 80  90 100 110]]\n"
     ]
    }
   ],
   "source": [
    "a = np.arange(0,60,5)\n",
    "a = a.reshape(3,4)\n",
    "print('原始数组是：')\n",
    "print(a)\n",
    "print('\\n')\n",
    "for x in np.nditer(a, op_flags=['readwrite']):\n",
    "    x[...]=2*x\n",
    "print('修改后的数组是：')\n",
    "print(a)"
   ]
  },
  {
   "cell_type": "markdown",
   "metadata": {},
   "source": [
    "#### 外部循环\n",
    "nditer类的构造器拥有flags参数，它可以接受下列值：\n",
    "<img src=http://www.uml.org.cn/python/images/2019070915.png class=\"rm-style\">"
   ]
  },
  {
   "cell_type": "code",
   "execution_count": 122,
   "metadata": {},
   "outputs": [
    {
     "name": "stdout",
     "output_type": "stream",
     "text": [
      "原始数组是：\n",
      "[[ 0  5 10 15]\n",
      " [20 25 30 35]\n",
      " [40 45 50 55]]\n",
      "\n",
      "\n",
      "修改后的数组是：\n",
      "[ 0 20 40]\n",
      "[ 5 25 45]\n",
      "[10 30 50]\n",
      "[15 35 55]\n"
     ]
    }
   ],
   "source": [
    "a = np.arange(0,60,5)\n",
    "a = a.reshape(3,4)\n",
    "print('原始数组是：')\n",
    "print(a)\n",
    "print('\\n')\n",
    "print('修改后的数组是：')\n",
    "for x in np.nditer(a, flags = ['external_loop'], order = 'F'):\n",
    "    print(x,)"
   ]
  },
  {
   "cell_type": "markdown",
   "metadata": {},
   "source": [
    "#### 广播迭代\n",
    "如果两个数组是可广播的，nditer组合对象能够同时迭代它们。 假设数组a具有维度 3X4，并且存在维度为 1X4 的另一个数组b，则使用以下类型的迭代器（数组b被广播到a的大小）。"
   ]
  },
  {
   "cell_type": "code",
   "execution_count": 123,
   "metadata": {},
   "outputs": [
    {
     "name": "stdout",
     "output_type": "stream",
     "text": [
      "第一个数组：\n",
      "[[ 0  5 10 15]\n",
      " [20 25 30 35]\n",
      " [40 45 50 55]]\n",
      "\n",
      "\n",
      "第二个数组：\n",
      "[1 2 3 4]\n",
      "\n",
      "\n",
      "修改后的数组是：\n",
      "0:1\n",
      "5:2\n",
      "10:3\n",
      "15:4\n",
      "20:1\n",
      "25:2\n",
      "30:3\n",
      "35:4\n",
      "40:1\n",
      "45:2\n",
      "50:3\n",
      "55:4\n"
     ]
    }
   ],
   "source": [
    "a = np.arange(0,60,5)\n",
    "a = a.reshape(3,4)\n",
    "print('第一个数组：')\n",
    "print(a)\n",
    "print('\\n')\n",
    "print('第二个数组：')\n",
    "b = np.array([1, 2, 3, 4], dtype = int)\n",
    "print(b)\n",
    "print('\\n')\n",
    "print('修改后的数组是：')\n",
    "for x,y in np.nditer([a,b]):\n",
    "    print(\"%d:%d\" % (x,y),)"
   ]
  },
  {
   "cell_type": "markdown",
   "metadata": {},
   "source": [
    "## [NumPy - 数组操作](http://www.uml.org.cn/python/201907091.asp)\n",
    "- **`numpy.reshape`**\n",
    "- **`numpy.ndarray.flat`**\n",
    "- **`numpy.ravel`**\n",
    "- **`numpy.transpose(arr, axes)`**\n",
    "- **`numpy.ndarray.T`**\n",
    "- **`numpy.rollaxis`**\n",
    "- **`numpy.swapaxes`**\n",
    "- **`np.broadcast`**\n",
    "- **`numpy.broadcast_to`**\n",
    "- **`numpy.expand_dims`**\n",
    "- **`numpy.squeeze`**\n",
    "- **`numpy.concatenate`**\n",
    "- **`numpy.stack(arrays, axis)`**\n",
    "- **`numpy.hstack`**\n",
    "- **`numpy.vstack`**\n",
    "- **`numpy.split`**\n",
    "- **`numpy.hsplit`**\n",
    "- **`numpy.vsplit`**"
   ]
  },
  {
   "cell_type": "markdown",
   "metadata": {},
   "source": [
    "## 添加/删除元素\n",
    "|序号|元素及描述|\n",
    "|-|-|\n",
    "|1.|`resize`返回指定形状的新数组|\n",
    "|2.|`append`将值添加到数组末尾|\n",
    "|3.|`insert`沿指定轴将值插入到指定下表之前|\n",
    "|4.|`delet`返回删掉某个轴的子数组的新数组|\n",
    "|5.|`unique`寻找数组内的唯一元素|\n",
    "\n",
    "\n",
    "```\n",
    "numpy.resize(arr, shape)\n",
    "```\n",
    "```\n",
    "numpy.append(arr, values, axis)\n",
    "```\n",
    "```\n",
    "numpy.insert(arr, obj, values, axis)\n",
    "```\n",
    "```\n",
    "Numpy.delete(arr, obj, axis)\n",
    "```\n",
    "```\n",
    "numpy.unique(arr, return_index, return_inverse, return_counts)\n",
    "```"
   ]
  },
  {
   "cell_type": "markdown",
   "metadata": {},
   "source": [
    "## NumPy - 位操作\n",
    "|序号|元素及描述|\n",
    "|-|-|\n",
    "|1.|`bitwise_and`对数组元素执行位与操作|\n",
    "|2.|`bitwise_or`对数组元素执行位或操作|\n",
    "|3.|`invert`计算位非|\n",
    "|4.|`left_shift`向左移动二进制表示的位|\n",
    "|5.|`right_shift`向右移动二进制表示的位|\n",
    "\n",
    "- `np.bitwise_and()`\n",
    "- `np.bitwise_or()`\n",
    "- `np.invert()`\n",
    "- `np.left_shift()`\n",
    "- `np.right_shift()`"
   ]
  },
  {
   "cell_type": "markdown",
   "metadata": {},
   "source": [
    "## NumPy - 字符串函数\n",
    "用于对dtype为numpy.string_或numpy.unicode_的数组执行向量化字符串操作。 它们基于 Python 内置库中的标准字符串函数。\n",
    "<img src=http://www.uml.org.cn/python/images/2019070925.png class=\"rm-style\">\n",
    "这些函数在字符数组类（numpy.char）中定义。 较旧的 Numarray 包包含chararray类。 numpy.char类中的上述函数在执行向量化字符串操作时非常有用。"
   ]
  },
  {
   "cell_type": "markdown",
   "metadata": {},
   "source": [
    "## NumPy - 算数函数\n",
    "\n",
    "很容易理解的是，NumPy 包含大量的各种数学运算功能。 NumPy 提供标准的三角函数，算术运算的函数，复数处理函数等。\n",
    "\n",
    "- `np.sin` \n",
    "- `np.cos`\n",
    "- `np.tan`\n",
    "- `np.arcsin`\n",
    "- `np.arccos`\n",
    "- `np.arctan`\n",
    "\n",
    "`arcsin`，`arccos`，和`arctan`函数返回给定角度的`sin`，`cos`和`tan`的反三角函数。 这些函数的结果可以通过`numpy.degrees()`函数通过将弧度制转换为角度制来验证。\n",
    "\n",
    "- `numpy.around(a,decimals)`四舍五入\n",
    "- `numpy.floor()`此函数返回不大于输入参数的最大整数。 即标量x 的下限是最大的整数i ，使得 i <= x。 注意在 Python 中，向下取整总是从 0 舍入。\n",
    "- `numpy.ceil()`ceil()函数返回输入值的上限，即，标量x的上限是最小的整数i ，使得 i >= x。"
   ]
  },
  {
   "cell_type": "markdown",
   "metadata": {},
   "source": [
    "## NumPy - 算数运算\n",
    "用于执行算术运算（如`add()`，`subtract()`，`multiply()`和`divide()`）的输入数组必须具有相同的形状或符合数组广播规则。\n",
    "\n",
    "- `numpy.reciprocal()`此函数返回参数逐元素的倒数，。 由于 Python 处理整数除法的方式，对于绝对值大于 1 的整数元素，结果始终为 0， 对于整数 0，则发出溢出警告。\n",
    "- `numpy.power()`此函数将第一个输入数组中的元素作为底数，计算它与第二个输入数组中相应元素的幂。\n",
    "- `numpy.mod()`此函数返回输入数组中相应元素的除法余数。 函数numpy.remainder()也产生相同的结果。\n",
    "- `numpy.real()`返回复数类型参数的实部。\n",
    "- `numpy.imag()`返回复数类型参数的虚部。\n",
    "- `numpy.conj()`返回通过改变虚部的符号而获得的共轭复数。\n",
    "- `numpy.angle()`返回复数参数的角度。 函数的参数是degree。 如果为true，返回的角度以角度制来表示，否则为以弧度制来表示"
   ]
  },
  {
   "cell_type": "markdown",
   "metadata": {},
   "source": [
    "## NumPy - 统计函数\n",
    "- `numpy.amin()`\n",
    "- `numpy.amax()`\n",
    "- `numpy.ptp()`\n",
    "- `numpy.percentile()`\n",
    "- `numpy.median()`\n",
    "- `numpy.mean()`\n",
    "- `numpy.average()`\n",
    "\n",
    "#### 标准差\n",
    "```\n",
    "std = sqrt(mean((x - x.mean())**2))\n",
    "```\n",
    "```\n",
    "np.std([1,2,3,4])\n",
    "```\n",
    "#### 方差\n",
    "```\n",
    "mean((x - x.mean())** 2)\n",
    "```\n",
    "```\n",
    "np.var([1,2,3,4])\n",
    "```"
   ]
  },
  {
   "cell_type": "markdown",
   "metadata": {},
   "source": [
    "## NumPy - 排序、搜索和计数函数\n",
    "NumPy中提供了各种排序相关功能。 这些排序函数实现不同的排序算法，每个排序算法的特征在于执行速度，最坏情况性能，所需的工作空间和算法的稳定性。 下表显示了三种排序算法的比较。\n",
    "\n",
    "|种类|速度|<div style=\"width:80px\">最坏情况</div>|工作空间|稳定性|\n",
    "|-|-|-|-|-|\n",
    "|`quicksort`(快速排序)|1|$O(n^2)$|0|否|\n",
    "|`mergesort`(归并排序)|2|$O(n\\log(n))$|~n/2|是|\n",
    "|`heapsort`(堆排序)|3|$O(n\\log(n))$|0|否|\n",
    "\n",
    "- `numpy.sort()`\n",
    "```\n",
    "numpy.sort(a, axis, kind, order)\n",
    "```\n",
    "<img src=http://www.uml.org.cn/python/images/2019070929.png class=\"rm-style\">\n",
    "- `numpy.argsort()`对输入数组沿给定轴执行间接排序，并使用指定排序类型返回数据的索引数组。 这个索引数组用于构造排序后的数组。\n",
    "- `numpy.lexsort()`使用键序列执行间接排序。 键可以看作是电子表格中的一列。 该函数返回一个索引数组，使用它可以获得排序数据。 注意，最后一个键恰好是 sort 的主键。\n",
    "- `numpy.nonzero()`返回输入数组中非零元素的索引。\n",
    "- `numpy.where()`返回输入数组中满足给定条件的元素的索引。\n",
    "\n",
    "NumPy 模块有一些用于在数组内搜索的函数。 提供了用于找到最大值，最小值以及满足给定条件的元素的函数。"
   ]
  },
  {
   "cell_type": "code",
   "execution_count": 124,
   "metadata": {},
   "outputs": [
    {
     "name": "stdout",
     "output_type": "stream",
     "text": [
      "我们的数组是：\n",
      "[[30 40 70]\n",
      " [80 20 10]\n",
      " [50 90 60]]\n",
      "\n",
      "\n",
      "调用 argmax() 函数：\n",
      "7\n",
      "\n",
      "\n",
      "展开数组：\n",
      "[30 40 70 80 20 10 50 90 60]\n",
      "\n",
      "\n",
      "沿轴 0 的最大值索引：\n",
      "[1 2 0]\n",
      "\n",
      "\n",
      "沿轴 1 的最大值索引：\n",
      "[2 0 1]\n",
      "\n",
      "\n",
      "调用 argmin() 函数：\n",
      "5\n",
      "\n",
      "\n",
      "展开数组中的最小值：\n",
      "10\n",
      "\n",
      "\n",
      "沿轴 0 的最小值索引：\n",
      "[0 1 1]\n",
      "\n",
      "\n",
      "沿轴 1 的最小值索引：\n",
      "[0 2 0]\n"
     ]
    }
   ],
   "source": [
    "a = np.array([[30,40,70],[80,20,10],[50,90,60]])\n",
    "print('我们的数组是：')\n",
    "print(a)\n",
    "print('\\n')\n",
    "print('调用 argmax() 函数：')\n",
    "print(np.argmax(a))\n",
    "print('\\n')\n",
    "print('展开数组：')\n",
    "print(a.flatten())\n",
    "print('\\n')\n",
    "print('沿轴 0 的最大值索引：')\n",
    "maxindex = np.argmax(a, axis = 0)\n",
    "print(maxindex)\n",
    "print('\\n')\n",
    "print('沿轴 1 的最大值索引：')\n",
    "maxindex = np.argmax(a, axis = 1)\n",
    "print(maxindex)\n",
    "print('\\n')\n",
    "print('调用 argmin() 函数：')\n",
    "minindex = np.argmin(a)\n",
    "print(minindex)\n",
    "print('\\n')\n",
    "print('展开数组中的最小值：')\n",
    "print(a.flatten()[minindex])\n",
    "print('\\n')\n",
    "print('沿轴 0 的最小值索引：')\n",
    "minindex = np.argmin(a, axis = 0)\n",
    "print(minindex)\n",
    "print('\\n')\n",
    "print('沿轴 1 的最小值索引：')\n",
    "minindex = np.argmin(a, axis = 1)\n",
    "print(minindex)"
   ]
  },
  {
   "cell_type": "markdown",
   "metadata": {},
   "source": [
    "## NumPy - 字节交换\n",
    "\n",
    "存储在计算机内存中的数据取决于 CPU 使用的架构。 它可以是小端（最小有效位存储在最小地址中）或大端（最小有效字节存储在最大地址中）。\n",
    "\n",
    "- `numpy.ndarray.byteswap()`"
   ]
  },
  {
   "cell_type": "markdown",
   "metadata": {},
   "source": [
    "## NumPy - 副本和视图\n",
    "在执行函数时，其中一些返回输入数组的副本，而另一些返回视图。 当内容物理存储在另一个位置时，称为副本。 另一方面，如果提供了相同内存内容的不同视图，我们将其称为视图。\n",
    "\n",
    "无复制\n",
    "\n",
    "简单的赋值不会创建数组对象的副本。 相反，它使用原始数组的相同id()来访问它。 id()返回 Python 对象的通用标识符，类似于 C 中的指针。\n",
    "\n",
    "此外，一个数组的任何变化都反映在另一个数组上。 例如，一个数组的形状改变也会改变另一个数组的形状。\n",
    "\n",
    "#### 视图或浅复制\n",
    "`ndarray.view()`是一个新的数组对象，并可查看原始数组的相同数据。 与前一种情况不同，新数组的维数更改不会更改原始数据的维数。\n",
    "#### 深复制\n",
    "`ndarray.copy()`"
   ]
  },
  {
   "cell_type": "markdown",
   "metadata": {},
   "source": [
    "## NumPy - 矩阵库\n",
    "NumPy 包包含一个 Matrix库numpy.matlib。此模块的函数返回矩阵而不是返回ndarray对象。\n",
    "`matlib.empty()`函数返回一个新的矩阵，而不初始化元素。\n",
    "```\n",
    "numpy.matlib.empty(shape, dtype, order)\n",
    "```\n",
    "<img src=http://www.uml.org.cn/python/images/2019070930.png class=\"rm-style\">\n",
    "\n",
    "- `numpy.matlib.zeros()`\n",
    "- `numpy.matlib.ones()`\n",
    "- `numpy.matlib.eye()`\n",
    "```\n",
    "numpy.matlib.eye(n, M,k, dtype)\n",
    "```\n",
    "<img src=http://www.uml.org.cn/python/images/2019070931.png class=\"rm-style\">\n",
    "\n",
    "- `numpy.matlib.identity()`返回给定大小的单位矩阵。单位矩阵是主对角线元素都为 1 的方阵。\n",
    "- `numpy.matlib.rand()`函数返回给定大小的填充随机值的矩阵。\n",
    "\n",
    "> 注意，矩阵总是二维的，而ndarray是一个 n 维数组。 两个对象都是可互换的。"
   ]
  },
  {
   "cell_type": "markdown",
   "metadata": {},
   "source": [
    "## NumPy - 线性代数\n",
    "NumPy 包包含numpy.linalg模块，提供线性代数所需的所有功能。 此模块中的一些重要功能如下表所述。\n",
    "\n",
    "|函数|描述|\n",
    "|-|-|\n",
    "|`dot`|两个数组的点积|\n",
    "|`vdot`|两个向量的点积|\n",
    "|`inner`|两个数组的内积|\n",
    "|`matmul`|两个数组的矩阵积|\n",
    "|`determinant`|数组的行列式|\n",
    "|`solve`|求解线性矩阵方差|\n",
    "|`inv`|寻找矩阵的乘法逆矩阵|\n",
    "\n",
    "- `numpy.dot()`\n",
    "- `numpy.vdot()`\n",
    "- `numpy.inner()`\n",
    "- `numpy.matmul()`\n",
    "- `numpy.linalg.det()`计算矩阵的行列式\n",
    "- `numpy.linalg.solve()`给出矩阵形式的线性方程的解\n",
    "- `numpy.linalg.inv()`计算矩阵的逆"
   ]
  }
 ],
 "metadata": {
  "kernelspec": {
   "display_name": "Python 3",
   "language": "python",
   "name": "python3"
  },
  "language_info": {
   "codemirror_mode": {
    "name": "ipython",
    "version": 3
   },
   "file_extension": ".py",
   "mimetype": "text/x-python",
   "name": "python",
   "nbconvert_exporter": "python",
   "pygments_lexer": "ipython3",
   "version": "3.6.4"
  }
 },
 "nbformat": 4,
 "nbformat_minor": 2
}
