{
 "cells": [
  {
   "cell_type": "code",
   "execution_count": 1,
   "metadata": {},
   "outputs": [
    {
     "name": "stdout",
     "output_type": "stream",
     "text": [
      "2.1.0\n",
      "sys.version_info(major=3, minor=6, micro=4, releaselevel='final', serial=0)\n",
      "matplotlib 2.2.3\n",
      "numpy 1.18.1\n",
      "pandas 0.22.0\n",
      "sklearn 0.19.1\n",
      "tensorflow 2.1.0\n",
      "tensorflow_core.python.keras.api._v2.keras 2.2.4-tf\n"
     ]
    }
   ],
   "source": [
    "import matplotlib as mpl\n",
    "import matplotlib.pyplot as plt\n",
    "%matplotlib inline\n",
    "import numpy as np\n",
    "import sklearn\n",
    "import pandas as pd\n",
    "import os\n",
    "import sys\n",
    "import time\n",
    "import tensorflow as tf\n",
    "\n",
    "from tensorflow import keras\n",
    "print(tf.__version__)\n",
    "print(sys.version_info)\n",
    "for module in mpl, np, pd, sklearn, tf, keras:\n",
    "    print(module.__name__, module.__version__)"
   ]
  },
  {
   "cell_type": "code",
   "execution_count": 2,
   "metadata": {},
   "outputs": [
    {
     "name": "stdout",
     "output_type": "stream",
     "text": [
      "(5000, 28, 28) (5000,)\n",
      "(55000, 28, 28) (55000,)\n",
      "(10000, 28, 28) (10000,)\n"
     ]
    }
   ],
   "source": [
    "fashion_mnist = keras.datasets.fashion_mnist\n",
    "(x_train_all, y_train_all), (x_test, y_test) = fashion_mnist.load_data()\n",
    "x_valid, x_train = x_train_all[:5000], x_train_all[5000:]\n",
    "y_valid, y_train = y_train_all[:5000], y_train_all[5000:]\n",
    "\n",
    "print(x_valid.shape, y_valid.shape)\n",
    "print(x_train.shape, y_train.shape)\n",
    "print(x_test.shape, y_test.shape)"
   ]
  },
  {
   "cell_type": "code",
   "execution_count": 3,
   "metadata": {},
   "outputs": [],
   "source": [
    "from sklearn.preprocessing import StandardScaler\n",
    "scaler = StandardScaler()\n",
    "x_train_scaled = scaler.fit_transform(\n",
    "    x_train.astype(np.float32).reshape(-1, 1)).reshape(-1, 28, 28, 1)\n",
    "x_valid_scaled = scaler.transform(\n",
    "    x_valid.astype(np.float32).reshape(-1, 1)).reshape(-1, 28, 28, 1)\n",
    "x_test_scaled = scaler.transform(\n",
    "    x_test.astype(np.float32).reshape(-1, 1)).reshape(-1, 28, 28, 1)"
   ]
  },
  {
   "cell_type": "code",
   "execution_count": 4,
   "metadata": {},
   "outputs": [],
   "source": [
    "model = keras.models.Sequential()\n",
    "# 卷积层\n",
    "model.add(keras.layers.Conv2D(filters=32, kernel_size=3,\n",
    "                             padding='same',\n",
    "                             activation='selu',\n",
    "                             input_shape=(28, 28, 1)))\n",
    "# 深度可分离卷积\n",
    "model.add(keras.layers.SeparableConv2D(filters=32, kernel_size=3,\n",
    "                                       padding='same',\n",
    "                                       activation='selu'))\n",
    "# 池化层\n",
    "model.add(keras.layers.MaxPool2D(pool_size=2))\n",
    "# 深度可分离卷积\n",
    "model.add(keras.layers.SeparableConv2D(filters=64, kernel_size=3,\n",
    "                                       padding='same',\n",
    "                                       activation='selu'))\n",
    "# 深度可分离卷积\n",
    "model.add(keras.layers.SeparableConv2D(filters=64, kernel_size=3,\n",
    "                                       padding='same',\n",
    "                                       activation='selu'))\n",
    "# 池化层\n",
    "model.add(keras.layers.MaxPool2D(pool_size=2))\n",
    "# 深度可分离卷积\n",
    "model.add(keras.layers.SeparableConv2D(filters=128, kernel_size=3,\n",
    "                                       padding='same',\n",
    "                                       activation='selu'))\n",
    "# 深度可分离卷积\n",
    "model.add(keras.layers.SeparableConv2D(filters=128, kernel_size=3,\n",
    "                                       padding='same',\n",
    "                                       activation='selu'))\n",
    "# 池化层\n",
    "model.add(keras.layers.MaxPool2D(pool_size=2))\n",
    "# 展平\n",
    "model.add(keras.layers.Flatten())\n",
    "# 全连接层\n",
    "model.add(keras.layers.Dense(128, activation='selu'))\n",
    "\n",
    "model.add(keras.layers.Dense(10, activation=\"softmax\"))\n",
    "\n",
    "model.compile(loss=\"sparse_categorical_crossentropy\",\n",
    "             optimizer = \"sgd\",\n",
    "             metrics = [\"accuracy\"])"
   ]
  },
  {
   "cell_type": "code",
   "execution_count": 5,
   "metadata": {},
   "outputs": [
    {
     "name": "stdout",
     "output_type": "stream",
     "text": [
      "Model: \"sequential\"\n",
      "_________________________________________________________________\n",
      "Layer (type)                 Output Shape              Param #   \n",
      "=================================================================\n",
      "conv2d (Conv2D)              (None, 28, 28, 32)        320       \n",
      "_________________________________________________________________\n",
      "separable_conv2d (SeparableC (None, 28, 28, 32)        1344      \n",
      "_________________________________________________________________\n",
      "max_pooling2d (MaxPooling2D) (None, 14, 14, 32)        0         \n",
      "_________________________________________________________________\n",
      "separable_conv2d_1 (Separabl (None, 14, 14, 64)        2400      \n",
      "_________________________________________________________________\n",
      "separable_conv2d_2 (Separabl (None, 14, 14, 64)        4736      \n",
      "_________________________________________________________________\n",
      "max_pooling2d_1 (MaxPooling2 (None, 7, 7, 64)          0         \n",
      "_________________________________________________________________\n",
      "separable_conv2d_3 (Separabl (None, 7, 7, 128)         8896      \n",
      "_________________________________________________________________\n",
      "separable_conv2d_4 (Separabl (None, 7, 7, 128)         17664     \n",
      "_________________________________________________________________\n",
      "max_pooling2d_2 (MaxPooling2 (None, 3, 3, 128)         0         \n",
      "_________________________________________________________________\n",
      "flatten (Flatten)            (None, 1152)              0         \n",
      "_________________________________________________________________\n",
      "dense (Dense)                (None, 128)               147584    \n",
      "_________________________________________________________________\n",
      "dense_1 (Dense)              (None, 10)                1290      \n",
      "=================================================================\n",
      "Total params: 184,234\n",
      "Trainable params: 184,234\n",
      "Non-trainable params: 0\n",
      "_________________________________________________________________\n"
     ]
    }
   ],
   "source": [
    "model.summary()"
   ]
  },
  {
   "cell_type": "code",
   "execution_count": 6,
   "metadata": {
    "scrolled": false
   },
   "outputs": [
    {
     "name": "stdout",
     "output_type": "stream",
     "text": [
      "Train on 55000 samples, validate on 5000 samples\n",
      "Epoch 1/10\n",
      "55000/55000 [==============================] - 69s 1ms/sample - loss: 2.3015 - accuracy: 0.1060 - val_loss: 2.3000 - val_accuracy: 0.1170\n",
      "Epoch 2/10\n",
      "55000/55000 [==============================] - 67s 1ms/sample - loss: 1.3793 - accuracy: 0.5129 - val_loss: 0.7877 - val_accuracy: 0.7062\n",
      "Epoch 3/10\n",
      "55000/55000 [==============================] - 68s 1ms/sample - loss: 0.7166 - accuracy: 0.7295 - val_loss: 0.6410 - val_accuracy: 0.7714\n",
      "Epoch 4/10\n",
      "55000/55000 [==============================] - 67s 1ms/sample - loss: 0.6161 - accuracy: 0.7693 - val_loss: 0.5502 - val_accuracy: 0.8040\n",
      "Epoch 5/10\n",
      "55000/55000 [==============================] - 68s 1ms/sample - loss: 0.5610 - accuracy: 0.7893 - val_loss: 0.5155 - val_accuracy: 0.8132\n",
      "Epoch 6/10\n",
      "55000/55000 [==============================] - 69s 1ms/sample - loss: 0.5160 - accuracy: 0.8068 - val_loss: 0.4710 - val_accuracy: 0.8264\n",
      "Epoch 7/10\n",
      "55000/55000 [==============================] - 69s 1ms/sample - loss: 0.4794 - accuracy: 0.8208 - val_loss: 0.4439 - val_accuracy: 0.8366\n",
      "Epoch 8/10\n",
      "55000/55000 [==============================] - 68s 1ms/sample - loss: 0.4504 - accuracy: 0.8321 - val_loss: 0.4451 - val_accuracy: 0.8372\n",
      "Epoch 9/10\n",
      "55000/55000 [==============================] - 68s 1ms/sample - loss: 0.4260 - accuracy: 0.8408 - val_loss: 0.4308 - val_accuracy: 0.8376\n",
      "Epoch 10/10\n",
      "55000/55000 [==============================] - 72s 1ms/sample - loss: 0.4030 - accuracy: 0.8519 - val_loss: 0.3827 - val_accuracy: 0.8598\n"
     ]
    }
   ],
   "source": [
    "logdir = './separable-selu-callbacks'\n",
    "if not os.path.exists(logdir):\n",
    "    os.mkdir(logdir)\n",
    "output_model_file = os.path.join(logdir,\n",
    "                                 \"fashion_mnist_model.h5\")\n",
    "\n",
    "callbacks = [\n",
    "    keras.callbacks.TensorBoard(logdir),\n",
    "    keras.callbacks.ModelCheckpoint(output_model_file,\n",
    "                                   save_best_only = True),\n",
    "    keras.callbacks.EarlyStopping(patience=5, min_delta=1e-3)\n",
    "]\n",
    "history = model.fit(x_train_scaled, y_train, epochs=10,\n",
    "                    validation_data=(x_valid_scaled, y_valid),\n",
    "                    callbacks = callbacks)"
   ]
  },
  {
   "cell_type": "code",
   "execution_count": 11,
   "metadata": {
    "scrolled": true
   },
   "outputs": [
    {
     "data": {
      "image/png": "[encoded data removed]",
      "text/plain": [
       "<Figure size 576x360 with 1 Axes>"
      ]
     },
     "metadata": {},
     "output_type": "display_data"
    }
   ],
   "source": [
    "def plot_learning_curves(history):\n",
    "    pd.DataFrame(history.history).plot(figsize=(8, 5))\n",
    "    plt.grid(True)\n",
    "    plt.gca().set_ylim(0, 2.5)\n",
    "    \n",
    "plot_learning_curves(history)"
   ]
  },
  {
   "cell_type": "code",
   "execution_count": 9,
   "metadata": {},
   "outputs": [
    {
     "name": "stdout",
     "output_type": "stream",
     "text": [
      "10000/10000 [==============================] - 3s 307us/sample - loss: 0.4113 - accuracy: 0.8506\n"
     ]
    },
    {
     "data": {
      "text/plain": [
       "[0.4112651606082916, 0.8506]"
      ]
     },
     "execution_count": 9,
     "metadata": {},
     "output_type": "execute_result"
    }
   ],
   "source": [
    "model.evaluate(x_test_scaled, y_test)"
   ]
  }
 ],
 "metadata": {
  "kernelspec": {
   "display_name": "Python 3",
   "language": "python",
   "name": "python3"
  },
  "language_info": {
   "codemirror_mode": {
    "name": "ipython",
    "version": 3
   },
   "file_extension": ".py",
   "mimetype": "text/x-python",
   "name": "python",
   "nbconvert_exporter": "python",
   "pygments_lexer": "ipython3",
   "version": "3.6.4"
  }
 },
 "nbformat": 4,
 "nbformat_minor": 4
}
