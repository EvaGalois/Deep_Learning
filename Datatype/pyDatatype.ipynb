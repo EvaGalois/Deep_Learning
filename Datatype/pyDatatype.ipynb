{
 "cells": [
  {
   "cell_type": "code",
   "execution_count": 5,
   "metadata": {},
   "outputs": [],
   "source": [
    "import os\n",
    "import sys\n",
    "import time\n",
    "import math"
   ]
  },
  {
   "cell_type": "markdown",
   "metadata": {},
   "source": [
    "## Python 数据类型\n",
    "\n",
    "**不可变数据：** Number（数字）、String（字符串）、Tuple（元组）\n",
    "\n",
    "**可变数据：** List（列表）、Dictionary（字典）、Set（集合）"
   ]
  },
  {
   "cell_type": "markdown",
   "metadata": {},
   "source": [
    "#### Number（数字）常用的数学函数"
   ]
  },
  {
   "cell_type": "code",
   "execution_count": 12,
   "metadata": {},
   "outputs": [
    {
     "data": {
      "text/plain": [
       "-0.5440211108893699"
      ]
     },
     "execution_count": 12,
     "metadata": {},
     "output_type": "execute_result"
    }
   ],
   "source": [
    "x = 10\n",
    "y = 2\n",
    "abs(x)          # 返回数字的绝对值，如abs(-10) 返回 10\n",
    "math.fabs(x)    # 返回数字的绝对值，如math.fabs(-10) 返回10.0\n",
    "math.exp(x)     # 返回e的x次幂(e^x),如math.exp(1) 返回2.718281828459045\n",
    "math.log(x)     # 返回x的对数如math.log(math.e)返回1.0,math.log(100,10)返回2.0\n",
    "math.log10(x)   # 返回以10为基数的x的对数，如math.log10(100)返回 2.0\n",
    "math.modf(x)    # 返回x的整数部分与小数部分，两部分的数值符号与x相同，整数部分以浮点型表示\n",
    "pow(x, y)       # 返回 x**y 运算后的值\n",
    "math.sqrt(x)    # 返回数字x的平方根\n",
    "round(x, 5)     # 返回浮点数x的四舍五入值，如给出n值，则代表舍入到小数点后的位数\n",
    "math.sin(x)     # 返回的x弧度的正弦值"
   ]
  },
  {
   "cell_type": "markdown",
   "metadata": {},
   "source": [
    "#### String（字符串）"
   ]
  },
  {
   "cell_type": "code",
   "execution_count": 13,
   "metadata": {},
   "outputs": [
    {
     "name": "stdout",
     "output_type": "stream",
     "text": [
      "Galois\n",
      "Galoi\n",
      "G\n",
      "loi\n",
      "lois\n",
      "GaloisGalois\n",
      "GaloisTEST\n"
     ]
    }
   ],
   "source": [
    "str = 'Galois'\n",
    "\n",
    "print (str)          # 输出字符串\n",
    "print (str[0:-1])    # 输出第一个到倒数第二个的所有字符\n",
    "print (str[0])       # 输出字符串第一个字符\n",
    "print (str[2:5])     # 输出从第三个开始到第五个的字符\n",
    "print (str[2:])      # 输出从第三个开始的后的所有字符\n",
    "print (str * 2)      # 输出字符串两次\n",
    "print (str + \"TEST\") # 连接字符串"
   ]
  },
  {
   "cell_type": "markdown",
   "metadata": {},
   "source": [
    "#### 三引号"
   ]
  },
  {
   "cell_type": "code",
   "execution_count": 16,
   "metadata": {},
   "outputs": [
    {
     "name": "stdout",
     "output_type": "stream",
     "text": [
      "这是一个多行字符串的实例\n",
      "多行字符串可以使用制表符\n",
      "TAB ( \t )。\n",
      "也可以使用换行符 [ \n",
      " ]。\n",
      "\n"
     ]
    }
   ],
   "source": [
    "para_str = \"\"\"这是一个多行字符串的实例\n",
    "多行字符串可以使用制表符\n",
    "TAB ( \\t )。\n",
    "也可以使用换行符 [ \\n ]。\n",
    "\"\"\"\n",
    "print (para_str)"
   ]
  },
  {
   "cell_type": "markdown",
   "metadata": {},
   "source": [
    "#### Tuple（元祖）"
   ]
  },
  {
   "cell_type": "code",
   "execution_count": 59,
   "metadata": {},
   "outputs": [
    {
     "name": "stdout",
     "output_type": "stream",
     "text": [
      "(12, 34.56, 'abc', 'xyz')\n",
      "('physics', 'chemistry', 1997, 2000, 1, 2, 3, 4, 5)\n",
      "('physics', 'chemistry', 1997, 2000, 'physics', 'chemistry', 1997, 2000, 'physics', 'chemistry', 1997, 2000)\n",
      "<class 'list'>\n"
     ]
    },
    {
     "data": {
      "text/plain": [
       "False"
      ]
     },
     "execution_count": 59,
     "metadata": {},
     "output_type": "execute_result"
    }
   ],
   "source": [
    "# 创建元祖\n",
    "tup1 = ('physics', 'chemistry', 1997, 2000)\n",
    "tup2 = (1, 2, 3, 4, 5 )\n",
    "tup3 = \"a\", \"b\", \"c\", \"d\"\n",
    "# 创建空元祖\n",
    "tup = ()\n",
    "# 创建包含一个元素的元祖\n",
    "tup4 = (1,) # 逗号消除歧义\n",
    "\n",
    "# 访问元祖\n",
    "tup1[0]\n",
    "tup3[1:3] # 如果末尾超出,就以到末尾计算\n",
    "\n",
    "# 修改元祖\n",
    "tup5 = (12, 34.56)\n",
    "tup6 = ('abc', 'xyz')\n",
    "tup7 = tup5 + tup6\n",
    "print(tup7)\n",
    "\n",
    "# 删除元祖\n",
    "del tup7\n",
    "# print(tup7)\n",
    "\n",
    "# 元祖运算\n",
    "tup8 = tup1 + tup2\n",
    "tup9 = 3 * tup1\n",
    "print(tup8)\n",
    "print(tup9)\n",
    "\n",
    "# 元祖内置函数\n",
    "# cmp(tup1, tup2) # 比较两个元组元素。py3 中以弃用需要引入 operator 模块\n",
    "len(tup1) # 计算元组元素个数。\n",
    "max(tup2) # 返回元组中元素最大值。\n",
    "min(tup2) # 返回元组中元素最小值。\n",
    "seq = [5,6,7]\n",
    "print(type(seq))\n",
    "# tuple(seq) # 将列表转换为元组。\n",
    "# print(type(seq))\n",
    "import operator\n",
    "tupa = (1, 2, 3, 4, 5)\n",
    "tupb = (4, 5, 6, 7, 8)\n",
    "operator.lt(tupa, tupb)\n",
    "operator.le(tupa, tupb)\n",
    "operator.eq(tupa, tupb)\n",
    "operator.ne(tupa, tupb)\n",
    "operator.ge(tupa, tupb)\n",
    "operator.gt(tupa, tupb)\n",
    "operator.__lt__(tupa, tupb)\n",
    "operator.__le__(tupa, tupb)\n",
    "operator.__eq__(tupa, tupb)\n",
    "operator.__ne__(tupa, tupb)\n",
    "operator.__ge__(tupa, tupb)\n",
    "operator.__gt__(tupa, tupb)"
   ]
  },
  {
   "cell_type": "markdown",
   "metadata": {},
   "source": [
    "#### List（列表）"
   ]
  },
  {
   "cell_type": "code",
   "execution_count": 95,
   "metadata": {},
   "outputs": [
    {
     "name": "stdout",
     "output_type": "stream",
     "text": [
      "[0, 6, 7, 8, 8, 9, 66, 999]\n",
      "1\n",
      "5\n",
      "[0, 6, 7, 8, 8, 9, 66, 999]\n"
     ]
    }
   ],
   "source": [
    "seq = [8, 9, 0, 6, 8]\n",
    "obj = 999\n",
    "seq2 = [66, 7, 55]\n",
    "seq.append(obj)          #在列表末尾添加新的对象\n",
    "count = seq.count(obj)           #统计某个元素在列表中出现的次数\n",
    "seq.extend(seq2)          #在列表末尾一次性追加另一个序列中的多个值（用新列表扩展原来的列表）\n",
    "seq.append(obj)\n",
    "index = seq.index(obj)           #从列表中找出某个值第一个匹配项的索引位置\n",
    "seq.pop(-2)      #移除列表中的一个元素（默认最后一个元素），并且返回该元素的值\n",
    "seq.remove(obj)          #移除列表中某个值的第一个匹配项\n",
    "seq.reverse()            #反向列表中元素\n",
    "seq.sort(key=None, reverse=False)    #对原列表进行排序,True 降序,False 升序（默认）\n",
    "# seq.clear()              #清空列表\n",
    "seqcopy = seq.copy()               #复制列表\n",
    "\n",
    "print(seq)\n",
    "print(count)\n",
    "print(index)\n",
    "print(seqcopy)"
   ]
  },
  {
   "cell_type": "code",
   "execution_count": 111,
   "metadata": {},
   "outputs": [
    {
     "name": "stdout",
     "output_type": "stream",
     "text": [
      "0\n",
      "0\n"
     ]
    },
    {
     "data": {
      "text/plain": [
       "list"
      ]
     },
     "execution_count": 111,
     "metadata": {},
     "output_type": "execute_result"
    }
   ],
   "source": [
    "seq3 = [8, 9, 0, 6, 8, 7, 6, 5, 3]\n",
    "seq3.clear()\n",
    "count = seq.count(5)\n",
    "print(len(seq3))\n",
    "print(count)\n",
    "\n",
    "seq4 = [8, 9, 0, 6, 8, 6, 7, 8, 9, 0, 123, 34, 5546, 667, [552, 55, 66, 33]]\n",
    "seq4[14]\n",
    "type(seq4)"
   ]
  },
  {
   "cell_type": "markdown",
   "metadata": {},
   "source": [
    "#### Dictionary（字典）key 值是唯一的"
   ]
  },
  {
   "cell_type": "code",
   "execution_count": 121,
   "metadata": {},
   "outputs": [
    {
     "name": "stdout",
     "output_type": "stream",
     "text": [
      "{'Age': 7, 'Class': 'First'}\n",
      "dict['Name']:  小伙子\n",
      "{'Age': 7}\n"
     ]
    }
   ],
   "source": [
    "dict = {'Name': 'Galois', 'Age': 7, 'Class': 'First'}\n",
    "'''\n",
    "del dict['Name']     # 删除键 'Name'\n",
    "dict.clear()         # 清空字典\n",
    "del dict             # 删除字典\n",
    "'''\n",
    "del dict['Name']\n",
    "print(dict)\n",
    "\n",
    "dict = {'Name': 'Galois', 'Age': 7, 'Name': '小伙子'} # 不允许同一个键出现两次。创建时如果同一个键被赋值两次，后一个值会被记住\n",
    "print (\"dict['Name']: \", dict['Name'])\n",
    "\n",
    "# dict = {['Name']: 'Galois', 'Age': 7} # 键必须不可变，所以可以用数字，字符串或元组充当，而用列表就不行\n",
    "# print (\"dict['Name']: \", dict['Name'])\n",
    "\n",
    "dict.pop('Name')           #删除字典给定键 key 所对应的值，返回值为被删除的值。key值必须给出。 否则，返回default值\n",
    "print(dict)"
   ]
  },
  {
   "cell_type": "markdown",
   "metadata": {},
   "source": [
    "#### Set（集合）\n",
    "集合是一个无序的不重复元素序列，可以使用大括号 { } 或者 set() 函数创建集合\n",
    "\n",
    "**注意：**创建一个空集合必须用 set() 而不是 { }，因为 { } 是用来创建一个空字典"
   ]
  },
  {
   "cell_type": "code",
   "execution_count": 122,
   "metadata": {},
   "outputs": [
    {
     "name": "stdout",
     "output_type": "stream",
     "text": [
      "{'pear', 'banana', 'apple', 'orange'}\n",
      "{'d', 'c', 'a', 'b', 'r'}\n",
      "{'b', 'd', 'r'}\n",
      "{'l', 'd', 'z', 'm', 'c', 'a', 'b', 'r'}\n",
      "{'a', 'c'}\n",
      "{'l', 'd', 'b', 'z', 'm', 'r'}\n"
     ]
    }
   ],
   "source": [
    "basket = {'apple', 'orange', 'apple', 'pear', 'orange', 'banana'}\n",
    "print(basket)                      # 去重功能\n",
    "\n",
    "'orange' in basket                 # 快速判断元素是否在集合内\n",
    "\n",
    "'crabgrass' in basket\n",
    "\n",
    " \n",
    "# 两个集合间的运算\n",
    "a = set('abracadabra')\n",
    "b = set('alacazam')\n",
    "print(a)\n",
    "#输出                                  \n",
    "# {'a', 'r', 'b', 'c', 'd'}\n",
    "\n",
    "print(a - b)                              # 集合a中包含而集合b中不包含的元素\n",
    "#输出\n",
    "#{'d', 'b', 'r'}\n",
    "\n",
    "print(a | b)                              # 集合a或b中包含的所有元素\n",
    "#输出\n",
    "#{'c', 'b', 'r', 'z', 'l', 'm', 'a', 'd'}\n",
    "\n",
    "print(a & b)                              # 集合a和b中都包含了的元素\n",
    "#输出\n",
    "#{'a', 'c'}\n",
    "\n",
    "print(a ^ b)                              # 不同时包含于a和b的元素\n",
    "#输出\n",
    "#{'l', 'b', 'z', 'r', 'm', 'd'}"
   ]
  },
  {
   "cell_type": "code",
   "execution_count": 125,
   "metadata": {},
   "outputs": [
    {
     "name": "stdout",
     "output_type": "stream",
     "text": [
      "{'Facebook', 'Learnku', 'Google', 'Galois'}\n",
      "{1, 3, 'Facebook', 'Learnku', 'Google', 'Galois'}\n",
      "{1, 3, 4, 5, 6, 'Facebook', 'Learnku', 'Google', 'Galois'}\n"
     ]
    }
   ],
   "source": [
    "# 添加元素\n",
    "# s.add( x ) 将元素 x 添加到集合 s 中，如果元素已存在，则不进行任何操作\n",
    "thisset = set((\"Google\", \"Learnku\", \"Galois\"))\n",
    "thisset.add(\"Facebook\")\n",
    "print(thisset)\n",
    "\n",
    "# s.update( x ) 参数可以是列表，元组，字典等\n",
    "thisset.update({1,3})\n",
    "print(thisset)\n",
    "thisset.update([1,4],[5,6])  \n",
    "print(thisset)\n",
    "\n",
    "# 移除元素\n",
    "# s.remove( x ) 将元素 x 从集合 s 中移除，如果元素不存在，则会发生错误\n",
    "# s.discard( x ) 移除集合中的元素，如果元素不存在，不会发生错误\n",
    "# s.pop() 随机删除集合中的一个元素，在交互模式，pop 是删除集合的第一个元素（排序后的集合的第一个元素）"
   ]
  },
  {
   "cell_type": "code",
   "execution_count": 128,
   "metadata": {
    "scrolled": true
   },
   "outputs": [
    {
     "name": "stdout",
     "output_type": "stream",
     "text": [
      "{5}\n",
      "{'8', 5}\n",
      "{'8', 5}\n",
      "set()\n"
     ]
    }
   ],
   "source": [
    "# 集合函数\n",
    "thisset.add(5)        #为集合添加元素\n",
    "print(thisset)\n",
    "\n",
    "thisset2 = thisset.copy()        #拷贝一个集合\n",
    "thisset2.update('888')    #给集合添加元素\n",
    "print(thisset2)\n",
    "\n",
    "thisset3 = thisset.union(thisset2)        #返回两个集合的并集\n",
    "print(thisset3)\n",
    "\n",
    "thisset3.clear()        #移除集合中的所有元素\n",
    "print(thisset3)"
   ]
  },
  {
   "cell_type": "code",
   "execution_count": 130,
   "metadata": {},
   "outputs": [
    {
     "name": "stdout",
     "output_type": "stream",
     "text": [
      "<class 'int'>\n",
      "<class 'str'>\n",
      "<class 'tuple'>\n",
      "<class 'list'>\n",
      "<class 'dict'>\n",
      "<class 'set'>\n"
     ]
    }
   ],
   "source": [
    "num = 5\n",
    "string = 'Galois'\n",
    "tup = ('Galois', 5, '789')\n",
    "li = [5, 6, 7]\n",
    "dic = {'name': 'Galois', 'Age': 20, 'class': 'first'}\n",
    "Set = {'2', '6', '7,', ' ', 'A', 5}\n",
    "print(type(num))\n",
    "print(type(string))\n",
    "print(type(tup))\n",
    "print(type(li))\n",
    "print(type(dic))\n",
    "print(type(Set))"
   ]
  }
 ],
 "metadata": {
  "kernelspec": {
   "display_name": "Python 3",
   "language": "python",
   "name": "python3"
  },
  "language_info": {
   "codemirror_mode": {
    "name": "ipython",
    "version": 3
   },
   "file_extension": ".py",
   "mimetype": "text/x-python",
   "name": "python",
   "nbconvert_exporter": "python",
   "pygments_lexer": "ipython3",
   "version": "3.6.4"
  }
 },
 "nbformat": 4,
 "nbformat_minor": 2
}
