{
 "cells": [
  {
   "cell_type": "markdown",
   "metadata": {},
   "source": [
    "## 卷积神经网络(Convolutional Neural Networks)\n",
    "卷积操作、池化操作\n",
    "深度可分离卷积\n",
    "数据增强\n",
    "迁移学习\n",
    "\n",
    "### 大致结构：\n",
    "- 卷积神经网络\n",
    "    - (convolution+subsampling)*n + fully connected layers,FC*m\n",
    "    - classification\n",
    "- 全卷积神经网络\n",
    "    - (convolution+subsampling)*n + pixelwise classification*K\n",
    "    - Object segment\n"
   ]
  },
  {
   "cell_type": "markdown",
   "metadata": {},
   "source": [
    "\n",
    "卷积操作：\n",
    "解决神经网络参数过多的问题，比如：图片大小为1000*1000， 下一层神经元为10^6，全链接参数为(10^3*10^3)*10^6=10^12，参数过多比较容易过拟合，需要更多训练数据\n",
    "\n",
    "卷积的特点：\n",
    "- 局部连接\n",
    "比如图片大小为1000*1000，下一层神经元为10^6，局部连接范围为10*10，全连接参数为(10*10)*10^6=10^8\n",
    "- 参数共享\n",
    "比如图片大小为1000*1000，下一层神经元为10^6，局部连接范围为10*10，全连接参数为10*10=100，ps这里运用了参数共享是指在局部内的像素数据分布相同，在图像中，其实很多局部的图像都是一样的，所以进行参数共享可以有效的优化数据，可能没有上面个提到的优化成100这么恐怖\n"
   ]
  },
  {
   "cell_type": "markdown",
   "metadata": {},
   "source": [
    "\n",
    "### 卷积--每个位置进行计算\n",
    "输入的图像：\n",
    "```\n",
    "[\n",
    "    [1,2,3,4,5],\n",
    "    [6,7,8,9,10],\n",
    "    [11,12,13,14,15],\n",
    "    [16,17,18,19,20],\n",
    "    [21,22,23,24,25],\n",
    "]\n",
    "```\n",
    "卷积核：\n",
    "```\n",
    "[\n",
    "    [1,0,1],\n",
    "    [0,1,0],\n",
    "    [1,0,1],\n",
    "]\n",
    "```\n",
    "输出size=输入size-卷积核size+1\n",
    "输出size=5-(3-1)\n",
    "\n",
    "### 池化操作--最大值池化\n",
    "输入的图像：\n",
    "```\n",
    "[\n",
    "    [1,2,3,4,5],\n",
    "    [6,7,8,9,10],\n",
    "    [11,12,13,14,15],\n",
    "    [16,17,18,19,20],\n",
    "    [21,22,23,24,25],\n",
    "]\n",
    "\n",
    "max-pool 操作\n",
    "stride = 2 步长\n",
    "kernel_size = 2*2 \n",
    "[\n",
    "    [x,x],\n",
    "    [x,x],\n",
    "]\n",
    "```\n",
    "\n",
    "输出：\n",
    "```\n",
    "[\n",
    "    [7,9],每个点都是kernel到达地方的矩阵的最大值\n",
    "    [17,19],\n",
    "]\n",
    "```\n",
    "还一种平均值池化：\n",
    "avg-pool 操作\n",
    "```\n",
    "[\n",
    "    [4,6],\n",
    "    [14,16],\n",
    "]\n",
    "```\n",
    "特点：\n",
    "- 尝试用不重叠，不补零\n",
    "- 没有用于求导的参数\n",
    "- 池化层参数为不长和池化核大小\n",
    "- 用于减少图像尺寸，从而减少计算量\n",
    "- 一定程度以动鲁棒\n",
    "- 损失空间位置"
   ]
  },
  {
   "cell_type": "code",
   "execution_count": 1,
   "metadata": {},
   "outputs": [
    {
     "name": "stdout",
     "output_type": "stream",
<<<<<<< HEAD
     "text": "sys.version_info(major=3, minor=6, micro=7, releaselevel='final', serial=0)\ntensorflow 2.1.0\nmatplotlib 3.2.0\nnumpy 1.18.1\npandas 1.0.1\nsklearn 0.22.2.post1\ntensorflow 2.1.0\ntensorflow_core.python.keras.api._v2.keras 2.2.4-tf\n"
=======
     "text": [
      "sys.version_info(major=3, minor=6, micro=7, releaselevel='final', serial=0)\n",
      "tensorflow 2.1.0\n",
      "matplotlib 3.2.0\n",
      "numpy 1.18.1\n",
      "pandas 1.0.1\n",
      "sklearn 0.22.2.post1\n",
      "tensorflow 2.1.0\n",
      "tensorflow_core.python.keras.api._v2.keras 2.2.4-tf\n"
     ]
>>>>>>> bbad9a972c62fcfddba440c47dde23bcc997ae9e
    }
   ],
   "source": [
    "\n",
    "import matplotlib as mpl\n",
    "import matplotlib.pyplot as plt\n",
    "import numpy as np\n",
    "import sklearn\n",
    "import pandas as pd\n",
    "import tensorflow as tf\n",
    "\n",
    "from tensorflow import keras\n",
    "import os, sys, time \n",
    "\n",
    "\n",
    "print(sys.version_info)\n",
    "for module in tf, mpl, np, pd, sklearn, tf, keras:\n",
    "    print(module.__name__, module.__version__)\n",
    "\n"
   ]
  },
  {
   "cell_type": "code",
   "execution_count": 2,
   "metadata": {},
   "outputs": [
    {
     "name": "stdout",
     "output_type": "stream",
<<<<<<< HEAD
     "text": "x_valid.shape, y_valid.shape: (5000, 28, 28) (5000,)\nx_train.shape, y_train.shape (55000, 28, 28) (55000,)\nx_test.shape, y_test.shape (10000, 28, 28) (10000,)\n"
=======
     "text": [
      "x_valid.shape, y_valid.shape: (5000, 28, 28) (5000,)\n",
      "x_train.shape, y_train.shape (55000, 28, 28) (55000,)\n",
      "x_test.shape, y_test.shape (10000, 28, 28) (10000,)\n"
     ]
>>>>>>> bbad9a972c62fcfddba440c47dde23bcc997ae9e
    }
   ],
   "source": [
    "fashion_mnist = keras.datasets.fashion_mnist\n",
    "(x_train_all, y_train_all), (x_test, y_test) = fashion_mnist.load_data()\n",
    "# fashion_mnist 训练集共有60000，将前5000作为验证集，后55000作为训练集\n",
    "x_valid, x_train = x_train_all[:5000], x_train_all[5000:]\n",
    "y_valid, y_train = y_train_all[:5000], y_train_all[5000:]\n",
    "\n",
    "print(\"x_valid.shape, y_valid.shape:\",x_valid.shape, y_valid.shape)\n",
    "print(\"x_train.shape, y_train.shape\",x_train.shape, y_train.shape)\n",
    "print(\"x_test.shape, y_test.shape\",x_test.shape, y_test.shape)"
   ]
  },
  {
   "cell_type": "code",
   "execution_count": 3,
   "metadata": {},
   "outputs": [
    {
     "data": {
      "image/png": "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\n",
<<<<<<< HEAD
      "image/svg+xml": "<?xml version=\"1.0\" encoding=\"utf-8\" standalone=\"no\"?>\r\n<!DOCTYPE svg PUBLIC \"-//W3C//DTD SVG 1.1//EN\"\r\n  \"http://www.w3.org/Graphics/SVG/1.1/DTD/svg11.dtd\">\r\n<!-- Created with matplotlib (https://matplotlib.org/) -->\r\n<svg height=\"248.518125pt\" version=\"1.1\" viewBox=\"0 0 251.565 248.518125\" width=\"251.565pt\" xmlns=\"http://www.w3.org/2000/svg\" xmlns:xlink=\"http://www.w3.org/1999/xlink\">\r\n <defs>\r\n  <style type=\"text/css\">\r\n*{stroke-linecap:butt;stroke-linejoin:round;}\r\n  </style>\r\n </defs>\r\n <g id=\"figure_1\">\r\n  <g id=\"patch_1\">\r\n   <path d=\"M 0 248.518125 \r\nL 251.565 248.518125 \r\nL 251.565 0 \r\nL 0 0 \r\nz\r\n\" style=\"fill:none;\"/>\r\n  </g>\r\n  <g id=\"axes_1\">\r\n   <g id=\"patch_2\">\r\n    <path d=\"M 26.925 224.64 \r\nL 244.365 224.64 \r\nL 244.365 7.2 \r\nL 26.925 7.2 \r\nz\r\n\" style=\"fill:#ffffff;\"/>\r\n   </g>\r\n   <g clip-path=\"url(#p8d0a52ff87)\">\r\n    <image height=\"218\" id=\"imagec2a219169f\" transform=\"scale(1 -1)translate(0 -218)\" width=\"218\" x=\"26.925\" xlink:href=\"data:image/png;base64,\r\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\" y=\"-6.64\"/>\r\n   </g>\r\n   <g id=\"matplotlib.axis_1\">\r\n    <g id=\"xtick_1\">\r\n     <g id=\"line2d_1\">\r\n      <defs>\r\n       <path d=\"M 0 0 \r\nL 0 3.5 \r\n\" id=\"m3c5a909440\" style=\"stroke:#000000;stroke-width:0.8;\"/>\r\n      </defs>\r\n      <g>\r\n       <use style=\"stroke:#000000;stroke-width:0.8;\" x=\"30.807857\" xlink:href=\"#m3c5a909440\" y=\"224.64\"/>\r\n      </g>\r\n     </g>\r\n     <g id=\"text_1\">\r\n      <!-- 0 -->\r\n      <defs>\r\n       <path d=\"M 31.78125 66.40625 \r\nQ 24.171875 66.40625 20.328125 58.90625 \r\nQ 16.5 51.421875 16.5 36.375 \r\nQ 16.5 21.390625 20.328125 13.890625 \r\nQ 24.171875 6.390625 31.78125 6.390625 \r\nQ 39.453125 6.390625 43.28125 13.890625 \r\nQ 47.125 21.390625 47.125 36.375 \r\nQ 47.125 51.421875 43.28125 58.90625 \r\nQ 39.453125 66.40625 31.78125 66.40625 \r\nz\r\nM 31.78125 74.21875 \r\nQ 44.046875 74.21875 50.515625 64.515625 \r\nQ 56.984375 54.828125 56.984375 36.375 \r\nQ 56.984375 17.96875 50.515625 8.265625 \r\nQ 44.046875 -1.421875 31.78125 -1.421875 \r\nQ 19.53125 -1.421875 13.0625 8.265625 \r\nQ 6.59375 17.96875 6.59375 36.375 \r\nQ 6.59375 54.828125 13.0625 64.515625 \r\nQ 19.53125 74.21875 31.78125 74.21875 \r\nz\r\n\" id=\"DejaVuSans-48\"/>\r\n      </defs>\r\n      <g transform=\"translate(27.626607 239.238437)scale(0.1 -0.1)\">\r\n       <use xlink:href=\"#DejaVuSans-48\"/>\r\n      </g>\r\n     </g>\r\n    </g>\r\n    <g id=\"xtick_2\">\r\n     <g id=\"line2d_2\">\r\n      <g>\r\n       <use style=\"stroke:#000000;stroke-width:0.8;\" x=\"69.636429\" xlink:href=\"#m3c5a909440\" y=\"224.64\"/>\r\n      </g>\r\n     </g>\r\n     <g id=\"text_2\">\r\n      <!-- 5 -->\r\n      <defs>\r\n       <path d=\"M 10.796875 72.90625 \r\nL 49.515625 72.90625 \r\nL 49.515625 64.59375 \r\nL 19.828125 64.59375 \r\nL 19.828125 46.734375 \r\nQ 21.96875 47.46875 24.109375 47.828125 \r\nQ 26.265625 48.1875 28.421875 48.1875 \r\nQ 40.625 48.1875 47.75 41.5 \r\nQ 54.890625 34.8125 54.890625 23.390625 \r\nQ 54.890625 11.625 47.5625 5.09375 \r\nQ 40.234375 -1.421875 26.90625 -1.421875 \r\nQ 22.3125 -1.421875 17.546875 -0.640625 \r\nQ 12.796875 0.140625 7.71875 1.703125 \r\nL 7.71875 11.625 \r\nQ 12.109375 9.234375 16.796875 8.0625 \r\nQ 21.484375 6.890625 26.703125 6.890625 \r\nQ 35.15625 6.890625 40.078125 11.328125 \r\nQ 45.015625 15.765625 45.015625 23.390625 \r\nQ 45.015625 31 40.078125 35.4375 \r\nQ 35.15625 39.890625 26.703125 39.890625 \r\nQ 22.75 39.890625 18.8125 39.015625 \r\nQ 14.890625 38.140625 10.796875 36.28125 \r\nz\r\n\" id=\"DejaVuSans-53\"/>\r\n      </defs>\r\n      <g transform=\"translate(66.455179 239.238437)scale(0.1 -0.1)\">\r\n       <use xlink:href=\"#DejaVuSans-53\"/>\r\n      </g>\r\n     </g>\r\n    </g>\r\n    <g id=\"xtick_3\">\r\n     <g id=\"line2d_3\">\r\n      <g>\r\n       <use style=\"stroke:#000000;stroke-width:0.8;\" x=\"108.465\" xlink:href=\"#m3c5a909440\" y=\"224.64\"/>\r\n      </g>\r\n     </g>\r\n     <g id=\"text_3\">\r\n      <!-- 10 -->\r\n      <defs>\r\n       <path d=\"M 12.40625 8.296875 \r\nL 28.515625 8.296875 \r\nL 28.515625 63.921875 \r\nL 10.984375 60.40625 \r\nL 10.984375 69.390625 \r\nL 28.421875 72.90625 \r\nL 38.28125 72.90625 \r\nL 38.28125 8.296875 \r\nL 54.390625 8.296875 \r\nL 54.390625 0 \r\nL 12.40625 0 \r\nz\r\n\" id=\"DejaVuSans-49\"/>\r\n      </defs>\r\n      <g transform=\"translate(102.1025 239.238437)scale(0.1 -0.1)\">\r\n       <use xlink:href=\"#DejaVuSans-49\"/>\r\n       <use x=\"63.623047\" xlink:href=\"#DejaVuSans-48\"/>\r\n      </g>\r\n     </g>\r\n    </g>\r\n    <g id=\"xtick_4\">\r\n     <g id=\"line2d_4\">\r\n      <g>\r\n       <use style=\"stroke:#000000;stroke-width:0.8;\" x=\"147.293571\" xlink:href=\"#m3c5a909440\" y=\"224.64\"/>\r\n      </g>\r\n     </g>\r\n     <g id=\"text_4\">\r\n      <!-- 15 -->\r\n      <g transform=\"translate(140.931071 239.238437)scale(0.1 -0.1)\">\r\n       <use xlink:href=\"#DejaVuSans-49\"/>\r\n       <use x=\"63.623047\" xlink:href=\"#DejaVuSans-53\"/>\r\n      </g>\r\n     </g>\r\n    </g>\r\n    <g id=\"xtick_5\">\r\n     <g id=\"line2d_5\">\r\n      <g>\r\n       <use style=\"stroke:#000000;stroke-width:0.8;\" x=\"186.122143\" xlink:href=\"#m3c5a909440\" y=\"224.64\"/>\r\n      </g>\r\n     </g>\r\n     <g id=\"text_5\">\r\n      <!-- 20 -->\r\n      <defs>\r\n       <path d=\"M 19.1875 8.296875 \r\nL 53.609375 8.296875 \r\nL 53.609375 0 \r\nL 7.328125 0 \r\nL 7.328125 8.296875 \r\nQ 12.9375 14.109375 22.625 23.890625 \r\nQ 32.328125 33.6875 34.8125 36.53125 \r\nQ 39.546875 41.84375 41.421875 45.53125 \r\nQ 43.3125 49.21875 43.3125 52.78125 \r\nQ 43.3125 58.59375 39.234375 62.25 \r\nQ 35.15625 65.921875 28.609375 65.921875 \r\nQ 23.96875 65.921875 18.8125 64.3125 \r\nQ 13.671875 62.703125 7.8125 59.421875 \r\nL 7.8125 69.390625 \r\nQ 13.765625 71.78125 18.9375 73 \r\nQ 24.125 74.21875 28.421875 74.21875 \r\nQ 39.75 74.21875 46.484375 68.546875 \r\nQ 53.21875 62.890625 53.21875 53.421875 \r\nQ 53.21875 48.921875 51.53125 44.890625 \r\nQ 49.859375 40.875 45.40625 35.40625 \r\nQ 44.1875 33.984375 37.640625 27.21875 \r\nQ 31.109375 20.453125 19.1875 8.296875 \r\nz\r\n\" id=\"DejaVuSans-50\"/>\r\n      </defs>\r\n      <g transform=\"translate(179.759643 239.238437)scale(0.1 -0.1)\">\r\n       <use xlink:href=\"#DejaVuSans-50\"/>\r\n       <use x=\"63.623047\" xlink:href=\"#DejaVuSans-48\"/>\r\n      </g>\r\n     </g>\r\n    </g>\r\n    <g id=\"xtick_6\">\r\n     <g id=\"line2d_6\">\r\n      <g>\r\n       <use style=\"stroke:#000000;stroke-width:0.8;\" x=\"224.950714\" xlink:href=\"#m3c5a909440\" y=\"224.64\"/>\r\n      </g>\r\n     </g>\r\n     <g id=\"text_6\">\r\n      <!-- 25 -->\r\n      <g transform=\"translate(218.588214 239.238437)scale(0.1 -0.1)\">\r\n       <use xlink:href=\"#DejaVuSans-50\"/>\r\n       <use x=\"63.623047\" xlink:href=\"#DejaVuSans-53\"/>\r\n      </g>\r\n     </g>\r\n    </g>\r\n   </g>\r\n   <g id=\"matplotlib.axis_2\">\r\n    <g id=\"ytick_1\">\r\n     <g id=\"line2d_7\">\r\n      <defs>\r\n       <path d=\"M 0 0 \r\nL -3.5 0 \r\n\" id=\"m6f59a425ed\" style=\"stroke:#000000;stroke-width:0.8;\"/>\r\n      </defs>\r\n      <g>\r\n       <use style=\"stroke:#000000;stroke-width:0.8;\" x=\"26.925\" xlink:href=\"#m6f59a425ed\" y=\"11.082857\"/>\r\n      </g>\r\n     </g>\r\n     <g id=\"text_7\">\r\n      <!-- 0 -->\r\n      <g transform=\"translate(13.5625 14.882076)scale(0.1 -0.1)\">\r\n       <use xlink:href=\"#DejaVuSans-48\"/>\r\n      </g>\r\n     </g>\r\n    </g>\r\n    <g id=\"ytick_2\">\r\n     <g id=\"line2d_8\">\r\n      <g>\r\n       <use style=\"stroke:#000000;stroke-width:0.8;\" x=\"26.925\" xlink:href=\"#m6f59a425ed\" y=\"49.911429\"/>\r\n      </g>\r\n     </g>\r\n     <g id=\"text_8\">\r\n      <!-- 5 -->\r\n      <g transform=\"translate(13.5625 53.710647)scale(0.1 -0.1)\">\r\n       <use xlink:href=\"#DejaVuSans-53\"/>\r\n      </g>\r\n     </g>\r\n    </g>\r\n    <g id=\"ytick_3\">\r\n     <g id=\"line2d_9\">\r\n      <g>\r\n       <use style=\"stroke:#000000;stroke-width:0.8;\" x=\"26.925\" xlink:href=\"#m6f59a425ed\" y=\"88.74\"/>\r\n      </g>\r\n     </g>\r\n     <g id=\"text_9\">\r\n      <!-- 10 -->\r\n      <g transform=\"translate(7.2 92.539219)scale(0.1 -0.1)\">\r\n       <use xlink:href=\"#DejaVuSans-49\"/>\r\n       <use x=\"63.623047\" xlink:href=\"#DejaVuSans-48\"/>\r\n      </g>\r\n     </g>\r\n    </g>\r\n    <g id=\"ytick_4\">\r\n     <g id=\"line2d_10\">\r\n      <g>\r\n       <use style=\"stroke:#000000;stroke-width:0.8;\" x=\"26.925\" xlink:href=\"#m6f59a425ed\" y=\"127.568571\"/>\r\n      </g>\r\n     </g>\r\n     <g id=\"text_10\">\r\n      <!-- 15 -->\r\n      <g transform=\"translate(7.2 131.36779)scale(0.1 -0.1)\">\r\n       <use xlink:href=\"#DejaVuSans-49\"/>\r\n       <use x=\"63.623047\" xlink:href=\"#DejaVuSans-53\"/>\r\n      </g>\r\n     </g>\r\n    </g>\r\n    <g id=\"ytick_5\">\r\n     <g id=\"line2d_11\">\r\n      <g>\r\n       <use style=\"stroke:#000000;stroke-width:0.8;\" x=\"26.925\" xlink:href=\"#m6f59a425ed\" y=\"166.397143\"/>\r\n      </g>\r\n     </g>\r\n     <g id=\"text_11\">\r\n      <!-- 20 -->\r\n      <g transform=\"translate(7.2 170.196362)scale(0.1 -0.1)\">\r\n       <use xlink:href=\"#DejaVuSans-50\"/>\r\n       <use x=\"63.623047\" xlink:href=\"#DejaVuSans-48\"/>\r\n      </g>\r\n     </g>\r\n    </g>\r\n    <g id=\"ytick_6\">\r\n     <g id=\"line2d_12\">\r\n      <g>\r\n       <use style=\"stroke:#000000;stroke-width:0.8;\" x=\"26.925\" xlink:href=\"#m6f59a425ed\" y=\"205.225714\"/>\r\n      </g>\r\n     </g>\r\n     <g id=\"text_12\">\r\n      <!-- 25 -->\r\n      <g transform=\"translate(7.2 209.024933)scale(0.1 -0.1)\">\r\n       <use xlink:href=\"#DejaVuSans-50\"/>\r\n       <use x=\"63.623047\" xlink:href=\"#DejaVuSans-53\"/>\r\n      </g>\r\n     </g>\r\n    </g>\r\n   </g>\r\n   <g id=\"patch_3\">\r\n    <path d=\"M 26.925 224.64 \r\nL 26.925 7.2 \r\n\" style=\"fill:none;stroke:#000000;stroke-linecap:square;stroke-linejoin:miter;stroke-width:0.8;\"/>\r\n   </g>\r\n   <g id=\"patch_4\">\r\n    <path d=\"M 244.365 224.64 \r\nL 244.365 7.2 \r\n\" style=\"fill:none;stroke:#000000;stroke-linecap:square;stroke-linejoin:miter;stroke-width:0.8;\"/>\r\n   </g>\r\n   <g id=\"patch_5\">\r\n    <path d=\"M 26.925 224.64 \r\nL 244.365 224.64 \r\n\" style=\"fill:none;stroke:#000000;stroke-linecap:square;stroke-linejoin:miter;stroke-width:0.8;\"/>\r\n   </g>\r\n   <g id=\"patch_6\">\r\n    <path d=\"M 26.925 7.2 \r\nL 244.365 7.2 \r\n\" style=\"fill:none;stroke:#000000;stroke-linecap:square;stroke-linejoin:miter;stroke-width:0.8;\"/>\r\n   </g>\r\n  </g>\r\n </g>\r\n <defs>\r\n  <clipPath id=\"p8d0a52ff87\">\r\n   <rect height=\"217.44\" width=\"217.44\" x=\"26.925\" y=\"7.2\"/>\r\n  </clipPath>\r\n </defs>\r\n</svg>\r\n",
      "text/plain": "<Figure size 432x288 with 1 Axes>"
=======
      "text/plain": [
       "<Figure size 432x288 with 1 Axes>"
      ]
>>>>>>> bbad9a972c62fcfddba440c47dde23bcc997ae9e
     },
     "metadata": {
      "needs_background": "light"
     },
     "output_type": "display_data"
    }
   ],
   "source": [
    "# 数据集样本展示\n",
    "def show_single_img(img_arr):\n",
    "    plt.imshow(img_arr, cmap=\"binary\")\n",
    "    plt.show()\n",
    "show_single_img(x_train[0])"
   ]
  },
  {
   "cell_type": "code",
   "execution_count": 4,
   "metadata": {},
   "outputs": [],
   "source": [
    "'''\n",
    "对数据进行归一化处理\n",
    "定义：把数据经过处理后使之限定在一定的范围内。比如通常限制在区间[0, 1]或者[-1, 1]\n",
    "Z-score归一化\n",
    "'''\n",
    "from sklearn.preprocessing import StandardScaler\n",
    "scaler = StandardScaler()\n",
    "x_train_scaled = scaler.fit_transform(x_train.astype(np.float32).reshape(-1, 1)).reshape(-1, 28, 28)\n",
    "x_valid_scaled = scaler.fit_transform(x_valid.astype(np.float32).reshape(-1, 1)).reshape(-1, 28, 28)\n",
    "x_test_scaled = scaler.fit_transform(x_test.astype(np.float32).reshape(-1, 1)).reshape(-1, 28, 28)\n",
    "# 我们np里的数据是int类型，所以我们需要x_train.astype(np.float32)将数据转化成float32\n",
    "# fit_transform 不仅有数据转化为归一化的功能，还有fit（将数据存储下来）的功能.\n",
    "# Z_score = lambda d:scaler.fit_transform(d.astype(np.float32).reshape(-1,1)).reshape(-1,28,28)\n",
    "# x_train_scaled = Z_score(x_train)\n",
    "# x_valid_scaled = Z_score(x_valid)\n",
    "# x_test_scaled = Z_score(x_test)"
   ]
  },
  {
   "cell_type": "code",
   "execution_count": 5,
   "metadata": {},
   "outputs": [
    {
     "name": "stdout",
     "output_type": "stream",
<<<<<<< HEAD
     "text": "Model: \"sequential\"\n_________________________________________________________________\nLayer (type)                 Output Shape              Param #   \n=================================================================\nconv2d (Conv2D)              (None, 28, 28, 32)        320       \n_________________________________________________________________\nseparable_conv2d (SeparableC (None, 28, 28, 32)        1344      \n_________________________________________________________________\nmax_pooling2d (MaxPooling2D) (None, 14, 14, 32)        0         \n_________________________________________________________________\nconv2d_1 (Conv2D)            (None, 14, 14, 64)        18496     \n_________________________________________________________________\nseparable_conv2d_1 (Separabl (None, 14, 14, 64)        4736      \n_________________________________________________________________\nmax_pooling2d_1 (MaxPooling2 (None, 7, 7, 64)          0         \n_________________________________________________________________\nconv2d_2 (Conv2D)            (None, 7, 7, 128)         73856     \n_________________________________________________________________\nseparable_conv2d_2 (Separabl (None, 7, 7, 128)         17664     \n_________________________________________________________________\nmax_pooling2d_2 (MaxPooling2 (None, 3, 3, 128)         0         \n_________________________________________________________________\nflatten (Flatten)            (None, 1152)              0         \n_________________________________________________________________\ndense (Dense)                (None, 128)               147584    \n_________________________________________________________________\ndense_1 (Dense)              (None, 10)                1290      \n=================================================================\nTotal params: 265,290\nTrainable params: 265,290\nNon-trainable params: 0\n_________________________________________________________________\n"
=======
     "text": [
      "Model: \"sequential\"\n",
      "_________________________________________________________________\n",
      "Layer (type)                 Output Shape              Param #   \n",
      "=================================================================\n",
      "conv2d (Conv2D)              (None, 28, 28, 32)        320       \n",
      "_________________________________________________________________\n",
      "separable_conv2d (SeparableC (None, 28, 28, 32)        1344      \n",
      "_________________________________________________________________\n",
      "max_pooling2d (MaxPooling2D) (None, 14, 14, 32)        0         \n",
      "_________________________________________________________________\n",
      "conv2d_1 (Conv2D)            (None, 14, 14, 64)        18496     \n",
      "_________________________________________________________________\n",
      "separable_conv2d_1 (Separabl (None, 14, 14, 64)        4736      \n",
      "_________________________________________________________________\n",
      "max_pooling2d_1 (MaxPooling2 (None, 7, 7, 64)          0         \n",
      "_________________________________________________________________\n",
      "conv2d_2 (Conv2D)            (None, 7, 7, 128)         73856     \n",
      "_________________________________________________________________\n",
      "separable_conv2d_2 (Separabl (None, 7, 7, 128)         17664     \n",
      "_________________________________________________________________\n",
      "max_pooling2d_2 (MaxPooling2 (None, 3, 3, 128)         0         \n",
      "_________________________________________________________________\n",
      "flatten (Flatten)            (None, 1152)              0         \n",
      "_________________________________________________________________\n",
      "dense (Dense)                (None, 128)               147584    \n",
      "_________________________________________________________________\n",
      "dense_1 (Dense)              (None, 10)                1290      \n",
      "=================================================================\n",
      "Total params: 265,290\n",
      "Trainable params: 265,290\n",
      "Non-trainable params: 0\n",
      "_________________________________________________________________\n"
     ]
>>>>>>> bbad9a972c62fcfddba440c47dde23bcc997ae9e
    }
   ],
   "source": [
    "model = keras.models.Sequential()\n",
    "# padding='same' 要不要给输入加上padding\n",
    "model.add(keras.layers.Conv2D(filters=32, kernel_size=3, padding='same', activation='relu', input_shape=(28,28,1)))\n",
    "model.add(keras.layers.SeparableConv2D(filters=32, kernel_size=3, padding='same', activation='relu'))\n",
    "# pool_size=2 源数据的长宽都会变成原来的1/2，导致数据量变为原来的1/4\n",
    "model.add(keras.layers.MaxPool2D(pool_size=2))\n",
    "\n",
    "# 所以在这一层需要讲filter变成两倍，防止损失数据\n",
    "model.add(keras.layers.Conv2D(filters=64, kernel_size=3, padding='same', activation='relu'))\n",
    "model.add(keras.layers.SeparableConv2D(filters=64, kernel_size=3, padding='same', activation='relu'))\n",
    "model.add(keras.layers.MaxPool2D(pool_size=2))\n",
    "\n",
    "# 以下同理\n",
    "model.add(keras.layers.Conv2D(filters=128, kernel_size=3, padding='same', activation='relu'))\n",
    "model.add(keras.layers.SeparableConv2D(filters=128, kernel_size=3, padding='same', activation='relu'))\n",
    "model.add(keras.layers.MaxPool2D(pool_size=2))\n",
    "\n",
    "# 链接全连接层\n",
    "model.add(keras.layers.Flatten())\n",
    "model.add(keras.layers.Dense(128, activation='relu'))\n",
    "# 输出层\n",
    "model.add(keras.layers.Dense(10, activation='softmax'))\n",
    "\n",
    "model.compile(loss='sparse_categorical_crossentropy', optimizer='sgd', metrics=['accuracy'])\n",
    "model.summary()"
   ]
  },
  {
   "cell_type": "code",
   "execution_count": 6,
   "metadata": {},
   "outputs": [
    {
     "data": {
<<<<<<< HEAD
      "text/plain": "55000"
=======
      "text/plain": [
       "55000"
      ]
>>>>>>> bbad9a972c62fcfddba440c47dde23bcc997ae9e
     },
     "execution_count": 6,
     "metadata": {},
     "output_type": "execute_result"
    }
   ],
   "source": [
    "x_train_scaled.shape[0]"
   ]
  },
  {
   "cell_type": "code",
   "execution_count": 7,
   "metadata": {},
   "outputs": [
    {
     "name": "stderr",
     "output_type": "stream",
<<<<<<< HEAD
     "text": "Using TensorFlow backend.\nTrain on 55000 samples, validate on 5000 samples\nEpoch 1/10\n   32/55000 [..............................] - ETA: 1:55:33 - loss: 2.3026 - accuracy: 0.1250WARNING:tensorflow:Method (on_train_batch_end) is slow compared to the batch update (0.111701). Check your callbacks.\n   64/55000 [..............................] - ETA: 59:35 - loss: 2.3025 - accuracy: 0.1250WARNING:tensorflow:Method (on_train_batch_end) is slow compared to the batch update (0.106715). Check your callbacks.\n55000/55000 [==============================] - 25s 460us/sample - loss: 2.3027 - accuracy: 0.0997 - val_loss: 2.3029 - val_accuracy: 0.1008\nEpoch 2/10\n55000/55000 [==============================] - 17s 305us/sample - loss: 2.3026 - accuracy: 0.1003 - val_loss: 2.3029 - val_accuracy: 0.0980\nEpoch 3/10\n55000/55000 [==============================] - 16s 298us/sample - loss: 2.3026 - accuracy: 0.1013 - val_loss: 2.3027 - val_accuracy: 0.0980\nEpoch 4/10\n55000/55000 [==============================] - 18s 324us/sample - loss: 2.3026 - accuracy: 0.1006 - val_loss: 2.3027 - val_accuracy: 0.1002\nEpoch 5/10\n55000/55000 [==============================] - 16s 297us/sample - loss: 2.3025 - accuracy: 0.1020 - val_loss: 2.3028 - val_accuracy: 0.0986\nEpoch 6/10\n55000/55000 [==============================] - 16s 299us/sample - loss: 2.3024 - accuracy: 0.1034 - val_loss: 2.3028 - val_accuracy: 0.0914\n"
=======
     "text": [
      "Using TensorFlow backend.\n"
     ]
    },
    {
     "name": "stdout",
     "output_type": "stream",
     "text": [
      "Train on 55000 samples, validate on 5000 samples\n",
      "Epoch 1/10\n",
      "55000/55000 [==============================] - 19s 344us/sample - loss: 2.3026 - accuracy: 0.1008 - val_loss: 2.3027 - val_accuracy: 0.0986\n",
      "Epoch 2/10\n",
      "55000/55000 [==============================] - 14s 262us/sample - loss: 2.3026 - accuracy: 0.1007 - val_loss: 2.3027 - val_accuracy: 0.0986\n",
      "Epoch 3/10\n",
      "55000/55000 [==============================] - 15s 269us/sample - loss: 2.3025 - accuracy: 0.1024 - val_loss: 2.3024 - val_accuracy: 0.0986\n",
      "Epoch 4/10\n",
      "55000/55000 [==============================] - 15s 278us/sample - loss: 2.3023 - accuracy: 0.1045 - val_loss: 2.3022 - val_accuracy: 0.0914\n",
      "Epoch 5/10\n",
      "55000/55000 [==============================] - 15s 272us/sample - loss: 2.3016 - accuracy: 0.1108 - val_loss: 2.3004 - val_accuracy: 0.0980\n",
      "Epoch 6/10\n",
      "55000/55000 [==============================] - 15s 272us/sample - loss: 2.1338 - accuracy: 0.2406 - val_loss: 1.0289 - val_accuracy: 0.6426\n",
      "Epoch 7/10\n",
      "55000/55000 [==============================] - 15s 268us/sample - loss: 0.7877 - accuracy: 0.7085 - val_loss: 0.6717 - val_accuracy: 0.7530\n",
      "Epoch 8/10\n",
      "55000/55000 [==============================] - 15s 268us/sample - loss: 0.6077 - accuracy: 0.7766 - val_loss: 0.5327 - val_accuracy: 0.8078\n",
      "Epoch 9/10\n",
      "55000/55000 [==============================] - 15s 272us/sample - loss: 0.5246 - accuracy: 0.8053 - val_loss: 0.5014 - val_accuracy: 0.8184\n",
      "Epoch 10/10\n",
      "55000/55000 [==============================] - 15s 275us/sample - loss: 0.4697 - accuracy: 0.8273 - val_loss: 0.4354 - val_accuracy: 0.8406\n"
     ]
>>>>>>> bbad9a972c62fcfddba440c47dde23bcc997ae9e
    }
   ],
   "source": [
    "logdir = os.path.join('callbacks')\n",
    "\n",
    "if not os.path.exists(logdir):\n",
    "    os.mkdir(logdir)\n",
    "output_model_file = os.path.join(logdir,\n",
    "                                 \"fashion_mnist_model.h5\")\n",
    "callbacks = [\n",
    "    keras.callbacks.TensorBoard(log_dir=logdir),\n",
    "    keras.callbacks.ModelCheckpoint(output_model_file, save_best_only=True),\n",
    "    keras.callbacks.EarlyStopping(patience=5, min_delta=1e-3),\n",
    "]\n",
    "\n",
    "\n",
    "from keras.utils import np_utils\n",
    "# 将数据集标准化\n",
    "\n",
    "x_train_scaled = x_train_scaled.reshape(x_train_scaled.shape[0],28,28,1)\n",
    "x_valid_scaled = x_valid_scaled.reshape(x_valid_scaled.shape[0],28,28,1)\n",
    "x_test_scaled = x_valid_scaled.reshape(x_valid_scaled.shape[0],28,28,1)\n",
    "\n",
    "history = model.fit(x_train_scaled, y_train, epochs=10, validation_data=(x_valid_scaled, y_valid), callbacks=callbacks)"
   ]
  },
  {
   "cell_type": "code",
   "execution_count": 8,
   "metadata": {},
   "outputs": [
    {
     "data": {
<<<<<<< HEAD
      "text/plain": "array([[[[-0.8105136],\n         [-0.8105136],\n         [-0.8105136],\n         ...,\n         [-0.8105136],\n         [-0.8105136],\n         [-0.8105136]],\n\n        [[-0.8105136],\n         [-0.8105136],\n         [-0.8105136],\n         ...,\n         [-0.8105136],\n         [-0.8105136],\n         [-0.8105136]],\n\n        [[-0.8105136],\n         [-0.8105136],\n         [-0.8105136],\n         ...,\n         [-0.8105136],\n         [-0.8105136],\n         [-0.8105136]],\n\n        ...,\n\n        [[-0.8105136],\n         [-0.8105136],\n         [-0.8105136],\n         ...,\n         [-0.8105136],\n         [-0.8105136],\n         [-0.8105136]],\n\n        [[-0.8105136],\n         [-0.8105136],\n         [-0.8105136],\n         ...,\n         [-0.8105136],\n         [-0.8105136],\n         [-0.8105136]],\n\n        [[-0.8105136],\n         [-0.8105136],\n         [-0.8105136],\n         ...,\n         [-0.8105136],\n         [-0.8105136],\n         [-0.8105136]]],\n\n\n       [[[-0.8105136],\n         [-0.8105136],\n         [-0.8105136],\n         ...,\n         [-0.8105136],\n         [-0.8105136],\n         [-0.8105136]],\n\n        [[-0.8105136],\n         [-0.8105136],\n         [-0.8105136],\n         ...,\n         [-0.8105136],\n         [-0.8105136],\n         [-0.8105136]],\n\n        [[-0.8105136],\n         [-0.8105136],\n         [-0.8105136],\n         ...,\n         [-0.8105136],\n         [-0.8105136],\n         [-0.8105136]],\n\n        ...,\n\n        [[-0.8105136],\n         [-0.8105136],\n         [-0.8105136],\n         ...,\n         [-0.8105136],\n         [-0.8105136],\n         [-0.8105136]],\n\n        [[-0.8105136],\n         [-0.8105136],\n         [-0.8105136],\n         ...,\n         [-0.8105136],\n         [-0.8105136],\n         [-0.8105136]],\n\n        [[-0.8105136],\n         [-0.8105136],\n         [-0.8105136],\n         ...,\n         [-0.8105136],\n         [-0.8105136],\n         [-0.8105136]]],\n\n\n       [[[-0.8105136],\n         [-0.8105136],\n         [-0.8105136],\n         ...,\n         [-0.8105136],\n         [-0.8105136],\n         [-0.8105136]],\n\n        [[-0.8105136],\n         [-0.8105136],\n         [-0.8105136],\n         ...,\n         [-0.8105136],\n         [-0.8105136],\n         [-0.8105136]],\n\n        [[-0.8105136],\n         [-0.8105136],\n         [-0.8105136],\n         ...,\n         [-0.8105136],\n         [-0.8105136],\n         [-0.8105136]],\n\n        ...,\n\n        [[-0.8105136],\n         [-0.8105136],\n         [-0.8105136],\n         ...,\n         [-0.8105136],\n         [-0.8105136],\n         [-0.8105136]],\n\n        [[-0.8105136],\n         [-0.8105136],\n         [-0.8105136],\n         ...,\n         [-0.8105136],\n         [-0.8105136],\n         [-0.8105136]],\n\n        [[-0.8105136],\n         [-0.8105136],\n         [-0.8105136],\n         ...,\n         [-0.8105136],\n         [-0.8105136],\n         [-0.8105136]]],\n\n\n       ...,\n\n\n       [[[-0.8105136],\n         [-0.8105136],\n         [-0.8105136],\n         ...,\n         [-0.8105136],\n         [-0.8105136],\n         [-0.8105136]],\n\n        [[-0.8105136],\n         [-0.8105136],\n         [-0.8105136],\n         ...,\n         [-0.8105136],\n         [-0.8105136],\n         [-0.8105136]],\n\n        [[-0.8105136],\n         [-0.8105136],\n         [-0.8105136],\n         ...,\n         [-0.8105136],\n         [-0.8105136],\n         [-0.8105136]],\n\n        ...,\n\n        [[-0.8105136],\n         [-0.8105136],\n         [-0.8105136],\n         ...,\n         [-0.8105136],\n         [-0.8105136],\n         [-0.8105136]],\n\n        [[-0.8105136],\n         [-0.8105136],\n         [-0.8105136],\n         ...,\n         [-0.8105136],\n         [-0.8105136],\n         [-0.8105136]],\n\n        [[-0.8105136],\n         [-0.8105136],\n         [-0.8105136],\n         ...,\n         [-0.8105136],\n         [-0.8105136],\n         [-0.8105136]]],\n\n\n       [[[-0.8105136],\n         [-0.8105136],\n         [-0.8105136],\n         ...,\n         [-0.8105136],\n         [-0.8105136],\n         [-0.8105136]],\n\n        [[-0.8105136],\n         [-0.8105136],\n         [-0.8105136],\n         ...,\n         [-0.8105136],\n         [-0.8105136],\n         [-0.8105136]],\n\n        [[-0.8105136],\n         [-0.8105136],\n         [-0.8105136],\n         ...,\n         [-0.8105136],\n         [-0.8105136],\n         [-0.8105136]],\n\n        ...,\n\n        [[-0.8105136],\n         [-0.8105136],\n         [-0.8105136],\n         ...,\n         [-0.8105136],\n         [-0.8105136],\n         [-0.8105136]],\n\n        [[-0.8105136],\n         [-0.8105136],\n         [-0.8105136],\n         ...,\n         [-0.8105136],\n         [-0.8105136],\n         [-0.8105136]],\n\n        [[-0.8105136],\n         [-0.8105136],\n         [-0.8105136],\n         ...,\n         [-0.8105136],\n         [-0.8105136],\n         [-0.8105136]]],\n\n\n       [[[-0.8105136],\n         [-0.8105136],\n         [-0.8105136],\n         ...,\n         [-0.8105136],\n         [-0.8105136],\n         [-0.8105136]],\n\n        [[-0.8105136],\n         [-0.8105136],\n         [-0.8105136],\n         ...,\n         [-0.8105136],\n         [-0.8105136],\n         [-0.8105136]],\n\n        [[-0.8105136],\n         [-0.8105136],\n         [-0.8105136],\n         ...,\n         [-0.8105136],\n         [-0.8105136],\n         [-0.8105136]],\n\n        ...,\n\n        [[-0.8105136],\n         [-0.8105136],\n         [-0.8105136],\n         ...,\n         [-0.8105136],\n         [-0.8105136],\n         [-0.8105136]],\n\n        [[-0.8105136],\n         [-0.8105136],\n         [-0.8105136],\n         ...,\n         [-0.8105136],\n         [-0.8105136],\n         [-0.8105136]],\n\n        [[-0.8105136],\n         [-0.8105136],\n         [-0.8105136],\n         ...,\n         [-0.8105136],\n         [-0.8105136],\n         [-0.8105136]]]], dtype=float32)"
=======
      "text/plain": [
       "array([[[[-0.8105136],\n",
       "         [-0.8105136],\n",
       "         [-0.8105136],\n",
       "         ...,\n",
       "         [-0.8105136],\n",
       "         [-0.8105136],\n",
       "         [-0.8105136]],\n",
       "\n",
       "        [[-0.8105136],\n",
       "         [-0.8105136],\n",
       "         [-0.8105136],\n",
       "         ...,\n",
       "         [-0.8105136],\n",
       "         [-0.8105136],\n",
       "         [-0.8105136]],\n",
       "\n",
       "        [[-0.8105136],\n",
       "         [-0.8105136],\n",
       "         [-0.8105136],\n",
       "         ...,\n",
       "         [-0.8105136],\n",
       "         [-0.8105136],\n",
       "         [-0.8105136]],\n",
       "\n",
       "        ...,\n",
       "\n",
       "        [[-0.8105136],\n",
       "         [-0.8105136],\n",
       "         [-0.8105136],\n",
       "         ...,\n",
       "         [-0.8105136],\n",
       "         [-0.8105136],\n",
       "         [-0.8105136]],\n",
       "\n",
       "        [[-0.8105136],\n",
       "         [-0.8105136],\n",
       "         [-0.8105136],\n",
       "         ...,\n",
       "         [-0.8105136],\n",
       "         [-0.8105136],\n",
       "         [-0.8105136]],\n",
       "\n",
       "        [[-0.8105136],\n",
       "         [-0.8105136],\n",
       "         [-0.8105136],\n",
       "         ...,\n",
       "         [-0.8105136],\n",
       "         [-0.8105136],\n",
       "         [-0.8105136]]],\n",
       "\n",
       "\n",
       "       [[[-0.8105136],\n",
       "         [-0.8105136],\n",
       "         [-0.8105136],\n",
       "         ...,\n",
       "         [-0.8105136],\n",
       "         [-0.8105136],\n",
       "         [-0.8105136]],\n",
       "\n",
       "        [[-0.8105136],\n",
       "         [-0.8105136],\n",
       "         [-0.8105136],\n",
       "         ...,\n",
       "         [-0.8105136],\n",
       "         [-0.8105136],\n",
       "         [-0.8105136]],\n",
       "\n",
       "        [[-0.8105136],\n",
       "         [-0.8105136],\n",
       "         [-0.8105136],\n",
       "         ...,\n",
       "         [-0.8105136],\n",
       "         [-0.8105136],\n",
       "         [-0.8105136]],\n",
       "\n",
       "        ...,\n",
       "\n",
       "        [[-0.8105136],\n",
       "         [-0.8105136],\n",
       "         [-0.8105136],\n",
       "         ...,\n",
       "         [-0.8105136],\n",
       "         [-0.8105136],\n",
       "         [-0.8105136]],\n",
       "\n",
       "        [[-0.8105136],\n",
       "         [-0.8105136],\n",
       "         [-0.8105136],\n",
       "         ...,\n",
       "         [-0.8105136],\n",
       "         [-0.8105136],\n",
       "         [-0.8105136]],\n",
       "\n",
       "        [[-0.8105136],\n",
       "         [-0.8105136],\n",
       "         [-0.8105136],\n",
       "         ...,\n",
       "         [-0.8105136],\n",
       "         [-0.8105136],\n",
       "         [-0.8105136]]],\n",
       "\n",
       "\n",
       "       [[[-0.8105136],\n",
       "         [-0.8105136],\n",
       "         [-0.8105136],\n",
       "         ...,\n",
       "         [-0.8105136],\n",
       "         [-0.8105136],\n",
       "         [-0.8105136]],\n",
       "\n",
       "        [[-0.8105136],\n",
       "         [-0.8105136],\n",
       "         [-0.8105136],\n",
       "         ...,\n",
       "         [-0.8105136],\n",
       "         [-0.8105136],\n",
       "         [-0.8105136]],\n",
       "\n",
       "        [[-0.8105136],\n",
       "         [-0.8105136],\n",
       "         [-0.8105136],\n",
       "         ...,\n",
       "         [-0.8105136],\n",
       "         [-0.8105136],\n",
       "         [-0.8105136]],\n",
       "\n",
       "        ...,\n",
       "\n",
       "        [[-0.8105136],\n",
       "         [-0.8105136],\n",
       "         [-0.8105136],\n",
       "         ...,\n",
       "         [-0.8105136],\n",
       "         [-0.8105136],\n",
       "         [-0.8105136]],\n",
       "\n",
       "        [[-0.8105136],\n",
       "         [-0.8105136],\n",
       "         [-0.8105136],\n",
       "         ...,\n",
       "         [-0.8105136],\n",
       "         [-0.8105136],\n",
       "         [-0.8105136]],\n",
       "\n",
       "        [[-0.8105136],\n",
       "         [-0.8105136],\n",
       "         [-0.8105136],\n",
       "         ...,\n",
       "         [-0.8105136],\n",
       "         [-0.8105136],\n",
       "         [-0.8105136]]],\n",
       "\n",
       "\n",
       "       ...,\n",
       "\n",
       "\n",
       "       [[[-0.8105136],\n",
       "         [-0.8105136],\n",
       "         [-0.8105136],\n",
       "         ...,\n",
       "         [-0.8105136],\n",
       "         [-0.8105136],\n",
       "         [-0.8105136]],\n",
       "\n",
       "        [[-0.8105136],\n",
       "         [-0.8105136],\n",
       "         [-0.8105136],\n",
       "         ...,\n",
       "         [-0.8105136],\n",
       "         [-0.8105136],\n",
       "         [-0.8105136]],\n",
       "\n",
       "        [[-0.8105136],\n",
       "         [-0.8105136],\n",
       "         [-0.8105136],\n",
       "         ...,\n",
       "         [-0.8105136],\n",
       "         [-0.8105136],\n",
       "         [-0.8105136]],\n",
       "\n",
       "        ...,\n",
       "\n",
       "        [[-0.8105136],\n",
       "         [-0.8105136],\n",
       "         [-0.8105136],\n",
       "         ...,\n",
       "         [-0.8105136],\n",
       "         [-0.8105136],\n",
       "         [-0.8105136]],\n",
       "\n",
       "        [[-0.8105136],\n",
       "         [-0.8105136],\n",
       "         [-0.8105136],\n",
       "         ...,\n",
       "         [-0.8105136],\n",
       "         [-0.8105136],\n",
       "         [-0.8105136]],\n",
       "\n",
       "        [[-0.8105136],\n",
       "         [-0.8105136],\n",
       "         [-0.8105136],\n",
       "         ...,\n",
       "         [-0.8105136],\n",
       "         [-0.8105136],\n",
       "         [-0.8105136]]],\n",
       "\n",
       "\n",
       "       [[[-0.8105136],\n",
       "         [-0.8105136],\n",
       "         [-0.8105136],\n",
       "         ...,\n",
       "         [-0.8105136],\n",
       "         [-0.8105136],\n",
       "         [-0.8105136]],\n",
       "\n",
       "        [[-0.8105136],\n",
       "         [-0.8105136],\n",
       "         [-0.8105136],\n",
       "         ...,\n",
       "         [-0.8105136],\n",
       "         [-0.8105136],\n",
       "         [-0.8105136]],\n",
       "\n",
       "        [[-0.8105136],\n",
       "         [-0.8105136],\n",
       "         [-0.8105136],\n",
       "         ...,\n",
       "         [-0.8105136],\n",
       "         [-0.8105136],\n",
       "         [-0.8105136]],\n",
       "\n",
       "        ...,\n",
       "\n",
       "        [[-0.8105136],\n",
       "         [-0.8105136],\n",
       "         [-0.8105136],\n",
       "         ...,\n",
       "         [-0.8105136],\n",
       "         [-0.8105136],\n",
       "         [-0.8105136]],\n",
       "\n",
       "        [[-0.8105136],\n",
       "         [-0.8105136],\n",
       "         [-0.8105136],\n",
       "         ...,\n",
       "         [-0.8105136],\n",
       "         [-0.8105136],\n",
       "         [-0.8105136]],\n",
       "\n",
       "        [[-0.8105136],\n",
       "         [-0.8105136],\n",
       "         [-0.8105136],\n",
       "         ...,\n",
       "         [-0.8105136],\n",
       "         [-0.8105136],\n",
       "         [-0.8105136]]],\n",
       "\n",
       "\n",
       "       [[[-0.8105136],\n",
       "         [-0.8105136],\n",
       "         [-0.8105136],\n",
       "         ...,\n",
       "         [-0.8105136],\n",
       "         [-0.8105136],\n",
       "         [-0.8105136]],\n",
       "\n",
       "        [[-0.8105136],\n",
       "         [-0.8105136],\n",
       "         [-0.8105136],\n",
       "         ...,\n",
       "         [-0.8105136],\n",
       "         [-0.8105136],\n",
       "         [-0.8105136]],\n",
       "\n",
       "        [[-0.8105136],\n",
       "         [-0.8105136],\n",
       "         [-0.8105136],\n",
       "         ...,\n",
       "         [-0.8105136],\n",
       "         [-0.8105136],\n",
       "         [-0.8105136]],\n",
       "\n",
       "        ...,\n",
       "\n",
       "        [[-0.8105136],\n",
       "         [-0.8105136],\n",
       "         [-0.8105136],\n",
       "         ...,\n",
       "         [-0.8105136],\n",
       "         [-0.8105136],\n",
       "         [-0.8105136]],\n",
       "\n",
       "        [[-0.8105136],\n",
       "         [-0.8105136],\n",
       "         [-0.8105136],\n",
       "         ...,\n",
       "         [-0.8105136],\n",
       "         [-0.8105136],\n",
       "         [-0.8105136]],\n",
       "\n",
       "        [[-0.8105136],\n",
       "         [-0.8105136],\n",
       "         [-0.8105136],\n",
       "         ...,\n",
       "         [-0.8105136],\n",
       "         [-0.8105136],\n",
       "         [-0.8105136]]]], dtype=float32)"
      ]
>>>>>>> bbad9a972c62fcfddba440c47dde23bcc997ae9e
     },
     "execution_count": 8,
     "metadata": {},
     "output_type": "execute_result"
    }
   ],
   "source": [
    "x_train_scaled"
   ]
  },
  {
   "cell_type": "code",
<<<<<<< HEAD
   "execution_count": 9,
=======
   "execution_count": 11,
>>>>>>> bbad9a972c62fcfddba440c47dde23bcc997ae9e
   "metadata": {},
   "outputs": [
    {
     "data": {
<<<<<<< HEAD
      "image/png": "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\n",
      "image/svg+xml": "<?xml version=\"1.0\" encoding=\"utf-8\" standalone=\"no\"?>\r\n<!DOCTYPE svg PUBLIC \"-//W3C//DTD SVG 1.1//EN\"\r\n  \"http://www.w3.org/Graphics/SVG/1.1/DTD/svg11.dtd\">\r\n<!-- Created with matplotlib (https://matplotlib.org/) -->\r\n<svg height=\"306.677344pt\" version=\"1.1\" viewBox=\"0 0 483.703125 306.677344\" width=\"483.703125pt\" xmlns=\"http://www.w3.org/2000/svg\" xmlns:xlink=\"http://www.w3.org/1999/xlink\">\r\n <defs>\r\n  <style type=\"text/css\">\r\n*{stroke-linecap:butt;stroke-linejoin:round;}\r\n  </style>\r\n </defs>\r\n <g id=\"figure_1\">\r\n  <g id=\"patch_1\">\r\n   <path d=\"M 0 306.677344 \r\nL 483.703125 306.677344 \r\nL 483.703125 0 \r\nL 0 0 \r\nz\r\n\" style=\"fill:none;\"/>\r\n  </g>\r\n  <g id=\"axes_1\">\r\n   <g id=\"patch_2\">\r\n    <path d=\"M 30.103125 282.799219 \r\nL 476.503125 282.799219 \r\nL 476.503125 10.999219 \r\nL 30.103125 10.999219 \r\nz\r\n\" style=\"fill:#ffffff;\"/>\r\n   </g>\r\n   <g id=\"matplotlib.axis_1\">\r\n    <g id=\"xtick_1\">\r\n     <g id=\"line2d_1\">\r\n      <path clip-path=\"url(#pb2e7454186)\" d=\"M 50.394034 282.799219 \r\nL 50.394034 10.999219 \r\n\" style=\"fill:none;stroke:#b0b0b0;stroke-linecap:square;stroke-width:0.8;\"/>\r\n     </g>\r\n     <g id=\"line2d_2\">\r\n      <defs>\r\n       <path d=\"M 0 0 \r\nL 0 3.5 \r\n\" id=\"m8e7ece84ad\" style=\"stroke:#000000;stroke-width:0.8;\"/>\r\n      </defs>\r\n      <g>\r\n       <use style=\"stroke:#000000;stroke-width:0.8;\" x=\"50.394034\" xlink:href=\"#m8e7ece84ad\" y=\"282.799219\"/>\r\n      </g>\r\n     </g>\r\n     <g id=\"text_1\">\r\n      <!-- 0 -->\r\n      <defs>\r\n       <path d=\"M 31.78125 66.40625 \r\nQ 24.171875 66.40625 20.328125 58.90625 \r\nQ 16.5 51.421875 16.5 36.375 \r\nQ 16.5 21.390625 20.328125 13.890625 \r\nQ 24.171875 6.390625 31.78125 6.390625 \r\nQ 39.453125 6.390625 43.28125 13.890625 \r\nQ 47.125 21.390625 47.125 36.375 \r\nQ 47.125 51.421875 43.28125 58.90625 \r\nQ 39.453125 66.40625 31.78125 66.40625 \r\nz\r\nM 31.78125 74.21875 \r\nQ 44.046875 74.21875 50.515625 64.515625 \r\nQ 56.984375 54.828125 56.984375 36.375 \r\nQ 56.984375 17.96875 50.515625 8.265625 \r\nQ 44.046875 -1.421875 31.78125 -1.421875 \r\nQ 19.53125 -1.421875 13.0625 8.265625 \r\nQ 6.59375 17.96875 6.59375 36.375 \r\nQ 6.59375 54.828125 13.0625 64.515625 \r\nQ 19.53125 74.21875 31.78125 74.21875 \r\nz\r\n\" id=\"DejaVuSans-48\"/>\r\n      </defs>\r\n      <g transform=\"translate(47.212784 297.397656)scale(0.1 -0.1)\">\r\n       <use xlink:href=\"#DejaVuSans-48\"/>\r\n      </g>\r\n     </g>\r\n    </g>\r\n    <g id=\"xtick_2\">\r\n     <g id=\"line2d_3\">\r\n      <path clip-path=\"url(#pb2e7454186)\" d=\"M 131.55767 282.799219 \r\nL 131.55767 10.999219 \r\n\" style=\"fill:none;stroke:#b0b0b0;stroke-linecap:square;stroke-width:0.8;\"/>\r\n     </g>\r\n     <g id=\"line2d_4\">\r\n      <g>\r\n       <use style=\"stroke:#000000;stroke-width:0.8;\" x=\"131.55767\" xlink:href=\"#m8e7ece84ad\" y=\"282.799219\"/>\r\n      </g>\r\n     </g>\r\n     <g id=\"text_2\">\r\n      <!-- 1 -->\r\n      <defs>\r\n       <path d=\"M 12.40625 8.296875 \r\nL 28.515625 8.296875 \r\nL 28.515625 63.921875 \r\nL 10.984375 60.40625 \r\nL 10.984375 69.390625 \r\nL 28.421875 72.90625 \r\nL 38.28125 72.90625 \r\nL 38.28125 8.296875 \r\nL 54.390625 8.296875 \r\nL 54.390625 0 \r\nL 12.40625 0 \r\nz\r\n\" id=\"DejaVuSans-49\"/>\r\n      </defs>\r\n      <g transform=\"translate(128.37642 297.397656)scale(0.1 -0.1)\">\r\n       <use xlink:href=\"#DejaVuSans-49\"/>\r\n      </g>\r\n     </g>\r\n    </g>\r\n    <g id=\"xtick_3\">\r\n     <g id=\"line2d_5\">\r\n      <path clip-path=\"url(#pb2e7454186)\" d=\"M 212.721307 282.799219 \r\nL 212.721307 10.999219 \r\n\" style=\"fill:none;stroke:#b0b0b0;stroke-linecap:square;stroke-width:0.8;\"/>\r\n     </g>\r\n     <g id=\"line2d_6\">\r\n      <g>\r\n       <use style=\"stroke:#000000;stroke-width:0.8;\" x=\"212.721307\" xlink:href=\"#m8e7ece84ad\" y=\"282.799219\"/>\r\n      </g>\r\n     </g>\r\n     <g id=\"text_3\">\r\n      <!-- 2 -->\r\n      <defs>\r\n       <path d=\"M 19.1875 8.296875 \r\nL 53.609375 8.296875 \r\nL 53.609375 0 \r\nL 7.328125 0 \r\nL 7.328125 8.296875 \r\nQ 12.9375 14.109375 22.625 23.890625 \r\nQ 32.328125 33.6875 34.8125 36.53125 \r\nQ 39.546875 41.84375 41.421875 45.53125 \r\nQ 43.3125 49.21875 43.3125 52.78125 \r\nQ 43.3125 58.59375 39.234375 62.25 \r\nQ 35.15625 65.921875 28.609375 65.921875 \r\nQ 23.96875 65.921875 18.8125 64.3125 \r\nQ 13.671875 62.703125 7.8125 59.421875 \r\nL 7.8125 69.390625 \r\nQ 13.765625 71.78125 18.9375 73 \r\nQ 24.125 74.21875 28.421875 74.21875 \r\nQ 39.75 74.21875 46.484375 68.546875 \r\nQ 53.21875 62.890625 53.21875 53.421875 \r\nQ 53.21875 48.921875 51.53125 44.890625 \r\nQ 49.859375 40.875 45.40625 35.40625 \r\nQ 44.1875 33.984375 37.640625 27.21875 \r\nQ 31.109375 20.453125 19.1875 8.296875 \r\nz\r\n\" id=\"DejaVuSans-50\"/>\r\n      </defs>\r\n      <g transform=\"translate(209.540057 297.397656)scale(0.1 -0.1)\">\r\n       <use xlink:href=\"#DejaVuSans-50\"/>\r\n      </g>\r\n     </g>\r\n    </g>\r\n    <g id=\"xtick_4\">\r\n     <g id=\"line2d_7\">\r\n      <path clip-path=\"url(#pb2e7454186)\" d=\"M 293.884943 282.799219 \r\nL 293.884943 10.999219 \r\n\" style=\"fill:none;stroke:#b0b0b0;stroke-linecap:square;stroke-width:0.8;\"/>\r\n     </g>\r\n     <g id=\"line2d_8\">\r\n      <g>\r\n       <use style=\"stroke:#000000;stroke-width:0.8;\" x=\"293.884943\" xlink:href=\"#m8e7ece84ad\" y=\"282.799219\"/>\r\n      </g>\r\n     </g>\r\n     <g id=\"text_4\">\r\n      <!-- 3 -->\r\n      <defs>\r\n       <path d=\"M 40.578125 39.3125 \r\nQ 47.65625 37.796875 51.625 33 \r\nQ 55.609375 28.21875 55.609375 21.1875 \r\nQ 55.609375 10.40625 48.1875 4.484375 \r\nQ 40.765625 -1.421875 27.09375 -1.421875 \r\nQ 22.515625 -1.421875 17.65625 -0.515625 \r\nQ 12.796875 0.390625 7.625 2.203125 \r\nL 7.625 11.71875 \r\nQ 11.71875 9.328125 16.59375 8.109375 \r\nQ 21.484375 6.890625 26.8125 6.890625 \r\nQ 36.078125 6.890625 40.9375 10.546875 \r\nQ 45.796875 14.203125 45.796875 21.1875 \r\nQ 45.796875 27.640625 41.28125 31.265625 \r\nQ 36.765625 34.90625 28.71875 34.90625 \r\nL 20.21875 34.90625 \r\nL 20.21875 43.015625 \r\nL 29.109375 43.015625 \r\nQ 36.375 43.015625 40.234375 45.921875 \r\nQ 44.09375 48.828125 44.09375 54.296875 \r\nQ 44.09375 59.90625 40.109375 62.90625 \r\nQ 36.140625 65.921875 28.71875 65.921875 \r\nQ 24.65625 65.921875 20.015625 65.03125 \r\nQ 15.375 64.15625 9.8125 62.3125 \r\nL 9.8125 71.09375 \r\nQ 15.4375 72.65625 20.34375 73.4375 \r\nQ 25.25 74.21875 29.59375 74.21875 \r\nQ 40.828125 74.21875 47.359375 69.109375 \r\nQ 53.90625 64.015625 53.90625 55.328125 \r\nQ 53.90625 49.265625 50.4375 45.09375 \r\nQ 46.96875 40.921875 40.578125 39.3125 \r\nz\r\n\" id=\"DejaVuSans-51\"/>\r\n      </defs>\r\n      <g transform=\"translate(290.703693 297.397656)scale(0.1 -0.1)\">\r\n       <use xlink:href=\"#DejaVuSans-51\"/>\r\n      </g>\r\n     </g>\r\n    </g>\r\n    <g id=\"xtick_5\">\r\n     <g id=\"line2d_9\">\r\n      <path clip-path=\"url(#pb2e7454186)\" d=\"M 375.04858 282.799219 \r\nL 375.04858 10.999219 \r\n\" style=\"fill:none;stroke:#b0b0b0;stroke-linecap:square;stroke-width:0.8;\"/>\r\n     </g>\r\n     <g id=\"line2d_10\">\r\n      <g>\r\n       <use style=\"stroke:#000000;stroke-width:0.8;\" x=\"375.04858\" xlink:href=\"#m8e7ece84ad\" y=\"282.799219\"/>\r\n      </g>\r\n     </g>\r\n     <g id=\"text_5\">\r\n      <!-- 4 -->\r\n      <defs>\r\n       <path d=\"M 37.796875 64.3125 \r\nL 12.890625 25.390625 \r\nL 37.796875 25.390625 \r\nz\r\nM 35.203125 72.90625 \r\nL 47.609375 72.90625 \r\nL 47.609375 25.390625 \r\nL 58.015625 25.390625 \r\nL 58.015625 17.1875 \r\nL 47.609375 17.1875 \r\nL 47.609375 0 \r\nL 37.796875 0 \r\nL 37.796875 17.1875 \r\nL 4.890625 17.1875 \r\nL 4.890625 26.703125 \r\nz\r\n\" id=\"DejaVuSans-52\"/>\r\n      </defs>\r\n      <g transform=\"translate(371.86733 297.397656)scale(0.1 -0.1)\">\r\n       <use xlink:href=\"#DejaVuSans-52\"/>\r\n      </g>\r\n     </g>\r\n    </g>\r\n    <g id=\"xtick_6\">\r\n     <g id=\"line2d_11\">\r\n      <path clip-path=\"url(#pb2e7454186)\" d=\"M 456.212216 282.799219 \r\nL 456.212216 10.999219 \r\n\" style=\"fill:none;stroke:#b0b0b0;stroke-linecap:square;stroke-width:0.8;\"/>\r\n     </g>\r\n     <g id=\"line2d_12\">\r\n      <g>\r\n       <use style=\"stroke:#000000;stroke-width:0.8;\" x=\"456.212216\" xlink:href=\"#m8e7ece84ad\" y=\"282.799219\"/>\r\n      </g>\r\n     </g>\r\n     <g id=\"text_6\">\r\n      <!-- 5 -->\r\n      <defs>\r\n       <path d=\"M 10.796875 72.90625 \r\nL 49.515625 72.90625 \r\nL 49.515625 64.59375 \r\nL 19.828125 64.59375 \r\nL 19.828125 46.734375 \r\nQ 21.96875 47.46875 24.109375 47.828125 \r\nQ 26.265625 48.1875 28.421875 48.1875 \r\nQ 40.625 48.1875 47.75 41.5 \r\nQ 54.890625 34.8125 54.890625 23.390625 \r\nQ 54.890625 11.625 47.5625 5.09375 \r\nQ 40.234375 -1.421875 26.90625 -1.421875 \r\nQ 22.3125 -1.421875 17.546875 -0.640625 \r\nQ 12.796875 0.140625 7.71875 1.703125 \r\nL 7.71875 11.625 \r\nQ 12.109375 9.234375 16.796875 8.0625 \r\nQ 21.484375 6.890625 26.703125 6.890625 \r\nQ 35.15625 6.890625 40.078125 11.328125 \r\nQ 45.015625 15.765625 45.015625 23.390625 \r\nQ 45.015625 31 40.078125 35.4375 \r\nQ 35.15625 39.890625 26.703125 39.890625 \r\nQ 22.75 39.890625 18.8125 39.015625 \r\nQ 14.890625 38.140625 10.796875 36.28125 \r\nz\r\n\" id=\"DejaVuSans-53\"/>\r\n      </defs>\r\n      <g transform=\"translate(453.030966 297.397656)scale(0.1 -0.1)\">\r\n       <use xlink:href=\"#DejaVuSans-53\"/>\r\n      </g>\r\n     </g>\r\n    </g>\r\n   </g>\r\n   <g id=\"matplotlib.axis_2\">\r\n    <g id=\"ytick_1\">\r\n     <g id=\"line2d_13\">\r\n      <path clip-path=\"url(#pb2e7454186)\" d=\"M 30.103125 282.799219 \r\nL 476.503125 282.799219 \r\n\" style=\"fill:none;stroke:#b0b0b0;stroke-linecap:square;stroke-width:0.8;\"/>\r\n     </g>\r\n     <g id=\"line2d_14\">\r\n      <defs>\r\n       <path d=\"M 0 0 \r\nL -3.5 0 \r\n\" id=\"mcd3d6f9707\" style=\"stroke:#000000;stroke-width:0.8;\"/>\r\n      </defs>\r\n      <g>\r\n       <use style=\"stroke:#000000;stroke-width:0.8;\" x=\"30.103125\" xlink:href=\"#mcd3d6f9707\" y=\"282.799219\"/>\r\n      </g>\r\n     </g>\r\n     <g id=\"text_7\">\r\n      <!-- 0.0 -->\r\n      <defs>\r\n       <path d=\"M 10.6875 12.40625 \r\nL 21 12.40625 \r\nL 21 0 \r\nL 10.6875 0 \r\nz\r\n\" id=\"DejaVuSans-46\"/>\r\n      </defs>\r\n      <g transform=\"translate(7.2 286.598437)scale(0.1 -0.1)\">\r\n       <use xlink:href=\"#DejaVuSans-48\"/>\r\n       <use x=\"63.623047\" xlink:href=\"#DejaVuSans-46\"/>\r\n       <use x=\"95.410156\" xlink:href=\"#DejaVuSans-48\"/>\r\n      </g>\r\n     </g>\r\n    </g>\r\n    <g id=\"ytick_2\">\r\n     <g id=\"line2d_15\">\r\n      <path clip-path=\"url(#pb2e7454186)\" d=\"M 30.103125 237.499219 \r\nL 476.503125 237.499219 \r\n\" style=\"fill:none;stroke:#b0b0b0;stroke-linecap:square;stroke-width:0.8;\"/>\r\n     </g>\r\n     <g id=\"line2d_16\">\r\n      <g>\r\n       <use style=\"stroke:#000000;stroke-width:0.8;\" x=\"30.103125\" xlink:href=\"#mcd3d6f9707\" y=\"237.499219\"/>\r\n      </g>\r\n     </g>\r\n     <g id=\"text_8\">\r\n      <!-- 0.5 -->\r\n      <g transform=\"translate(7.2 241.298437)scale(0.1 -0.1)\">\r\n       <use xlink:href=\"#DejaVuSans-48\"/>\r\n       <use x=\"63.623047\" xlink:href=\"#DejaVuSans-46\"/>\r\n       <use x=\"95.410156\" xlink:href=\"#DejaVuSans-53\"/>\r\n      </g>\r\n     </g>\r\n    </g>\r\n    <g id=\"ytick_3\">\r\n     <g id=\"line2d_17\">\r\n      <path clip-path=\"url(#pb2e7454186)\" d=\"M 30.103125 192.199219 \r\nL 476.503125 192.199219 \r\n\" style=\"fill:none;stroke:#b0b0b0;stroke-linecap:square;stroke-width:0.8;\"/>\r\n     </g>\r\n     <g id=\"line2d_18\">\r\n      <g>\r\n       <use style=\"stroke:#000000;stroke-width:0.8;\" x=\"30.103125\" xlink:href=\"#mcd3d6f9707\" y=\"192.199219\"/>\r\n      </g>\r\n     </g>\r\n     <g id=\"text_9\">\r\n      <!-- 1.0 -->\r\n      <g transform=\"translate(7.2 195.998437)scale(0.1 -0.1)\">\r\n       <use xlink:href=\"#DejaVuSans-49\"/>\r\n       <use x=\"63.623047\" xlink:href=\"#DejaVuSans-46\"/>\r\n       <use x=\"95.410156\" xlink:href=\"#DejaVuSans-48\"/>\r\n      </g>\r\n     </g>\r\n    </g>\r\n    <g id=\"ytick_4\">\r\n     <g id=\"line2d_19\">\r\n      <path clip-path=\"url(#pb2e7454186)\" d=\"M 30.103125 146.899219 \r\nL 476.503125 146.899219 \r\n\" style=\"fill:none;stroke:#b0b0b0;stroke-linecap:square;stroke-width:0.8;\"/>\r\n     </g>\r\n     <g id=\"line2d_20\">\r\n      <g>\r\n       <use style=\"stroke:#000000;stroke-width:0.8;\" x=\"30.103125\" xlink:href=\"#mcd3d6f9707\" y=\"146.899219\"/>\r\n      </g>\r\n     </g>\r\n     <g id=\"text_10\">\r\n      <!-- 1.5 -->\r\n      <g transform=\"translate(7.2 150.698437)scale(0.1 -0.1)\">\r\n       <use xlink:href=\"#DejaVuSans-49\"/>\r\n       <use x=\"63.623047\" xlink:href=\"#DejaVuSans-46\"/>\r\n       <use x=\"95.410156\" xlink:href=\"#DejaVuSans-53\"/>\r\n      </g>\r\n     </g>\r\n    </g>\r\n    <g id=\"ytick_5\">\r\n     <g id=\"line2d_21\">\r\n      <path clip-path=\"url(#pb2e7454186)\" d=\"M 30.103125 101.599219 \r\nL 476.503125 101.599219 \r\n\" style=\"fill:none;stroke:#b0b0b0;stroke-linecap:square;stroke-width:0.8;\"/>\r\n     </g>\r\n     <g id=\"line2d_22\">\r\n      <g>\r\n       <use style=\"stroke:#000000;stroke-width:0.8;\" x=\"30.103125\" xlink:href=\"#mcd3d6f9707\" y=\"101.599219\"/>\r\n      </g>\r\n     </g>\r\n     <g id=\"text_11\">\r\n      <!-- 2.0 -->\r\n      <g transform=\"translate(7.2 105.398437)scale(0.1 -0.1)\">\r\n       <use xlink:href=\"#DejaVuSans-50\"/>\r\n       <use x=\"63.623047\" xlink:href=\"#DejaVuSans-46\"/>\r\n       <use x=\"95.410156\" xlink:href=\"#DejaVuSans-48\"/>\r\n      </g>\r\n     </g>\r\n    </g>\r\n    <g id=\"ytick_6\">\r\n     <g id=\"line2d_23\">\r\n      <path clip-path=\"url(#pb2e7454186)\" d=\"M 30.103125 56.299219 \r\nL 476.503125 56.299219 \r\n\" style=\"fill:none;stroke:#b0b0b0;stroke-linecap:square;stroke-width:0.8;\"/>\r\n     </g>\r\n     <g id=\"line2d_24\">\r\n      <g>\r\n       <use style=\"stroke:#000000;stroke-width:0.8;\" x=\"30.103125\" xlink:href=\"#mcd3d6f9707\" y=\"56.299219\"/>\r\n      </g>\r\n     </g>\r\n     <g id=\"text_12\">\r\n      <!-- 2.5 -->\r\n      <g transform=\"translate(7.2 60.098437)scale(0.1 -0.1)\">\r\n       <use xlink:href=\"#DejaVuSans-50\"/>\r\n       <use x=\"63.623047\" xlink:href=\"#DejaVuSans-46\"/>\r\n       <use x=\"95.410156\" xlink:href=\"#DejaVuSans-53\"/>\r\n      </g>\r\n     </g>\r\n    </g>\r\n    <g id=\"ytick_7\">\r\n     <g id=\"line2d_25\">\r\n      <path clip-path=\"url(#pb2e7454186)\" d=\"M 30.103125 10.999219 \r\nL 476.503125 10.999219 \r\n\" style=\"fill:none;stroke:#b0b0b0;stroke-linecap:square;stroke-width:0.8;\"/>\r\n     </g>\r\n     <g id=\"line2d_26\">\r\n      <g>\r\n       <use style=\"stroke:#000000;stroke-width:0.8;\" x=\"30.103125\" xlink:href=\"#mcd3d6f9707\" y=\"10.999219\"/>\r\n      </g>\r\n     </g>\r\n     <g id=\"text_13\">\r\n      <!-- 3.0 -->\r\n      <g transform=\"translate(7.2 14.798437)scale(0.1 -0.1)\">\r\n       <use xlink:href=\"#DejaVuSans-51\"/>\r\n       <use x=\"63.623047\" xlink:href=\"#DejaVuSans-46\"/>\r\n       <use x=\"95.410156\" xlink:href=\"#DejaVuSans-48\"/>\r\n      </g>\r\n     </g>\r\n    </g>\r\n   </g>\r\n   <g id=\"line2d_27\">\r\n    <path clip-path=\"url(#pb2e7454186)\" d=\"M 50.394034 74.178634 \r\nL 131.55767 74.181787 \r\nL 212.721307 74.182888 \r\nL 293.884943 74.185868 \r\nL 375.04858 74.189521 \r\nL 456.212216 74.199164 \r\n\" style=\"fill:none;stroke:#1f77b4;stroke-linecap:square;stroke-width:1.5;\"/>\r\n   </g>\r\n   <g id=\"line2d_28\">\r\n    <path clip-path=\"url(#pb2e7454186)\" d=\"M 50.394034 273.767223 \r\nL 131.55767 273.716157 \r\nL 212.721307 273.622262 \r\nL 293.884943 273.686506 \r\nL 375.04858 273.559666 \r\nL 456.212216 273.432826 \r\n\" style=\"fill:none;stroke:#ff7f0e;stroke-linecap:square;stroke-width:1.5;\"/>\r\n   </g>\r\n   <g id=\"line2d_29\">\r\n    <path clip-path=\"url(#pb2e7454186)\" d=\"M 50.394034 74.160857 \r\nL 131.55767 74.152574 \r\nL 212.721307 74.172848 \r\nL 293.884943 74.175905 \r\nL 375.04858 74.162689 \r\nL 456.212216 74.165019 \r\n\" style=\"fill:none;stroke:#2ca02c;stroke-linecap:square;stroke-width:1.5;\"/>\r\n   </g>\r\n   <g id=\"line2d_30\">\r\n    <path clip-path=\"url(#pb2e7454186)\" d=\"M 50.394034 273.666739 \r\nL 131.55767 273.920419 \r\nL 212.721307 273.920419 \r\nL 293.884943 273.721099 \r\nL 375.04858 273.866059 \r\nL 456.212216 274.518379 \r\n\" style=\"fill:none;stroke:#d62728;stroke-linecap:square;stroke-width:1.5;\"/>\r\n   </g>\r\n   <g id=\"patch_3\">\r\n    <path d=\"M 30.103125 282.799219 \r\nL 30.103125 10.999219 \r\n\" style=\"fill:none;stroke:#000000;stroke-linecap:square;stroke-linejoin:miter;stroke-width:0.8;\"/>\r\n   </g>\r\n   <g id=\"patch_4\">\r\n    <path d=\"M 476.503125 282.799219 \r\nL 476.503125 10.999219 \r\n\" style=\"fill:none;stroke:#000000;stroke-linecap:square;stroke-linejoin:miter;stroke-width:0.8;\"/>\r\n   </g>\r\n   <g id=\"patch_5\">\r\n    <path d=\"M 30.103125 282.799219 \r\nL 476.503125 282.799219 \r\n\" style=\"fill:none;stroke:#000000;stroke-linecap:square;stroke-linejoin:miter;stroke-width:0.8;\"/>\r\n   </g>\r\n   <g id=\"patch_6\">\r\n    <path d=\"M 30.103125 10.999219 \r\nL 476.503125 10.999219 \r\n\" style=\"fill:none;stroke:#000000;stroke-linecap:square;stroke-linejoin:miter;stroke-width:0.8;\"/>\r\n   </g>\r\n   <g id=\"legend_1\">\r\n    <g id=\"patch_7\">\r\n     <path d=\"M 372.559375 178.033594 \r\nL 469.503125 178.033594 \r\nQ 471.503125 178.033594 471.503125 176.033594 \r\nL 471.503125 117.764844 \r\nQ 471.503125 115.764844 469.503125 115.764844 \r\nL 372.559375 115.764844 \r\nQ 370.559375 115.764844 370.559375 117.764844 \r\nL 370.559375 176.033594 \r\nQ 370.559375 178.033594 372.559375 178.033594 \r\nz\r\n\" style=\"fill:#ffffff;opacity:0.8;stroke:#cccccc;stroke-linejoin:miter;\"/>\r\n    </g>\r\n    <g id=\"line2d_31\">\r\n     <path d=\"M 374.559375 123.863281 \r\nL 394.559375 123.863281 \r\n\" style=\"fill:none;stroke:#1f77b4;stroke-linecap:square;stroke-width:1.5;\"/>\r\n    </g>\r\n    <g id=\"line2d_32\"/>\r\n    <g id=\"text_14\">\r\n     <!-- loss -->\r\n     <defs>\r\n      <path d=\"M 9.421875 75.984375 \r\nL 18.40625 75.984375 \r\nL 18.40625 0 \r\nL 9.421875 0 \r\nz\r\n\" id=\"DejaVuSans-108\"/>\r\n      <path d=\"M 30.609375 48.390625 \r\nQ 23.390625 48.390625 19.1875 42.75 \r\nQ 14.984375 37.109375 14.984375 27.296875 \r\nQ 14.984375 17.484375 19.15625 11.84375 \r\nQ 23.34375 6.203125 30.609375 6.203125 \r\nQ 37.796875 6.203125 41.984375 11.859375 \r\nQ 46.1875 17.53125 46.1875 27.296875 \r\nQ 46.1875 37.015625 41.984375 42.703125 \r\nQ 37.796875 48.390625 30.609375 48.390625 \r\nz\r\nM 30.609375 56 \r\nQ 42.328125 56 49.015625 48.375 \r\nQ 55.71875 40.765625 55.71875 27.296875 \r\nQ 55.71875 13.875 49.015625 6.21875 \r\nQ 42.328125 -1.421875 30.609375 -1.421875 \r\nQ 18.84375 -1.421875 12.171875 6.21875 \r\nQ 5.515625 13.875 5.515625 27.296875 \r\nQ 5.515625 40.765625 12.171875 48.375 \r\nQ 18.84375 56 30.609375 56 \r\nz\r\n\" id=\"DejaVuSans-111\"/>\r\n      <path d=\"M 44.28125 53.078125 \r\nL 44.28125 44.578125 \r\nQ 40.484375 46.53125 36.375 47.5 \r\nQ 32.28125 48.484375 27.875 48.484375 \r\nQ 21.1875 48.484375 17.84375 46.4375 \r\nQ 14.5 44.390625 14.5 40.28125 \r\nQ 14.5 37.15625 16.890625 35.375 \r\nQ 19.28125 33.59375 26.515625 31.984375 \r\nL 29.59375 31.296875 \r\nQ 39.15625 29.25 43.1875 25.515625 \r\nQ 47.21875 21.78125 47.21875 15.09375 \r\nQ 47.21875 7.46875 41.1875 3.015625 \r\nQ 35.15625 -1.421875 24.609375 -1.421875 \r\nQ 20.21875 -1.421875 15.453125 -0.5625 \r\nQ 10.6875 0.296875 5.421875 2 \r\nL 5.421875 11.28125 \r\nQ 10.40625 8.6875 15.234375 7.390625 \r\nQ 20.0625 6.109375 24.8125 6.109375 \r\nQ 31.15625 6.109375 34.5625 8.28125 \r\nQ 37.984375 10.453125 37.984375 14.40625 \r\nQ 37.984375 18.0625 35.515625 20.015625 \r\nQ 33.0625 21.96875 24.703125 23.78125 \r\nL 21.578125 24.515625 \r\nQ 13.234375 26.265625 9.515625 29.90625 \r\nQ 5.8125 33.546875 5.8125 39.890625 \r\nQ 5.8125 47.609375 11.28125 51.796875 \r\nQ 16.75 56 26.8125 56 \r\nQ 31.78125 56 36.171875 55.265625 \r\nQ 40.578125 54.546875 44.28125 53.078125 \r\nz\r\n\" id=\"DejaVuSans-115\"/>\r\n     </defs>\r\n     <g transform=\"translate(402.559375 127.363281)scale(0.1 -0.1)\">\r\n      <use xlink:href=\"#DejaVuSans-108\"/>\r\n      <use x=\"27.783203\" xlink:href=\"#DejaVuSans-111\"/>\r\n      <use x=\"88.964844\" xlink:href=\"#DejaVuSans-115\"/>\r\n      <use x=\"141.064453\" xlink:href=\"#DejaVuSans-115\"/>\r\n     </g>\r\n    </g>\r\n    <g id=\"line2d_33\">\r\n     <path d=\"M 374.559375 138.541406 \r\nL 394.559375 138.541406 \r\n\" style=\"fill:none;stroke:#ff7f0e;stroke-linecap:square;stroke-width:1.5;\"/>\r\n    </g>\r\n    <g id=\"line2d_34\"/>\r\n    <g id=\"text_15\">\r\n     <!-- accuracy -->\r\n     <defs>\r\n      <path d=\"M 34.28125 27.484375 \r\nQ 23.390625 27.484375 19.1875 25 \r\nQ 14.984375 22.515625 14.984375 16.5 \r\nQ 14.984375 11.71875 18.140625 8.90625 \r\nQ 21.296875 6.109375 26.703125 6.109375 \r\nQ 34.1875 6.109375 38.703125 11.40625 \r\nQ 43.21875 16.703125 43.21875 25.484375 \r\nL 43.21875 27.484375 \r\nz\r\nM 52.203125 31.203125 \r\nL 52.203125 0 \r\nL 43.21875 0 \r\nL 43.21875 8.296875 \r\nQ 40.140625 3.328125 35.546875 0.953125 \r\nQ 30.953125 -1.421875 24.3125 -1.421875 \r\nQ 15.921875 -1.421875 10.953125 3.296875 \r\nQ 6 8.015625 6 15.921875 \r\nQ 6 25.140625 12.171875 29.828125 \r\nQ 18.359375 34.515625 30.609375 34.515625 \r\nL 43.21875 34.515625 \r\nL 43.21875 35.40625 \r\nQ 43.21875 41.609375 39.140625 45 \r\nQ 35.0625 48.390625 27.6875 48.390625 \r\nQ 23 48.390625 18.546875 47.265625 \r\nQ 14.109375 46.140625 10.015625 43.890625 \r\nL 10.015625 52.203125 \r\nQ 14.9375 54.109375 19.578125 55.046875 \r\nQ 24.21875 56 28.609375 56 \r\nQ 40.484375 56 46.34375 49.84375 \r\nQ 52.203125 43.703125 52.203125 31.203125 \r\nz\r\n\" id=\"DejaVuSans-97\"/>\r\n      <path d=\"M 48.78125 52.59375 \r\nL 48.78125 44.1875 \r\nQ 44.96875 46.296875 41.140625 47.34375 \r\nQ 37.3125 48.390625 33.40625 48.390625 \r\nQ 24.65625 48.390625 19.8125 42.84375 \r\nQ 14.984375 37.3125 14.984375 27.296875 \r\nQ 14.984375 17.28125 19.8125 11.734375 \r\nQ 24.65625 6.203125 33.40625 6.203125 \r\nQ 37.3125 6.203125 41.140625 7.25 \r\nQ 44.96875 8.296875 48.78125 10.40625 \r\nL 48.78125 2.09375 \r\nQ 45.015625 0.34375 40.984375 -0.53125 \r\nQ 36.96875 -1.421875 32.421875 -1.421875 \r\nQ 20.0625 -1.421875 12.78125 6.34375 \r\nQ 5.515625 14.109375 5.515625 27.296875 \r\nQ 5.515625 40.671875 12.859375 48.328125 \r\nQ 20.21875 56 33.015625 56 \r\nQ 37.15625 56 41.109375 55.140625 \r\nQ 45.0625 54.296875 48.78125 52.59375 \r\nz\r\n\" id=\"DejaVuSans-99\"/>\r\n      <path d=\"M 8.5 21.578125 \r\nL 8.5 54.6875 \r\nL 17.484375 54.6875 \r\nL 17.484375 21.921875 \r\nQ 17.484375 14.15625 20.5 10.265625 \r\nQ 23.53125 6.390625 29.59375 6.390625 \r\nQ 36.859375 6.390625 41.078125 11.03125 \r\nQ 45.3125 15.671875 45.3125 23.6875 \r\nL 45.3125 54.6875 \r\nL 54.296875 54.6875 \r\nL 54.296875 0 \r\nL 45.3125 0 \r\nL 45.3125 8.40625 \r\nQ 42.046875 3.421875 37.71875 1 \r\nQ 33.40625 -1.421875 27.6875 -1.421875 \r\nQ 18.265625 -1.421875 13.375 4.4375 \r\nQ 8.5 10.296875 8.5 21.578125 \r\nz\r\nM 31.109375 56 \r\nz\r\n\" id=\"DejaVuSans-117\"/>\r\n      <path d=\"M 41.109375 46.296875 \r\nQ 39.59375 47.171875 37.8125 47.578125 \r\nQ 36.03125 48 33.890625 48 \r\nQ 26.265625 48 22.1875 43.046875 \r\nQ 18.109375 38.09375 18.109375 28.8125 \r\nL 18.109375 0 \r\nL 9.078125 0 \r\nL 9.078125 54.6875 \r\nL 18.109375 54.6875 \r\nL 18.109375 46.1875 \r\nQ 20.953125 51.171875 25.484375 53.578125 \r\nQ 30.03125 56 36.53125 56 \r\nQ 37.453125 56 38.578125 55.875 \r\nQ 39.703125 55.765625 41.0625 55.515625 \r\nz\r\n\" id=\"DejaVuSans-114\"/>\r\n      <path d=\"M 32.171875 -5.078125 \r\nQ 28.375 -14.84375 24.75 -17.8125 \r\nQ 21.140625 -20.796875 15.09375 -20.796875 \r\nL 7.90625 -20.796875 \r\nL 7.90625 -13.28125 \r\nL 13.1875 -13.28125 \r\nQ 16.890625 -13.28125 18.9375 -11.515625 \r\nQ 21 -9.765625 23.484375 -3.21875 \r\nL 25.09375 0.875 \r\nL 2.984375 54.6875 \r\nL 12.5 54.6875 \r\nL 29.59375 11.921875 \r\nL 46.6875 54.6875 \r\nL 56.203125 54.6875 \r\nz\r\n\" id=\"DejaVuSans-121\"/>\r\n     </defs>\r\n     <g transform=\"translate(402.559375 142.041406)scale(0.1 -0.1)\">\r\n      <use xlink:href=\"#DejaVuSans-97\"/>\r\n      <use x=\"61.279297\" xlink:href=\"#DejaVuSans-99\"/>\r\n      <use x=\"116.259766\" xlink:href=\"#DejaVuSans-99\"/>\r\n      <use x=\"171.240234\" xlink:href=\"#DejaVuSans-117\"/>\r\n      <use x=\"234.619141\" xlink:href=\"#DejaVuSans-114\"/>\r\n      <use x=\"275.732422\" xlink:href=\"#DejaVuSans-97\"/>\r\n      <use x=\"337.011719\" xlink:href=\"#DejaVuSans-99\"/>\r\n      <use x=\"391.992188\" xlink:href=\"#DejaVuSans-121\"/>\r\n     </g>\r\n    </g>\r\n    <g id=\"line2d_35\">\r\n     <path d=\"M 374.559375 153.219531 \r\nL 394.559375 153.219531 \r\n\" style=\"fill:none;stroke:#2ca02c;stroke-linecap:square;stroke-width:1.5;\"/>\r\n    </g>\r\n    <g id=\"line2d_36\"/>\r\n    <g id=\"text_16\">\r\n     <!-- val_loss -->\r\n     <defs>\r\n      <path d=\"M 2.984375 54.6875 \r\nL 12.5 54.6875 \r\nL 29.59375 8.796875 \r\nL 46.6875 54.6875 \r\nL 56.203125 54.6875 \r\nL 35.6875 0 \r\nL 23.484375 0 \r\nz\r\n\" id=\"DejaVuSans-118\"/>\r\n      <path d=\"M 50.984375 -16.609375 \r\nL 50.984375 -23.578125 \r\nL -0.984375 -23.578125 \r\nL -0.984375 -16.609375 \r\nz\r\n\" id=\"DejaVuSans-95\"/>\r\n     </defs>\r\n     <g transform=\"translate(402.559375 156.719531)scale(0.1 -0.1)\">\r\n      <use xlink:href=\"#DejaVuSans-118\"/>\r\n      <use x=\"59.179688\" xlink:href=\"#DejaVuSans-97\"/>\r\n      <use x=\"120.458984\" xlink:href=\"#DejaVuSans-108\"/>\r\n      <use x=\"148.242188\" xlink:href=\"#DejaVuSans-95\"/>\r\n      <use x=\"198.242188\" xlink:href=\"#DejaVuSans-108\"/>\r\n      <use x=\"226.025391\" xlink:href=\"#DejaVuSans-111\"/>\r\n      <use x=\"287.207031\" xlink:href=\"#DejaVuSans-115\"/>\r\n      <use x=\"339.306641\" xlink:href=\"#DejaVuSans-115\"/>\r\n     </g>\r\n    </g>\r\n    <g id=\"line2d_37\">\r\n     <path d=\"M 374.559375 168.175781 \r\nL 394.559375 168.175781 \r\n\" style=\"fill:none;stroke:#d62728;stroke-linecap:square;stroke-width:1.5;\"/>\r\n    </g>\r\n    <g id=\"line2d_38\"/>\r\n    <g id=\"text_17\">\r\n     <!-- val_accuracy -->\r\n     <g transform=\"translate(402.559375 171.675781)scale(0.1 -0.1)\">\r\n      <use xlink:href=\"#DejaVuSans-118\"/>\r\n      <use x=\"59.179688\" xlink:href=\"#DejaVuSans-97\"/>\r\n      <use x=\"120.458984\" xlink:href=\"#DejaVuSans-108\"/>\r\n      <use x=\"148.242188\" xlink:href=\"#DejaVuSans-95\"/>\r\n      <use x=\"198.242188\" xlink:href=\"#DejaVuSans-97\"/>\r\n      <use x=\"259.521484\" xlink:href=\"#DejaVuSans-99\"/>\r\n      <use x=\"314.501953\" xlink:href=\"#DejaVuSans-99\"/>\r\n      <use x=\"369.482422\" xlink:href=\"#DejaVuSans-117\"/>\r\n      <use x=\"432.861328\" xlink:href=\"#DejaVuSans-114\"/>\r\n      <use x=\"473.974609\" xlink:href=\"#DejaVuSans-97\"/>\r\n      <use x=\"535.253906\" xlink:href=\"#DejaVuSans-99\"/>\r\n      <use x=\"590.234375\" xlink:href=\"#DejaVuSans-121\"/>\r\n     </g>\r\n    </g>\r\n   </g>\r\n  </g>\r\n </g>\r\n <defs>\r\n  <clipPath id=\"pb2e7454186\">\r\n   <rect height=\"271.8\" width=\"446.4\" x=\"30.103125\" y=\"10.999219\"/>\r\n  </clipPath>\r\n </defs>\r\n</svg>\r\n",
      "text/plain": "<Figure size 576x360 with 1 Axes>"
=======
      "image/png": "iVBORw0KGgoAAAANSUhEUgAAAeMAAAEzCAYAAAACSWsXAAAABHNCSVQICAgIfAhkiAAAAAlwSFlzAAALEgAACxIB0t1+/AAAADh0RVh0U29mdHdhcmUAbWF0cGxvdGxpYiB2ZXJzaW9uMy4yLjAsIGh0dHA6Ly9tYXRwbG90bGliLm9yZy8GearUAAAgAElEQVR4nOzdd3yV5f3/8dd1RvYgg6wTNmEFsggIwUIEBWSTuKo/q1alVtt+1Q6qrataW1frrIrVUqoWB8QBqEgloigqU0ZYMrMhCWSQdZLr98cJh4QkJIEk90nyeT7I45xz39e57k9uAu9c97nv+1Jaa4QQQghhHJPRBQghhBA9nYSxEEIIYTAJYyGEEMJgEsZCCCGEwSSMhRBCCINJGAshhBAGazGMlVIeSqlvlVLblFI7lVIPNdFGKaWeVUrtV0p9r5RK6JhyhRBCiO7H0oo2lcBkrXWpUsoKfKmU+khrvaFem8uBqLqvi4AX6x6FEEII0YIWR8baobTupbXu6+w7hcwFltS13QD0UkqFt2+pQgghRPfUqs+MlVJmpdRWIB/4VGv9zVlNbMDReq8z65YJIYQQogWtOUyN1roGiFNK9QLSlFIjtdY76jVRTb3t7AVKqQXAAgBPT8/Rffr0OY+Sm1ZbW4vJJOejdQbZ151D9nPnkP3cOWQ/O+zdu/e41rr32ctbFcanaa1PKKXSgelA/TDOBOonaySQ3cT7FwGLABITE/XGjRvbsvlzSk9PJzk5ud36E82Tfd05ZD93DtnPnUP2s4NS6nBTy1tzNnXvuhExSilP4FJg91nNPgB+UndW9TjgpNY65wJrFkIIIXqE1oyMw4F/K6XMOML7ba31CqXUbQBa65eAVcAMYD9wCripg+oVQgghup0Ww1hr/T0Q38Tyl+o918Ad7VuaEEII0TO06TNjIYQQrqm6uprMzEwqKiqMLqVJ/v7+ZGRkGF1Gp/Hw8CAyMhKr1dqq9hLGQgjRDWRmZuLr60v//v1RqqkLXIxVUlKCr6+v0WV0Cq01BQUFZGZmMmDAgFa9R84zF0KIbqCiooKgoCCXDOKeRilFUFBQm45SSBgLIUQ3IUHsOtr6dyFhLIQQol34+PgYXUKXJWEshBBCGEzCWAghRLvSWvPb3/6WkSNHMmrUKN566y0AcnJymDhxInFxcYwcOZIvvviCmpoabrzxRmfbv//97wZXbww5m1oIIUS7Wr58OVu3bmXbtm0cP36cMWPGkJCQwAcffMC0adP4wx/+QE1NDadOnWLr1q1kZWWxY4fjDssnTpwwuHpjSBgLIUQ389CHO9mVXdyufY6I8OOB2dGtavvll1/y4x//GLPZTGhoKJMmTWLz5s2MGTOGn/70p1RXVzNv3jzi4uIYOHAgBw4c4Je//CUzZ85k6tSp7Vp3VyGHqYUQQrQrx00ZG5s4cSLr1q3DZrNx/fXXs2TJEgICAti2bRvJycm88MIL3HLLLZ1crWuQkbEQQnQzrR3BdpSJEyfy8ssvc8MNN1BYWMi6det44IEHOHz4MDabjVtvvZWysjI2b97MjBkzcHNzIzU1lUGDBnHjjTcaWrtRJIyFEEK0q/nz5/P1118TGxuLUorHH3+c0NBQli9fzhNPPIHVasXHx4clS5aQlZXFTTfdRG1tLQB/+ctfDK7eGBLGQggh2kVpaSnguOHFE088wRNPPOFcV1JSwg033MANN9zQ6H2bN2/utBpdlXxmLIQQQhhMwlgIIYQwmISxEEIIYTAJYyGEEMJgEsZCCCGEwSSMhRBCCINJGAshhBAGkzAWQgjRZdjtdqNL6BASxkIIIdrFvHnzGD16NNHR0SxatAiAjz/+mISEBJKSkpgyZQrguDnITTfdxKhRo4iJiWHZsmUA+Pj4OPt69913nbfGvPHGG7n77ru55JJLWLhwId9++y1JSUnEx8eTlJTEnj17AKipqeE3v/mNs9/nnnuO//3vf8yfP9/Z76effkpKSkpn7I42kTtwCSGEaBevvfYagYGBlJeXM2bMGObOncutt97KunXrCA4Oprq6GoCHH34Yf39/tm/fDkBRUVGLfe/du5c1a9ZgNpspLi5m3bp1WCwW1qxZw7333suyZctYtGgRBw8eZMuWLVgsFgoLCwkICOCOO+7g2LFj9O7dm3/961/cdNNNHbofzoeEsRBCdDcf/R5yt7dvn2Gj4PK/nrPJs88+S1paGgBHjx5l0aJFTJw4kQEDBlBSUkJgYCAAa9asYenSpc73BQQEtLj5K6+8ErPZDMDJkye54YYb2LdvH0opZ8ivWbOG2267DYvFEW2nt3f99dfz+uuvc9NNN/H111+zZMmSNn7zHU/CWAghxAVLT09nzZo1fP3113h5eZGcnExsbKzzEHJ9WmuUUo2W119WUVHRYJ23t7fz+X333ccll1xCWloahw4dIjk5+Zz93nTTTcyePRsPDw+uvPJKZ1i7EterSAghxIVpYQTbEU6ePElAQABeXl7s3r2bDRs2UFlZyeeff87BgwcJDg6msLCQwMBApk6dyvPPP8/TTz8NOA5TBwQEEBoaSkZGBkOHDiUtLQ1fX99mt2Wz2QBYvHixc/nUqVN56aWXSE5Odh6mDgwMJCIigoiICB555BE+/fTTDt8X50NO4BJCCHHBpk+fjt1uJyYmhvvuu49x48bRu3dvFi1aREpKCklJSVx99dUA/PGPf6SoqIiRI0cSGxvL2rVrAfjrX//KrFmzmDx5MuHh4c1u63e/+x333HMPEyZMoKamxrn8lltuoW/fvsTExBAbG8ubb77pXHfdddfRp08fRowY0UF74MIorbUhG05MTNQbN25st/7S09OdhypEx5J93TlkP3eO7rKfMzIyGD58uNFlNKukpKTZkW5n+MUvfkF8fDw333xzp22zqb8TpdQmrXXi2W3lMLUQQohubfTo0Xh7e/PUU08ZXUqzJIyFEEJ0a5s2bTK6hBbJZ8ZCCCGEwSSMhRBCCINJGAshhBAGkzAWQgghDCZhLIQQQhhMwlgIIUSnqz9D09kOHTrEyJEjO7Ea47UYxkqpPkqptUqpDKXUTqXU/zXRJlkpdVIptbXu6/6OKVcIIYToflozMrYDv9ZaDwfGAXcopZq6n9gXWuu4uq8/tWuVQgghXNrChQv5xz/+4Xz94IMP8tBDDzFlyhQSEhIYN24c77//fpv7raiocM59HB8f77x15s6dOxk7dixxcXHExMSwb98+ysrKmDlzJrGxsYwcOZK33nqr3b6/jtbiTT+01jlATt3zEqVUBmADdnVwbUIIIc7DY98+xu7C3e3a57DAYSwcu7DZ9ddccw133nknt99+OwBvv/02H3/8MXfddRd+fn4cOnSISy+9lDlz5jQ5s1JzXnjhBQC2b9/O7t27mTp1Knv37uWll17i//7v/7juuuuoqqqipqaGVatWERERwcqVKwHHhBJdRZs+M1ZK9QfigW+aWD1eKbVNKfWRUiq6HWoTQgjRRcTHx5Ofn092djbbtm0jICCA8PBw7r33XmJiYpgzZw5ZWVnk5eW1qd8vv/yS66+/HoBhw4bRr18/9u7dy/jx43n00Ud57LHHOHz4MJ6enowaNYo1a9awcOFCvvjiC/z9/TviW+0Qrb4dplLKB1gG3Km1Lj5r9Wagn9a6VCk1A3gPiGqijwXAAoDQ0FDS09PPt+5GSktL27U/0TzZ151D9nPn6C772d/fn5KSEgBuH357h2zjdP/NmT17Nq+//jr5+fnMmzePV199lZycHNLT0zGZTMTGxnL8+HHn3MTN9VdaWkptbS0lJSVUV1dz6tQpZ9uamhrKysqYPXs20dHRfPLJJ0ydOpXnnnuOSZMmkZ6ezurVq/nd737H5MmT+f3vf9++O6ENKioqWv2z1aowVkpZcQTxG1rr5Wevrx/OWutVSql/KKWCtdbHz2q3CFgEjlmb2nOmlO4y80pXIPu6c8h+7hzdZT9nZGQYOisSwA033MCtt97K8ePH+fzzz3n77beJiIggMDCQlStXcuTIEXx8fJx1Nlevj48PJpMJX19fJk+eTFpaGrNmzWLv3r1kZWWRkJBAVlaWc6rE7Oxs9u/fT0JCAqGhodx666307t2bxYsXG7pPPDw8iI+Pb1XbFsNYOQ7uvwpkaK3/1kybMCBPa62VUmNxHP4uaH3JQgghurro6GhKSkqw2WyEh4dz3XXXMXv2bBITE4mOjmbYsGFt7vP222/ntttuY9SoUVgsFhYvXoy7uztvvfUWr7/+OlarlbCwMO6//36+++47fvvb32IymbBarbz44osd8F12jNaMjCcA1wPblVJb65bdC/QF0Fq/BFwB/FwpZQfKgWu0URMlCyGEMMz27dudz4ODg/n666+BxvMZl5aWNttH//792bFjB+AYXS5evLhRm3vuuYd77rmnwbJp06Yxbdq0CynfMK05m/pL4Jynvmmtnweeb6+ihBBCiJ5E5jMWQghhiO3btzvPlD7N3d2db75p6oKd7k3CWAghhCFGjRrF1q1bW27YA8i9qYUQQgiDSRgLIYQQBpMwFkIIIQwmYSyEEEIYTMJYCCFEpzvXfMY9kYSxEEKIHstutxtdAiCXNgkhRLeT++ijVGa07xSK7sOHEXbvvc2uX7hwIf369XNOofjggw+ilGLdunUUFRVRWVnJo48+yty5c1vcVmlpKXPnzqWoqIjq6moeeeQR5/uWLFnCk08+iVKKmJgY/vOf/5CXl8dtt93GgQMHAHjxxReJiIhg1qxZzjt5Pfnkk5SWlvLggw+SnJxMUlIS69evZ86cOQwZMoRHHnmEqqoqgoKCeOONNwgNDaW0tJRf/vKXbNy4EaUUDzzwACdOnGDHjh38/e9/B+CVV14hIyODv/2tybtFt5qEsRBCiAvWnvMZe3h4kJaWhp+fH8ePH2fcuHHMmTOHXbt28ec//5n169cTHBxMYWEhAL/61a+YNGkSaWlp1NTUUFpaSlFR0Tm3ceLECT7//HMAioqK2LBhA0op/vnPf/L444/z1FNP8fDDD+Pv7++8xWdRURFubm7ExMTw+OOPY7Va+de//sXLL798obtPwlgIIbqbc41gO0r9+YyPHTvmnM/4rrvuYt26dQDO+YzDwsLO2ZfWmnvvvZd169ZhMpmc7/vss8+44oorCA4OBiAwMBCAzz77jCVLlgBgNpvx9/dvMYyvvvpq5/PMzEyuvvpqcnJyqKqqYsCAAQCsWbOGpUuXOtsFBAQAMHnyZFasWMHw4cOprq5m1KhRbdlVTZIwFkII0S6uuOIK3n33XXJzc7nmmmt44403OHbsGJs2baKiooJRo0ZRUVHRYj/132e1Wunfvz8VFRVorVscVZ9msViora11vj57u6fnVAb45S9/yd13382cOXNIT0/nwQcfBGh2e7fccguPPvoow4YN46abbmpVPS3W2y69GOyLg7t4ZP9Sns5dYXQp7ajlHzjVxLOW36Oczxosb7aLxitKS0p4Pm91K7fXRq38h+bou+1tHf+wVIPljnWq3j+6ekvrtVf1HptqS11b5xJ11npAKVPDdzVq4+jbpEyElAUw3l6Du8Xc6u9TCCNdc801jeYzDgkJwWq1snr1ag4fPtyqfk6ePOl839q1a53vmzJlCvPnz+euu+4iKCiIwsJCAgMDmTJlCi+++CJ33nknNTU1lJWVERoaSn5+PgUFBfj4+LBixQqmT5/e7PZsNhsA//73v53Lp06dyvPPP8/TTz8NOA5TBwQEcNFFF3H06FE2b97M999/fyG7zKlbhPGhE7nkmragThldSXtpy+yTzbRtMqfaOqtl4/YaDWagQ/Z1B826qU73W79/x3OlXHemT3vJMJY+7MNl0aHMignn4sG9cbPIBRDCdbXXfMb13xcXF+d8X3R0NH/4wx+YNGkSZrOZ+Ph4Fi9ezDPPPMOCBQt49dVXMZvNvPjii4wfP57777+fiy66iAEDBpxz2w8++CBXXnklNpuNcePGcfDgQQD++Mc/cscddzBy5EjMZjMPPPAAKSkpAFx11VVs3brVeej6Qimjph1OTEzUGzdubLf+0tPTSU5Obrf+RPO6477WWqPRZx7ROP6ctbzu34uuC/P67Z3r6i07fZjM8Vyf1Z9Dra49qx/47+43WbrnTSZ6PM3nGdWUVNjx87AwLTqMmTHhTBgcjNUswdweusvPc0ZGBsOHDze6jGadPZ9xVzdr1izuuusupkyZ0mybpv5OlFKbtNaJZ7ftFiNjIS6UUvUPGxvv+ujr+O+eNxg5bC9/S13Al/uPsWJbDh/vyOWdTZn08rIyPTqMWTERjBsYiEWCWYhOceLECcaOHUtsbOw5g7itJIyFcEF9fPswxGMIafvSWBCzgMnDQpk8LJSK6hq+2HecFd9n8+G2bJZ+d5RAbzemjwxj1qhwLhoYhNnkIr9RCNGCrjifca9evdi7d2+79ythLISLSvJJYvHxxWzI2UBSRBIAHlYzl40I5bIRjmBO33OMldtzeG9LFm9+c4RgHzcuHxnOzJhwxvQPlGAWLk3mMz5DwlgIFxXjFYO/uz/L9y13hnF9HlYz00eGMX1kGOVVNazdk8/K73N4Z9NR/rPhMCG+7swY5Qjm0X0DMEkwd3ttufRHdKy2no8lYSyEi7IqK7MHzmbpnqUUVhQS6BHYbFtPNzMzRoUzY1Q4ZZV2PtvtCOb/fnuExV8dIszPwxnMCX17yX/Y3ZCHhwcFBQUEBQXJ36/BtNYUFBTg4eHR6vdIGAvhwlKiUng943U+/OFDboi+oVXv8Xa3MDs2gtmxEZRW2vlfRh4rvs/h9Q2HeW39QWy9PJkxKoyZMRHERvrLf9zdRGRkJJmZmRw7dszoUppUUVHRpnDq6jw8PIiMjGx1ewljIVxYVEAUMb1jWL5vOT8Z8ZM2B6ePu4W5cTbmxtkorqhmza48Vn6fw+KvDvHKFweJDPBkZkw4s0ZFMNLmJ8HchVmtVudtHF1Reno68fHxRpfhsiSMhXBxqVGpPPDVA2w7to24kLjz7sfPw0pKQiQpCZGcLK9m9c5cVm7P4dUvDvLy5wfoF+TFzLpD2SPCJZiF6EwSxkK4uOn9p/PYt4+xbN+yCwrj+vw9rVyZ2IcrE/tw4lQVn+zMZcX3Oby87gD/SP+BgcHezIxxBPPQUF8JZiE6mISxEC7Oy+rF5QMuZ9XBVSwcsxAfN5927b+XlxtXj+nL1WP6UlBaySc781i5PZsX1u7nuc/2MzjEh5mjwpkVE05UaPe5g5IQrkTCWIguIDUqlWX7lrHq4CquGnpVh20nyMeday/qy7UX9eVYSSUf78xl5ffZPPvZPp753z6GhPowKyaCmTHhDOrdvr8UCNGTSRgL0QWMDB5JVEAUy/ct79Awrq+3rzvXj+vH9eP6kV9cwUc7cln5fQ5/X7OXv326l2FhvsyOjWDmqHD6B3u33KEQolkSxkJ0AUopUqNS+eu3f2V34W6GBbZu9pv2EuLnwQ1J/bkhqT+5JytYtT2HldtzeOKTPTzxyR6iI/yYGRPONWP6Eujt1qm1CdEdyN3lhegiZg2chZvJjeX7lhtaR5i/Bz+9eADLfp7EV7+fzB9nDsdqNvH4x3v4xZubDa1NiK5KwliILsLf3Z9L+13KigMrqLBXGF0OABG9PLnlRwN5744J/PqyIXz1QwFHC7vNxOJCdBoJYyG6kNSoVEqqSvj08KdGl9JIyuhIlILlm7OMLkWILkfCWIguJDEskT6+fQw/VN0UWy9Pxg8MYvmWzDbfJF+Ink7CWIguxKRMpESlsDFvI4dOHjK6nEZSEiI5XHCKTYeLjC5FiC5FwliILmbuoLmYlZm0/WlGl9LI5SPD8HIzs2xzptGlCNGlSBgL0cX09urNxMiJvL//faprq40upwFvdwvTR4ax4vscKqprjC5HiC5DwliILig1KpWCigLWHV1ndCmNpCZEUlJh59NdeUaXIkSXIWEsRBc0wTaBEM8Qlu1bZnQpjYwfGESEv4ccqhaiDVoMY6VUH6XUWqVUhlJqp1Lq/5poo5RSzyql9iulvldKJXRMuUIIAIvJwryoeazPXk9uWa7R5TRgMinmJ9hYt/cY+SWucT20EK6uNSNjO/BrrfVwYBxwh1JqxFltLgei6r4WAC+2a5VCiEbmD55Pra7lvf3vGV1KIykJkdRqeH9LttGlCNEltBjGWuscrfXmuuclQAZgO6vZXGCJdtgA9FJKhbd7tUIIp0jfSMaFjyNtXxq1utbochoY1NuHuD69WLZZrjkWojXa9JmxUqo/EA98c9YqG3C03utMGge2EKKdpUalkl2WzYbsDUaX0kjq6Eh255awK6fY6FKEcHmtnrVJKeUDLAPu1Fqf/a9LNfGWRr8OK6UW4DiMTWhoKOnp6a2vtAWlpaXt2p9onuzrztGa/WzWZrxN3rz01UtU9a7qnMJaKaBKY1HwzPsbuHa4u9HlNEt+njuH7Odza1UYK6WsOIL4Da11U/fhywT61HsdCTT6sEhrvQhYBJCYmKiTk5PbWm+z0tPTac/+RPNkX3eO1u7nLd9t4b+7/0vMuBgCPQI7vrA2WJm/ie8OFfLCjyZiNbvmxRvy89w5ZD+fW2vOplbAq0CG1vpvzTT7APhJ3VnV44CTWuucdqxTCNGMlMEp2GvtfPjDh0aX0khKQiTHS6tYt/eY0aUI4dJa86vqBOB6YLJSamvd1wyl1G1Kqdvq2qwCDgD7gVeA2zumXCHE2QYHDCa2dyzL9i1zuZOlkof2JsjbTa45FqIFLR6m1lp/SdOfCddvo4E72qsoIUTbpEalcv9X97P12FbiQ+KNLsfJajYxJy6CNzYc4eSpavy9rEaXJIRLcs0PcYQQbTKt/zS8LF4s2+t6d+RKTYikqqaWD7+Xa46FaI6EsRDdgJfVixkDZ7D68GpKqkqMLqeB6Ag/hob6yqFqIc5BwliIbiI1KpVyezkfHfzI6FIaUEqROtrGliMnOHCs1OhyhHBJEsZCdBPRQdEMCRjikpNHzIuzYVKwfHOW0aUI4ZIkjIXoJpRSpESlsKtgFxkFGUaX00CInwc/iupN2pYsamtd64xvIVyBhLEQ3cisgbNwM7mxfF9T9+YxVuroSLJOlLPhYIHRpQjhciSMhehG/N39uaz/Zaw8sJIKu2tNXzh1RCi+7haWbZJD1UKcTcJYiG4mNSqVkuoSPj38qdGlNOBhNTMzJpyPduRQVmk3uhwhXIqEsRDdTGJoIn19+7rkiVypoyM5VVXDJztzjS5FCJciYSxEN6OUYn7UfDblbeLQyUNGl9NAYr8A+gZ6yTXHQpxFwliIbmjuoLmYlZnl+13rRC6lFCkJNr76oYDsE+VGlyOEy5AwFqIb6u3Vm0mRk3h///tU11YbXU4DKfGRaA1pW+RELiFOkzAWoptKHZJKYUUhnx/93OhSGugb5MXY/oEs25zpcrNMCWEUCWMhuqmkiCRCvEJc9EQuGweOlbEt86TRpQjhEiSMheimLCYL8wbPY33WenLLXOvs5ctHheNuMbFsk5zIJQRIGAvRrc0fPB+NJm1/mtGlNODnYWVadBgfbMum0l5jdDlCGE7CWIhuLNI3kvHh40nbl0ZNrWuFXuroSE6WV7N2d77RpQhhOAljIbq5lCEp5JTlsCFng9GlNHDx4GBCfN15V26PKYSEsRDd3eQ+k+nl3svlTuQymxTz422k78mnoLTS6HKEMJSEsRDdnJvZjdmDZrP26FoKyl1rxqSUhEjstZoPtmUbXYoQhpIwFqIHSI1KxV5rZ8WBFUaX0sDQMF9G2vzk9piix5MwFqIHGNRrEHG941i2b5nL3WgjNSGSHVnF7MktMboUIQwjYSxED5ESlcLBkwfZkr/F6FIamBMbgcWkWC6jY9GDSRgL0UNM6z8Nb6u3y53IFeTjTvLQENK2ZGGvqTW6HCEMIWEsRA/hZfXi8gGXs/rQakqqXOuQ8BWjbeSXVPLl/uNGlyKEISSMhehBUqNSqaip4KODHxldSgOXDAvB39PK8s1yzbHomSSMhehBooOiGRow1OUOVbtbzMyJjeCTnbkUV7jWlI9CdAYJYyF6EKUUKVEp7CrYRUZBhtHlNJA6OpJKey0fbc8xuhQhOp2EsRA9zMyBM3Ezubnc6Dg20p+Bvb1ZJrfHFD2QhLEQPYy/uz+X9b+MVQdWUW4vN7ocJ6UUqQmRfHuokCMFp4wuR4hOJWEsRA+UGpVKSXUJaw6vMbqUBubH21AKlm+Ra45FzyJhLEQPlBiaSF/fvi53qDqilydJg4JYvjnL5e4UJkRHkjAWogc6fSLXprxNHDx50OhyGkhNiORI4Sm+O1RkdClCdBoJYyF6qLmD52JWZtL2pRldSgPTR4bh5WaW22OKHkXCWIgeKtgzmEmRk3j/h/eprnGda3u93CxcPjKcld/nUFFdY3Q5QnQKCWMherDUIakUVhTyeebnRpfSQOpoGyWVdj7ZmWt0KUJ0ihbDWCn1mlIqXym1o5n1yUqpk0qprXVf97d/mUKIjjAhYgIhXiEudyLXuAFB2Hp5yu0xRY/RmpHxYmB6C22+0FrH1X396cLLEkJ0BrPJzPzB81mftZ6cUte585XJpJgfb+OLfcfIK64wuhwhOlyLYay1XgcUdkItQggDzI+aD8B7+98zuJKGUhJs1Gp4b4uMjkX3116fGY9XSm1TSn2klIpupz6FEJ3A5mNjXPg40vanUVPrOidMDeztQ0LfXizbnCnXHItuT7Xmh1wp1R9YobUe2cQ6P6BWa12qlJoBPKO1jmqmnwXAAoDQ0NDRS5cuvYDSGyotLcXHx6fd+hPNk33dOTpzP28p28Jrx1/j9pDbGe45vFO22RqfHalmya4qHhzvQX9/c4dsQ36eO4fsZ4dLLrlkk9Y68ezlFxzGTbQ9BCRqrc85S3hiYqLeuHFji9turfT0dJKTk9utP9E82dedozP3c1VNFZe+cymJYYn8LflvnbLN1jh5qpoxf17DtRf15cE5HXPQTX6eO4fsZwelVJNhfMGHqZVSYUopVfd8bF2fBRfarxCi87iZ3Zg9aDZrj6yloNx1/vn6e1m5dEQIH2zLprqm1uhyhOgwrbm06b/A18BQpVSmUupmpWZ+wysAACAASURBVNRtSqnb6ppcAexQSm0DngWu0fIBjxBdTkpUCnZt58MfPjS6lAZSEyIpLKsifc8xo0sRosNYWmqgtf5xC+ufB55vt4qEEIYY1GsQcb3jWLZvGTdE30DdAS/DTRzSm2AfN5ZvzuSyEaFGlyNEh5A7cAkhnFKHpHKo+BBb8rcYXYqT1WxiTqyN/2Xkc+JUldHlCNEhJIyFEE5T+03F2+rtcnfkSh1to6qmlg+3ZRtdihAdQsJYCOHkZfVixoAZrD60muKqYqPLcYqO8GdYmC/L5PaYopuSMBZCNJAalUpFTQUfHfjI6FIaSE2IZOvRE/xwrNToUoRodxLGQogGRgSNYGjAUJc7VD03PgKzSbFsk8xzLLofCWMhRANKKVKHpJJRmMGugl1Gl+MU4uvBxKhg0rZkUVsrV0+K7kXCWAjRyIwBM3A3u7N833KjS2kgJSGSnJMVfH3AdW5MIkR7kDAWQjTi7+7PZf0uY+WBlZTby40ux+myEaH4eljkULXodiSMhRBNSolKobS6lE8Pf2p0KU4eVjOzYiL4aEcuZZV2o8sRot1IGAshmpQYmkg/v34s2+taJ3KlJtgor67hox25RpciRLuRMBZCNEkpRUpUCpvzN3Pw5EGjy3Ea3S+AfkFecqhadCsSxkKIZs0ZNAeLsrjUiVxKKVLiI/n6QAGZRaeMLkeIdiFhLIRoVrBnMJP6TOKDHz6guqba6HKcUhJsALy3Re7IJboHCWMhxDmlRKVQWFFIema60aU49Qn04qIBgSzbnIXM2Cq6AwljIcQ5TYiYQKhXqMvdkSs1IZKDx8vYcvSE0aUIccEkjIUQ52Q2mZkfNZ+vsr4ipzTH6HKcLh8VhofVJCdyiW5BwlgI0aJ5g+cBkLY/zeBKzvD1sDI9OowPt2VTaa8xuhwhLoiEsRCiRTYfG+MjxpO2P42aWtcJvpSESIor7PwvI9/oUoS4IBLGQohWSYlKIbcsl69zvja6FKcJg4MJ8/OQQ9Wiy5MwFkK0yiV9LiHAPcClrjk2mxTz4m2k7z3G8dJKo8sR4rxJGAshWsXN7MacQXNYe2QtBeWuM2tSaoKNmlrN+1uzjS5FiPMmYSyEaLWUqBTs2s4HP3xgdClOUaG+xET6y6Fq0aVJGAshWm1gr4HEh8SzfN9yl7rZRmpCJLtyisnIKTa6FCHOi4SxEKJNUqJSOFR8iM35m40uxWl2bARWs2L5Zhkdi65JwlgI0SZT+03Fx+rjUidyBXq7ccnQENK2ZGOvqTW6HCHaTMJYCNEmXlYvZgyYwepDqymucp3DwikJkRwvreSL/ceNLkWINpMwFkK0WcqQFCpqKlh1YJXRpThNHhZCgJdVTuQSXZKEsRCizUYEjmBY4DCXOlTtZjExJzaC1bvyOFnuOtM9CtEaEsZCiDZTSpESlUJGYQa7CnYZXY5TSkIkVfZaVm13nQkthGgNCWMhxHmZOXAm7mZ3lxodx0T6MzjERw5Viy5HwlgIcV783PyY2m8qKw+spNxebnQ5gGPEnpoQycbDRRwuKDO6HCFaTcJYCHHeUqJSKK0uZfWh1UaX4jQvPgKlYNnmLKNLEaLVJIyFEOdtdOho+vn1c6lD1eH+nlw8OJjlmzOprXWdu4QJcS4SxkKI83b6RK7N+Zs5cPKA0eU4pSZEkllUzneHCo0uRYhWkTAWQlyQOYPmYFEW0valGV2K09ToULzdzCyT22OKLkLCWAhxQYI9g0nuk8wHP3xAdY1rXN/r5WZhxqhwVm3PpbyqxuhyhGhRi2GslHpNKZWvlNrRzHqllHpWKbVfKfW9Uiqh/csUQriylKgUCisKWXt0rdGlOKWOjqS00s7qXblGlyJEi1ozMl4MTD/H+suBqLqvBcCLF16WEKIrSYpIItw7nMe+e4yNuRuNLgeAsf0DsfXy5F255lh0AS2GsdZ6HXCusyDmAku0wwagl1IqvL0KFEK4PrPJzNOXPI2H2YObV9/Mc1ueo7rW2EPWJpMiNcHG+v3HyT1ZYWgtQrSkPT4ztgFH673OrFsmhOhBRgSN4J3Z7zBn0BwWfb+IGz+6kaMlR1t+YweanxBJrYb3tso1x8K1WdqhD9XEsiYv7lNKLcBxKJvQ0FDS09PbYfMOpaWl7dqfaJ7s687RVffzFKYQEBzA0oKlpKSlcFXgVYzxGWNYPYN7mVjyxR6G1h5Bqcb/XXXV/dzVyH4+t/YI40ygT73XkUB2Uw211ouARQCJiYk6OTm5HTbvkJ6eTnv2J5on+7pzdOX9nEwy15Rewz1f3MOS/CUU+Bfwh4v+gK+bb6fXku15hHvTthMUFU9MZK9G67vyfu5KZD+fW3scpv4A+EndWdXjgJNaa5kyRYgeLsInglenvcodcXfw8cGPufLDK9mav7XT65gZE46bxcRyuT2mcGGtubTpv8DXwFClVKZS6mal1G1KqdvqmqwCDgD7gVeA2zusWiFEl2IxWbgt9jYWT18MwI0f38hL216iprbzrv3197Ry2YhQ3t+aRZW9ttO2K0RbtOZs6h9rrcO11latdaTW+lWt9Uta65fq1mut9R1a60Fa61Faa9e4rkEI4TLiQuJ4Z/Y7TOs/jRe2vsBPP/kpOaWddwDtioRIik5Vs3ZPfqdtU4i2kDtwCSE6ha+bL49NfIxHL36UPUV7SP0glY8Pfdwp2/5RVDDBPu4sl9tjChclYSyE6FSzB83mnVnvMMB/AL/9/Lfct/4+TlWf6tBtWswm5sVF8NnufIrKqjp0W0KcDwljIUSn6+PXh8WXL+bWUbfy/v73uWrFVew8vrNDt5k6OpLqGs2H3zd5sYcQhpIwFkIYwmqy8quEX/HqtFepsFfw/1b9P17d/iq1umNOshoe7sfwcD+Wye0xhQuSMBZCGGpM2BiWzVnGJX0v4enNT7Ng9QLyyvI6ZFupCTa2ZZ5kf35Jh/QvxPmSMBZCGM7f3Z+nJj3FQ0kP8f3x70n9MJX/Hflfu29nbpwNs0mxTK45Fi5GwlgI4RKUUqREpfDWrLeI8I7gzrV38qev/0S5vbzdttHb151JQ3qTtjmLmtom79orhCEkjIUQLmWA/wDemPEGN0XfxDt73+GaFdewu3B3u/WfmhBJbnEFX/1wvN36FOJCSRgLIVyO1Wzl7sS7WXTZIkqqSrh25bUs2bmkXU7umjI8BD8Pi9weUzRJa01tZSX2oiKqs7LQunOOoLTHRBFCCNEhxkeMZ9mcZdz/1f08sfEJvsr+ikcufoRgz+Dz7tPDamZWbARpm7N4eJ69HasVnUnX1lJ7qhxdforaU6eoLS93PJ4qp7b8FPr0srK6x7p2+lR5w/bl5Y629ZZRe+aXviEbN2L28e7w70fCWAjh0gI8Anj2kmd5e8/bPLHxCVI/SOXhCQ8zMXLiefeZmhDJm98cYdX2HELasVbhoLWG6mq03Y6uezQVFlL5ww+OsDx1yhGY9QO02WX1wrXeMl1R0aaalJsFk7sVk5sF5WbG5GbGZFVYrWDy06hAjclsxmT2xGSyY1LVmEyVKF0JSBgLIQRKKa4edjWjQ0ez8IuF3PG/O7h22LXcnXg37mb3NveX0LcXA4K9Wb45k9uGdEDBHURrTc2JE9ScOIGurga7/UzgVZ8Ovuoz6+oHYnW9tvXbVDUMzXOucz5WQYP+Gj5ib3zEoTeOGYXOyaQcgeluPROYbibMFjC5KUxetSizxmS2YjIpTKZqTKoKk6kKRTkmcy0mi8ZkcTwqi3a8NmvU2R/KKjO4+YCbF1i9wM0b3HzrPfd2PHdv+8/X+ZAwFkJ0GYMDBvPmzDd5etPTvJ7xOt/lfcfjP3qcwQGD29SPUoqUeBtPfbqX1EjPDqq2bbTW1BQWUp2biz0vz/GYm0d1bo7jMc/xWldWtts2ldWKslqh7lFZLGce655jtTjbmTzcUCZQJu34UrWgalGqBoUdpe0oZUfVVqGoQukqVG0l1FZQW30Kq6Uak6mqLjDPfCmLxmSuRZlBqbOKtHg6AtPNG6x1Ienm1fxzN5+6QG3ueV1bs1sTGzOOhLEQoktxN7uzcOxCxkeM577193HNymv4TeJvuHro1ag2/Oc6P8ERxusy7VyhdZve21a6tpaaggKqc/Ow5+U6HnNz6h5zqc5zPOrq6oZvtFiwhoRgCQvDMzoay+QpWMNCMQcEnAlSZ4DWBarV0ihYMWlUTXnd1ylUzSmoLkVVlkBlCVQWQ8VJx2NlCVQU1y0rPrO+qrTlb1SZwcMP3P3qHgPA3Rc8/Mg6Xkxw/6izRqM+ZwXtWc+tXmAyd8xfiouRMBZCdEkTIyeybM4y/rj+j/z5mz+zPms9D014iECPwFa9PzLAi0lDevPh3mPs/vs65ifYmBtnw9arbSNlXVOD/XiBI2RzcuuFbV3I5uRQfewYnB20VivW0FAsYaF4xsRgnTYVS2gYlrBQrGFhWEJDsQQFocx1YaQ1lORC0UHHY2XhmdAsrh+gJ+sFbN2ymlZMjmH1cgSnM0h9wTe87rm/M1Rx96v33P9MW3c/sHo2O9rcl56OLTm5Tfu2J5EwFkJ0WcGewfxjyj94I+MN/r7p76R+kMqfL/4zSRFJrXr/89fG8+Tb6ewss/L4x3t44pM9XDQgkJT4SKaPCsPXorAfO9b40HFeLvacurDNz4eamgb9Kjc3LGFhWEND8UwcjV+DkA3DGh7mGN2azvogs6YaThyBwoNwaANsPugI38KDUHQImrwBiqoXoHWPPiEQNLhhUHr4nxWkp5/XBa3Zen5/CaJdSBgLIbo0kzJx/YjrGRs2lt+t+x0/+/Rn3Bh9I7+K/xXWFgLGs7yUqVVH+HW/cI7VZLJv5w8ULM/E+q8CtlWcJLCiGNNZ15kqDw9HqIaF4T12rCN0w0KdIWsJC8Pcq1fzh70rSx0Bu3t9vaA9CIUH4GQm1L+W2uIJAf0hcAAMmux4DBwAfrYzwevm41KffYrzI2EshOgWhgYOZemspTz53ZMs3rmYb3K+4bGJjzHAfwAA2m6nct8+yrdto3zLVsq3bqXq8GECgdO3/+jv5UVUWBgVA0I5pAbyRaU7Ry2+VPQKYlRcFJdcPJLYEX0wnT2irU9rKDtWL2TPeiw71rC9Z6AjYCPHQszVEFAXuAEDwDdMgraHkDAWQnQbnhZP7ht/H0m2JJ749D7+8rdU/l/tWPodqaB8+3b0qVMAmIOC8IyLw/+KVPZWVpIwdSrWsDBMvr7OEW00MLWmlnV7j7F8SxYv7crj2dd3MCD4IPNjQ0kdBDadc1bYHnI8VpfVq0qBf6RjhDv08oZhGzjAcZhY9HgSxkKILk/b7VTu3esY9W7dSr+tW/n74SIAatTnHO7jR/85M/AffRGecbFYIyOdobsjPR2PIU1cbFxVhrXoEFM4yJT+B6ny/oHCo3ug6CBBX+ZjXX/mc2JtdkedPpzc/0cNw7ZXX7B0zrWqouuSMBZCdDn2wkLKt26lfKsjfMt37Dgz6g0OxjMuloArr8Q9JoZl5q08vfNFgjy/5i9j5jAmrM+Zjqor8Du5B77Pb3w4ubThnMpuHr0ICxwAw8ZT4tWHL4r9WXnUg/WFvhSaA0n2CyMlxsYlw0Jwt/SMy3FE+5EwFkK4NG23U7Fnj3PUW751G9VHjjhWWix4DBtGr5QUPGNj8YyPw2qzNTh56gbGkthvAgu/WMjNn9zMLaNu4edxP8dakg//mU/C8T2wpa6xbwQEDoSoyxofTvYMcPbpC0wGLtGandnFpG3J4v2t2azelYefh4WZMRGkJNgY3TcAk0k+8xUtkzAWQrgUe0FB41FvueOSHnPvYLzi4gi4+io8Y2PxiI7G5NnydcHRwdG8Pett/vrtX3ll+ytsOJrOY4f20efUCXYNv4sRl1wDAf0c18m2gVKKkTZ/Rtr8uefyYaz/oYC0zZm8tyWL/357hMgAT+bH25gXb2NQb5/z2h+iZ5AwFkIYRldXU7FnryN060a+1UePOlZaLHgMH06vK67AMy4Wz9g4rLaI875TlpfViz9N+BNJ3v3405a/c4Uf/GHCQnxLohkRMuyCvxeL2cSkIb2ZNKQ3ZZV2PtmZS9qWLF5Yu5/nPttPbKQ/8+NtzIqNINhHPkMWDUkYCyE6jf348bpRb93Id8cO5+w7lt698YyLI+Caa/CMqxv1eni0bwGZm5j+8Z+Idffk94Ni+MPOlxniMYTsjGwmREygn1+/drktpre7hZSESFISIskrruDDbdks35zFgx/u4uGVGUwa0pt58TamjgjFwyqfLwsJYyFEB9HV1VTs3tNw1JuZ6VhptTpGvVddiWdsLF5xcVgizn/U2yoH18F/fwzewYT/5H1e8+/D4p2LeeP7N/jrt38FwOZjY0LEBJJsSVwUdhE+bhd+aDnUz4NbfjSQW340kD25JXWfL2fx2e58fNwtXD4yjPnxNsYNDJLPl3swCWMhRLuoKS6m7JtvnOFbsWPnmVFvSIhj1HvttY5R74gR7T/qPZc9H8HbNzhOzvrJe+Abhhm4edTNDCoYxKDRg/gq6yu+zP6SFQdW8Pbet7EoC7EhsVxsu5ikiCSGBQ7D1GgevrYZGubL7y8fxu+mDWXDwQLSNmfx0Y5c3tmUSbi/B3PiIkiJj2RomG/7fN+iy5AwFkJcsOrsbA5dex323FzHqHfEcOdJVp5xcVjCwzt21Hsu29+FtJ9BWAz8v2Xg1XgiiT6+fbh62NVcPexqqmuq2XpsK+uz1rM+ez3PbH6GZzY/Q6BHIEkRSUywTWB8+HiCPIPOuySTSZE0KJikQcE8PG8kn+7KI21LFv/84iAvf36AEeF+zI+3MTcughC/TvylRRhGwlgIcUHsRUUcueVWaktL6fPKK3iNHYOpkyZkb9HG12DF3dBvAly71DEhQgusZitjwsYwJmwMd46+k+Plx/kq+ytHOGetZ8WBFQAMDxzuHDXHhsRiNZ3fRAseVjOzYyOYHRvB8dJKVmzLJm1LFn9elcFfPspgwuBg5sfbmBYdhre7/JfdXcnfrBDivNWWlXH0Z7dRnZlJ31f/ideYMUaXdMaXT8OaByBqGlz17zZftnRasGcwcwbNYc6gOdTqWjIKMvgy60u+yv6K13a8xivbX8Hb6s1FYRcxwTaBCbYJ2Hxs57ctH3dunDCAGycM4Idjpby3JYu0LVnc/fY2PK07mBYdyvyESCYMCsJivrBD5sK1SBgLIc6Lrqoi81f/R8WOHUQ+96zrBLHW8NnD8MVTMDIV5r/cbtMDmpSJ6OBoooOj+VnszyiuKubbnG+d4fzZ0c8A6O/X3xHMERNIDEvE09L2XwQG9fbh11OHcvdlQ9h4uIi0LVms2JbNe1uz8XYzMzjUl6gQH4aE+hAV6suQUF8i/D2M+zhAXBAJYyFEm+naWrJ/fw9l69cT/udH8J0yxeiSHGpr4aPfwXevwOgbYebfwNRxlw75uflxab9LubTfpWitOXjyIOuzHZ81v7v3Xd7IeAM3kxujQ0c7w3lQr0FtCkylFGP6BzKmfyAPzB7B2t35bDhQyN68Ej7fe4x3N2U6254O6SEhPkRJSHcpEsZCiDbRWpP350cpXrWK3r++m16pqUaX5FBjh/fvgO+XQtKv4LI/der0g0opBvYayMBeA7l+xPVU2CvYnLeZL7O/5Kusr3hy45M8yZOEeIUwIcJxOHtc+Dj83Vs/a5O7xcz0keFMHxnuXFZUVsW+/FL25pWwv+5x7Z5jvNNMSA8J9WVwqI+EtIuRMBZCtEnBSy9R9MYbBN54I0G33GJ0OQ72Snj3p7B7BUy+D370a8PnAfaweJBkSyLJlgRjILcs13mG9prDa0jbn4ZJmRgVPMoZztFB0ZjbOJIP8HZj7IBAxg5oeJZ4/ZDel1fCvvzSRiHt425hcIhP3eFuX+doWkK680kYCyFarWjpWxx75ln8584h5He/dY3/sCtL4a3r4EA6XP4EXLTA6IqaFOYdRuqQVFKHpGKvtbP9+HbnGdovbnuRf2z7B/7u/owPH++8hCrEK+S8t3eukN5bF8778krYm9e6kB4S6ku4hHSHkTAWQrRK8cefkPvQQ3hPmkj4I4+gTC5wNm95EbxxFWRthHkvQdyPja6oVSwmC/Eh8cSHxPOL+F9QVFHE19lfsz57PV9lf8XHhz4GICogiosjLibJlkRCSAJuZrcL3naAtxsXDQziooENr5MuLKtyhHN+KfudIZ3fZEgPCfUhKkRCuj1JGAshWlS2YQPZv/0tnnFxRD79NMraPmcnX5DSfPhPChzfA1ctgeGzja7ovAV4BDBj4AxmDJyB1pq9RXudZ2j/J+M//Gvnv/C0eDImbAxJEUnE9Y7Dz90PPzc/fKw+bT603ZTAVoT0vrwS9uWV8tnufN7e2HRIDwn1rXsuId0WrQpjpdR04BnADPxTa/3Xs9YnA+8DB+sWLdda/6kd6xRCGKR8x04yb78Dt/796PPiP1o1ZWGHO3EUlsyFkhy49i0YNNnoitqNUoqhgUMZGjiUm0fdzKnqU3ybe+byqXWZ6xq9x9vqja+br+PL6usM6vrLfN188XPzw8+93nI3X3ysPue8zWdrQ3pvXkmjkPZ1tzA41HG4m5IqigOyCff3IMzPg1A/D9wsLnB0xUW0GMZKKTPwAnAZkAl8p5T6QGu966ymX2itZ3VAjUIIg1QdOsTRBQsw9fKnzz//iblXL6NLguP7HUFcWQLXvwd9LzK6og7lZfUiuU8yyX2SAThSfIT9J/ZTWl1KcWUxJVUlFFc5HkuqSiipLiG3LJe9hXudr89FofCx+jjC+nRQW8+E9elQ93P3a7Q8OtKXsQMCG4x+Cxt9Ju0I6eOl1by9Z8uZ7SrHTU5Oh3O4vwfhvTzrvfYk1N8dd0vPmNWqNSPjscB+rfUBAKXUUmAucHYYCyG6keq8fI7cfAtoTd9/voo1NNTokiB3O/xnvuPGHjeugPAYoyvqdH39+tLXr2+r29fU1lBmLzsT1nXhfTrIS6obLi+pKuFo6VHnsrLqsnP2b1KmRqNv58g7wpfk/r7McfPj0L5sYoZeDPYgSsvcyC2uJOdEBTnFFRwqKOPrAwWUVNgb9R/s40aYvwdhfp5E9PIgzN+jLrAdr0P9PLrFNJStCWMbcLTe60ygqV9FxyultgHZwG+01jvboT4hhAFqios5euut1BQV0fff/8Z94ACjS4Ij38CbV4KbD/zkfQiOMrqiLsFsMjsOT7v5ndf77bV2yqrLGoy+m3t++vWh4kPO5eX2cmdf/93wbwC8LF5E+kYSGRjJqH6RXO4bSaRPJIHu4Sh7LwpKNTknK8g5UUFucTk5JyvILDrFtwcLKG4isAO93Qjz86gX1p6O0XWvM8893Vw7sJXW+twNlLoSmKa1vqXu9fXAWK31L+u18QNqtdalSqkZwDNa60b/UpRSC4AFAKGhoaOXLl3abt9IaWkpPj4XPveoaJns685h2H6uqiLg2WexHjzEiV/cQdXw4Z1fw1kCCrcycsejVLoHsS32ISo9zv+Sn7PJz3PHqtE1lNeWk1uSS7lbOQX2AgrsBRy3H3c+VutqZ3uFwt/sT5AliCBLEMGWYIItwY7n1mCstT6cqISiSk1BeS1FlZrCCk1RheOxsKKWsurGdXhbIdDDRKCHIsBDOR7dFUGeJgLcHa/dLR1/stkll1yySWudePby1oTxeOBBrfW0utf3AGit/3KO9xwCErXWx5trk5iYqDdu3Ni66lshPT2d5OTkdutPNE/2decwYj9ru53MX/6K0vR0bH97Cr/LL+/U7TcpYwW8exMED4Hr08Cn/YIY5Oe5szS3n7XWFFQUkFmSydGSo2SWZpJZUvdVmkn+qfwG7T3MHo5RtU+k49E3EpuPjUifSGy+NjwtnpRX1ZBbXEHOyfK60bXjee7JCrLrXheWVTWqxc/DQkQvzwaHwm/+0QB82nG2LKVUk2Hcmi18B0QppQYAWcA1wLVndR4G5GmttVJqLGACCi68bCFEZ9Fak3Pf/ZSuXUvYA/e7RhBvWwrv3Q62BLjuHfAMMLoi0c6UUgR7BhPsGUxcSFyj9ZU1lWSVZpFVktUoqL/N/ZZT9lMN2gd7BjcI6kj/SMZFOsK7t1dv55njFdU15BWfDmfHofAzYV3OjqyTHC+tYsHEgZ2yH1oMY621XSn1C+ATHJc2vaa13qmUuq1u/UvAFcDPlVJ2oBy4Rrc05BZCuJRjTz3FybQ0gn/xCwJ+7AI3z/j2FVj1GxgwCa55E9zlUHJP5G52Z6D/QAb6Nw5FrTVFlUUNAvr046a8Taw6uIpaXets72ZyI8InotHIekS/SKb6RuJt9W7Qf6W9ptPO5m7V2FtrvQpYddayl+o9fx54vn1LE0J0loJXX6Pgn68ScO2PCb7jdmOL0dox/eFnD8PQmXDFa2D1MLYm4ZKUUgR6BBLoEUhM78Zn1lfXVJNTltMoqDNLMtmav5XS6tIG7QM9Ap2Hu0+H9fT+0/GyenX49yJ34BKihzuR9h75TzyB7+XTCf3DH4y9Y5LWsOYBWP8MxFwNc19ot7mIRc9jNVubvRRMa01xVbHjs+rSo87RdVZpFtuPbWf1odXU6Bqm95/eKbVKGAvRg5WsXUvOH/+Id9J4Ih57DGU28PKP2hpY+WvY9C9IvBlmPAmucP9r0S0ppfB398ff3Z/o4OhG6+21dvJO5XXKqBgkjIXosU5t2kTWnXfhMXw4tmefw+R24ZMQnLeaaki7DXa8CxffDVPuN3wKRNGzWUwWbD62zttep21JCOEyKvbs5ejPb8caHk6fRS9j9vFu+U0dpboc3rkR9n4Mlz4IF99lXC1CGETCWIgepiozi6O33ILJw4O+r/4TS2Bgy2/qKJUl8N8fw6EvYeZTMOYW42oRwkASxkL0IPaCAo7efDO1VVX0f/0/WG2ddxiukVOF8Hoq5GyDlEUQc5VxtQhhMAljIXqImtJSjt66c53kaAAACiBJREFUgOq8PPq+9hruUQbe27kk1zHhQ8EPcPXrMGyGcbUI4QIkjIXoAWqrqsj8xS+p2LOHPv94Aa+EeOOKKTrsmAKxNN9xV62Bk4yrRQgXIWEsRDena2rI/u3vOLVhAxGP/RWfSQaG37E9sGQeVJ+CGz6AyEa36BWiR5IwFqIb01qT+6eHKfnkE0IWLsR/7lzjisneCq+ngDLDjSshbKRxtQjhYuSKeiG6sePPPc+Jt94i6NZbCLrpRuMKOfw1/Hs2WL3gpx9LEAtxFgljIbqpwjfe+P/t3X2MFPUdx/H3d2fheDhBwOfjeCqkQnyoD1UqxRJtqLZWm5q21lYbE0QtVa+aKNWklqZWTVp8aESC2KY+xCZS06rB2mgLWlu0rbZYpFZ64HEI9Yln0GN3vv1jBnZvb4E9bm/ndvi8EjKzv5md+e4A+9mZ/e1veG/ePIZe+GUOv+665Ap589mos1bjkVEQj/hYcrWI9FEKY5EU2rJ4Mf/70a00nnUWR8+Zk9x40yt+A49eBIeNh8uehqEjk6lDpI9TGIukzLYXX2TdjbMZeMrJNM39KZZNqGvIqw/Dosug6RT41lPQeHgydYjUAYWxSIrsfO012q++hoZx42ieN4/MgIRuPbjsPvjtLBg3DS55HAYemkwdInVCvalFUuKj1lbWXj6T7PDhNN+/gGDIkNoX4Q5L74Alt8HEL8KFD0C2ofZ1iNQZhbFICuzasIG2GTMgCBj1wEL6HXFE7Ytwh2duhmX3wokXw/k/g0BvMSKV0P8UkTqX37SJthkzCDdvYfRDD9J/9Oja7dwdPmiF1c/Dyifhv8/BaVfAObfrXsQi3aAwFqlj4Y4drL3yKna91UbzwoUMmDSp93e6dQO0Lo0CePVS2Lw2aj/kmOgWiFNadC9ikW5SGIvUKd+1i/aWFnYuX07TXXcy+PTTemdHOzfCmhej4G1dCu+9EbUPHAZjpsKUa6OOWiPGK4RFDpDCWKQOeRjy9s03s/35Fzjqh3MYMn169TbesQPWLovPfpdGtzj0MBo9a/QZcNI3YOxn4KgTdClapEoUxiJ1xt1554472PLEkxze0sKwr/bwPsD5XbDulcKZb/vLkO+ATBZGfhLOvCG6s1LTqZDtX50XISKdKIxF6sz79y/kg18+yLBLL2HEFTO7v4EwhHdWFM583/ozdGwDDI46Hk6/AsZOg1GToaGx2uWLSBkKY5E6svGxx3h37lyGnHceR86eXdkwl3t6PMdnvmtegB3vR8tGjIcTvhad+Y6ZCoOG9+4LEJGyFMYidWLrs8+y4ZYfMHjqVI758a3Yvr6v3bK+0Nt59fOdezxPmB595zv2TBjaVJviRWSfFMYidWD7yy+z7rrrGXD8cYy8+y6sf8l3tzs3wpo/FX5yVNrj+dMtUQCrx7NIn6QwFunjPly5kvZvz6JfczPN8+eTGTQo6vHc9pfCma96PIvUNYWxSB/W0dZG2+UzyTQ2MmrOVWT/uSAKX/V4FkkVhbFIXxSGHLJuOW3fvxG2b2fU9M30e+pi1ONZJJ3SEca5Dvp1bIbt7yVdSfe5A955vtOUMm3l1u/BtsouY6/bGrrpdXirf5nthGXaSrdbbp0yUw/38TqK19nfdor2G+YgzIPno5/3eL6kLd95fq9tuaLn76UtzJXsp1zb3uvJfxQy7LnhdGwLGP2lgTRM/op6PIukWCrCeMfTD3HELbfzZtKFHCQOAVZlwMyxDGDRfDQFMo6VzGNxW6YwT8nzu2xrz3NL5s0h03mflim3/6I2dmez7clm3KLHZHAy8TQotHmmsMytMPWo0Ghb0bSwjJKpQWg4WfB+hc8ixZ9JQi/UFDrukN/2EbmtH9J8520M/NwFNfqbFZGkpCKMg+aJ5CeMZUgS92+tFiudsaK2TiuULLOu65TrLdul7UD343zw/kaGDR0KYYjnQzwMoxDJhxA/3t3uYdyWz0fLwxDPhZDP71mP4mVF84Rh19eRiN1XHErqyWajnxdls9GHhSADQQBBBgviZUGABUHJNAPZAMtEbba7LShsr38Q0DZhPBMVxCIHhVSEccMnzmDDVTdx7LRpSZdyUPjPkiUcV4NjHQV5FNrkcnFQ5+PwzkdtYYjncoVAz8fr5XJx8Ochn4t6FGcye8KvUzhm4iAMiqaZAMsG0XOyZYK1Bj2UVy1Z0uv7EJG+IRVhLOlkuwMUoKEh6XJERHqNfoAoIiKSMIWxiIhIwioKYzM7x8zeMLNVZja7zHIzs3vi5cvN7OTqlyoiIpJO+w1jMwuAe4FzgUnA181sUslq5wIT4j8zgfuqXKeIiEhqVXJmfBqwyt1b3b0D+BVQ+nuLC4AHPbIMONTMjq5yrSIiIqlUSRg3AWuLHrfHbd1dR0RERMqo5KdN5e635gewDmY2k+gyNsA2M3ujgv1X6jCgDsfDrEs61rWh41wbOs61oeMcGV2usZIwbgeaix6PBN4+gHVw9wXAggr22W1m9jd3P7U3ti2d6VjXho5zbeg414aO875Vcpn6r8AEMxtrZv2Bi4AnStZ5Arg07lU9Gdjs7uurXKuIiEgq7ffM2N1zZvYd4BkgAH7u7ivM7Mp4+XxgMfB5YBWwA7is90oWERFJl4qGw3T3xUSBW9w2v2jegVnVLa3beuXyt5SlY10bOs61oeNcGzrO+2DuXfpZiYiISA1pOEwREZGEpSKM9zdcp/ScmTWb2R/NbKWZrTCza5OuKc3MLDCzV83sqaRrSTMzO9TMFpnZv+N/259KuqY0MrPvxu8b/zKzR81sQNI19TV1H8YVDtcpPZcDrnf3icBkYJaOc6+6FliZdBEHgbuB37n7scCJ6JhXnZk1AdcAp7r7cUQdgS9Ktqq+p+7DmMqG65Qecvf17v5KPL+V6E1Lo6z1AjMbCXwBWJh0LWlmZkOAM4EHANy9w903JVtVamWBgWaWBQZRZhyKg10awlhDcdaYmY0BTgJeSraS1LoLuAEIky4k5cYB7wK/iL8SWGhmg5MuKm3cfR3wE6ANWE80DsXvk62q70lDGFc0FKdUh5k1Ar8GWtx9S9L1pI2ZnQe84+5/T7qWg0AWOBm4z91PArYD6nNSZWY2jOhq5VjgGGCwmX0z2ar6njSEcUVDcUrPmVk/oiB+xN0fT7qelJoCnG9ma4i+cjnLzB5OtqTUagfa3X33FZ5FROEs1fVZYLW7v+vuu4DHgTMSrqnPSUMYVzJcp/SQmRnRd2sr3X1u0vWklbt/z91HuvsYon/Lf3B3nUX0AnffAKw1s4/HTWcDrydYUlq1AZPNbFD8PnI26ijXRUUjcPVlexuuM+Gy0mgKcAnwmpn9I267KR6dTaReXQ08En+Qb0VD+Vadu79kZouAV4h+lfEqGo2rC43AJSIikrA0XKYWERGpawpjERGRhCmMRUREEqYwFhERSZjCWEREJGEKYxERkYQpjEVERBKmMBYREUnY/wEPZc8zla9ZugAAAABJRU5ErkJggg==\n",
      "text/plain": [
       "<Figure size 576x360 with 1 Axes>"
      ]
>>>>>>> bbad9a972c62fcfddba440c47dde23bcc997ae9e
     },
     "metadata": {
      "needs_background": "light"
     },
     "output_type": "display_data"
    }
   ],
   "source": [
    "def plot_learning_curves(history):\n",
    "    pd.DataFrame(history.history).plot(figsize=(8, 5))\n",
    "    plt.grid(True)\n",
    "    plt.gca().set_ylim(0, 3)\n",
    "    plt.show()\n",
    "\n",
    "plot_learning_curves(history)"
   ]
  },
  {
   "cell_type": "code",
   "execution_count": 10,
   "metadata": {},
   "outputs": [
    {
     "name": "stdout",
     "output_type": "stream",
<<<<<<< HEAD
     "text": "(10000,)\n5000/5000 [==============================] - 1s 122us/sample - loss: 2.3024 - accuracy: 0.1014\n"
=======
     "text": [
      "(10000,)\n",
      "5000/5000 [==============================] - 1s 119us/sample - loss: 8.8059 - accuracy: 0.1018\n"
     ]
    },
    {
     "data": {
      "text/plain": [
       "[8.805856645965576, 0.1018]"
      ]
     },
     "execution_count": 10,
     "metadata": {},
     "output_type": "execute_result"
>>>>>>> bbad9a972c62fcfddba440c47dde23bcc997ae9e
    }
   ],
   "source": [
    "print(y_test.shape)\n",
    "model.evaluate(x_test_scaled, y_test[:5000])"
   ]
  },
  {
   "cell_type": "code",
   "execution_count": null,
   "metadata": {},
   "outputs": [],
   "source": []
  }
 ],
 "metadata": {
  "file_extension": ".py",
  "kernelspec": {
   "display_name": "Python 3.6.7 64-bit ('rec_env': virtualenv)",
   "language": "python",
   "name": "python36764bitrecenvvirtualenvc590a763a4564b6f98e8e2c90348aa96"
  },
  "language_info": {
   "codemirror_mode": {
    "name": "ipython",
    "version": 3
   },
   "file_extension": ".py",
   "mimetype": "text/x-python",
   "name": "python",
   "nbconvert_exporter": "python",
   "pygments_lexer": "ipython3",
<<<<<<< HEAD
   "version": "3.6.7-final"
=======
   "version": "3.6.7"
>>>>>>> bbad9a972c62fcfddba440c47dde23bcc997ae9e
  },
  "mimetype": "text/x-python",
  "name": "python",
  "npconvert_exporter": "python",
  "pygments_lexer": "ipython3",
  "version": 3
 },
 "nbformat": 4,
 "nbformat_minor": 2
<<<<<<< HEAD
}
=======
}
>>>>>>> bbad9a972c62fcfddba440c47dde23bcc997ae9e
